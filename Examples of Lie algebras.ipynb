{
 "cells": [
  {
   "cell_type": "code",
   "execution_count": 2,
   "id": "9c686f50",
   "metadata": {},
   "outputs": [],
   "source": [
    "from sympy import *\n",
    "from LieAlgebras5 import *"
   ]
  },
  {
   "cell_type": "markdown",
   "id": "16c782a2",
   "metadata": {},
   "source": [
    "**Lie Algebras**"
   ]
  },
  {
   "cell_type": "code",
   "execution_count": 3,
   "id": "c9b71715",
   "metadata": {},
   "outputs": [],
   "source": [
    "def show_bra(la):\n",
    "    basis = la.basis_symbolic\n",
    "    dim = la.dimension\n",
    "    M = zeros(dim+1,dim+1)\n",
    "    for i in range(dim):\n",
    "        M[i+1,0] = M[0,i+1] = basis[i]\n",
    "    for i in range(dim):\n",
    "        for j in range(dim):\n",
    "    #         print(i,j)\n",
    "            M[i+1,j+1] = la(basis[i],basis[j])\n",
    "    display(M)"
   ]
  },
  {
   "cell_type": "code",
   "execution_count": 4,
   "id": "6b805fd9",
   "metadata": {},
   "outputs": [],
   "source": [
    "from tabulate import tabulate\n",
    "def show_bra_tab(la):\n",
    "    basis = la.basis_symbolic\n",
    "    dim = la.dimension\n",
    "    M = zeros(dim+1,dim+1)\n",
    "    for i in range(dim):\n",
    "        M[i+1,0] = M[0,i+1] = basis[i]\n",
    "    for i in range(dim):\n",
    "        for j in range(dim):\n",
    "    #         print(i,j)\n",
    "            M[i+1,j+1] = la(basis[i],basis[j])\n",
    "\n",
    "    M_list = [[M[i,j] for j in range(M.cols)] for i in range(M.rows)]\n",
    "    tabella = tabulate(M_list,headers=\"firstrow\", tablefmt=\"html\")\n",
    "    display(tabella)"
   ]
  },
  {
   "cell_type": "code",
   "execution_count": 13,
   "id": "5c13a8bb",
   "metadata": {},
   "outputs": [
    {
     "name": "stdout",
     "output_type": "stream",
     "text": [
      "Jacobi: True\n"
     ]
    },
    {
     "data": {
      "text/html": [
       "<table>\n",
       "<thead>\n",
       "<tr><th>0  </th><th>X  </th><th>Y  </th></tr>\n",
       "</thead>\n",
       "<tbody>\n",
       "<tr><td>X  </td><td>0  </td><td>-X </td></tr>\n",
       "<tr><td>Y  </td><td>X  </td><td>0  </td></tr>\n",
       "</tbody>\n",
       "</table>"
      ],
      "text/plain": [
       "'<table>\\n<thead>\\n<tr><th>0  </th><th>X  </th><th>Y  </th></tr>\\n</thead>\\n<tbody>\\n<tr><td>X  </td><td>0  </td><td>-X </td></tr>\\n<tr><td>Y  </td><td>X  </td><td>0  </td></tr>\\n</tbody>\\n</table>'"
      ]
     },
     "metadata": {},
     "output_type": "display_data"
    }
   ],
   "source": [
    "aff1 = LieAlgebra()\n",
    "aff1.name = 'Affine 1'\n",
    "aff1.basis_symbolic = ['X','Y']\n",
    "[X,Y] = aff1.basis_symbolic\n",
    "aff1.brackets.rules = {(X,Y):X}\n",
    "print(\"Jacobi:\",aff1.check_jacobi())\n",
    "show_bra_tab(aff1)"
   ]
  },
  {
   "cell_type": "markdown",
   "id": "b9004a98",
   "metadata": {},
   "source": [
    "See the Bianchi classification in \n",
    "https://en.wikipedia.org/wiki/Bianchi_classification"
   ]
  },
  {
   "cell_type": "code",
   "execution_count": 37,
   "id": "1a6bc03a",
   "metadata": {},
   "outputs": [
    {
     "name": "stdout",
     "output_type": "stream",
     "text": [
      "Jacobi: True\n"
     ]
    },
    {
     "data": {
      "text/html": [
       "<table>\n",
       "<thead>\n",
       "<tr><th>0  </th><th>X  </th><th>Y  </th><th>Z  </th></tr>\n",
       "</thead>\n",
       "<tbody>\n",
       "<tr><td>X  </td><td>0  </td><td>Z  </td><td>Y  </td></tr>\n",
       "<tr><td>Y  </td><td>-Z </td><td>0  </td><td>X  </td></tr>\n",
       "<tr><td>Z  </td><td>-Y </td><td>-X </td><td>0  </td></tr>\n",
       "</tbody>\n",
       "</table>"
      ],
      "text/plain": [
       "'<table>\\n<thead>\\n<tr><th>0  </th><th>X  </th><th>Y  </th><th>Z  </th></tr>\\n</thead>\\n<tbody>\\n<tr><td>X  </td><td>0  </td><td>Z  </td><td>Y  </td></tr>\\n<tr><td>Y  </td><td>-Z </td><td>0  </td><td>X  </td></tr>\\n<tr><td>Z  </td><td>-Y </td><td>-X </td><td>0  </td></tr>\\n</tbody>\\n</table>'"
      ]
     },
     "metadata": {},
     "output_type": "display_data"
    }
   ],
   "source": [
    "# Bianchi Type IX\n",
    "so3 = LieAlgebra()\n",
    "so3.name = 'so(3)'\n",
    "so3.basis_symbolic = ['X','Y','Z']\n",
    "[X,Y,Z] = so3.basis_symbolic\n",
    "so3.brackets.rules = {(X,Y):-Z , (X,Z):Y , (Y,Z):-X }\n",
    "print(\"Jacobi:\",so3.check_jacobi())\n",
    "show_bra_tab(so3)"
   ]
  },
  {
   "cell_type": "code",
   "execution_count": 50,
   "id": "4b73164b",
   "metadata": {},
   "outputs": [
    {
     "data": {
      "text/plain": [
       "True"
      ]
     },
     "metadata": {},
     "output_type": "display_data"
    },
    {
     "data": {
      "text/plain": [
       "True"
      ]
     },
     "metadata": {},
     "output_type": "display_data"
    },
    {
     "data": {
      "text/plain": [
       "True"
      ]
     },
     "metadata": {},
     "output_type": "display_data"
    }
   ],
   "source": [
    "# The Lie algebra so3 can be represented also as matrices:\n",
    "E3 = zeros(3)\n",
    "E3[0,1] = -1\n",
    "E3[1,0] = 1\n",
    "E2 = zeros(3)\n",
    "E2[0,2] = -1\n",
    "E2[2,0] = 1\n",
    "E1 = zeros(3)\n",
    "E1[1,2] = -1\n",
    "E1[2,1] = 1\n",
    "def br(A,B):\n",
    "    return A*B-B*A\n",
    "display(br(E1,E2) == -E3)\n",
    "display(br(E1,E3) == E2)\n",
    "display(br(E2,E3) == -E1)"
   ]
  },
  {
   "cell_type": "code",
   "execution_count": 75,
   "id": "835c13bc",
   "metadata": {},
   "outputs": [
    {
     "name": "stdout",
     "output_type": "stream",
     "text": [
      "Jacobi: True\n"
     ]
    },
    {
     "data": {
      "text/html": [
       "<table>\n",
       "<thead>\n",
       "<tr><th>0  </th><th>X  </th><th>Y   </th><th>Z  </th></tr>\n",
       "</thead>\n",
       "<tbody>\n",
       "<tr><td>X  </td><td>0  </td><td>Y   </td><td>-Z </td></tr>\n",
       "<tr><td>Y  </td><td>-Y </td><td>0   </td><td>2*X</td></tr>\n",
       "<tr><td>Z  </td><td>Z  </td><td>-2*X</td><td>0  </td></tr>\n",
       "</tbody>\n",
       "</table>"
      ],
      "text/plain": [
       "'<table>\\n<thead>\\n<tr><th>0  </th><th>X  </th><th>Y   </th><th>Z  </th></tr>\\n</thead>\\n<tbody>\\n<tr><td>X  </td><td>0  </td><td>Y   </td><td>-Z </td></tr>\\n<tr><td>Y  </td><td>-Y </td><td>0   </td><td>2*X</td></tr>\\n<tr><td>Z  </td><td>Z  </td><td>-2*X</td><td>0  </td></tr>\\n</tbody>\\n</table>'"
      ]
     },
     "metadata": {},
     "output_type": "display_data"
    }
   ],
   "source": [
    "# Bianchi Type VIII\n",
    "sl2 = LieAlgebra()\n",
    "sl2.name = 'sl(2)'\n",
    "sl2.basis_symbolic = ['X','Y','Z']\n",
    "[X,Y,Z] = sl2.basis_symbolic\n",
    "sl2.brackets.rules = {(X,Y):Y , (X,Z) : -Z , (Y,Z) : 2*X}\n",
    "print(\"Jacobi:\",sl2.check_jacobi())\n",
    "show_bra_tab(sl2)"
   ]
  },
  {
   "cell_type": "code",
   "execution_count": 74,
   "id": "cc0bf367",
   "metadata": {},
   "outputs": [
    {
     "data": {
      "text/latex": [
       "$\\displaystyle \\left[\\begin{matrix}\\frac{1}{2} & 0\\\\0 & - \\frac{1}{2}\\end{matrix}\\right]$"
      ],
      "text/plain": [
       "Matrix([\n",
       "[1/2,    0],\n",
       "[  0, -1/2]])"
      ]
     },
     "metadata": {},
     "output_type": "display_data"
    },
    {
     "data": {
      "text/latex": [
       "$\\displaystyle \\left[\\begin{matrix}0 & 1\\\\0 & 0\\end{matrix}\\right]$"
      ],
      "text/plain": [
       "Matrix([\n",
       "[0, 1],\n",
       "[0, 0]])"
      ]
     },
     "metadata": {},
     "output_type": "display_data"
    },
    {
     "data": {
      "text/latex": [
       "$\\displaystyle \\left[\\begin{matrix}0 & 0\\\\1 & 0\\end{matrix}\\right]$"
      ],
      "text/plain": [
       "Matrix([\n",
       "[0, 0],\n",
       "[1, 0]])"
      ]
     },
     "metadata": {},
     "output_type": "display_data"
    },
    {
     "data": {
      "text/plain": [
       "True"
      ]
     },
     "metadata": {},
     "output_type": "display_data"
    },
    {
     "data": {
      "text/plain": [
       "True"
      ]
     },
     "metadata": {},
     "output_type": "display_data"
    },
    {
     "data": {
      "text/plain": [
       "True"
      ]
     },
     "metadata": {},
     "output_type": "display_data"
    }
   ],
   "source": [
    "# The Lie algebra sl2 can be represented also as matrices:\n",
    "E1 = zeros(2)\n",
    "E1[0,0] = Rational(1,2)\n",
    "E1[1,1] = - Rational(1,2)\n",
    "display(E1)\n",
    "\n",
    "E2 = zeros(2)\n",
    "E2[0,1] = 1\n",
    "display(E2)\n",
    "\n",
    "E3 = zeros(2)\n",
    "E3[1,0] = 1\n",
    "display(E3)\n",
    "\n",
    "def br(A,B):\n",
    "    return A*B-B*A\n",
    "\n",
    "display(br(E1,E2) == E2)\n",
    "display(br(E1,E3) == -E3)\n",
    "display(br(E2,E3) == 2*E1)"
   ]
  },
  {
   "cell_type": "markdown",
   "id": "7976895a",
   "metadata": {},
   "source": [
    "**Dimension 3**"
   ]
  },
  {
   "cell_type": "code",
   "execution_count": 4,
   "id": "c049ae87",
   "metadata": {
    "scrolled": true
   },
   "outputs": [
    {
     "name": "stdout",
     "output_type": "stream",
     "text": [
      "Jacobi: True\n"
     ]
    },
    {
     "data": {
      "text/html": [
       "<table>\n",
       "<thead>\n",
       "<tr><th>0  </th><th>X  </th><th>Y  </th><th style=\"text-align: right;\">  Z</th></tr>\n",
       "</thead>\n",
       "<tbody>\n",
       "<tr><td>X  </td><td>0  </td><td>Z  </td><td style=\"text-align: right;\">  0</td></tr>\n",
       "<tr><td>Y  </td><td>-Z </td><td>0  </td><td style=\"text-align: right;\">  0</td></tr>\n",
       "<tr><td>Z  </td><td>0  </td><td>0  </td><td style=\"text-align: right;\">  0</td></tr>\n",
       "</tbody>\n",
       "</table>"
      ],
      "text/plain": [
       "'<table>\\n<thead>\\n<tr><th>0  </th><th>X  </th><th>Y  </th><th style=\"text-align: right;\">  Z</th></tr>\\n</thead>\\n<tbody>\\n<tr><td>X  </td><td>0  </td><td>Z  </td><td style=\"text-align: right;\">  0</td></tr>\\n<tr><td>Y  </td><td>-Z </td><td>0  </td><td style=\"text-align: right;\">  0</td></tr>\\n<tr><td>Z  </td><td>0  </td><td>0  </td><td style=\"text-align: right;\">  0</td></tr>\\n</tbody>\\n</table>'"
      ]
     },
     "metadata": {},
     "output_type": "display_data"
    }
   ],
   "source": [
    "# dimension = 3\n",
    "# Bianchi Type II\n",
    "# Heisenberg group N_{3,2}\n",
    "heis = LieAlgebra()\n",
    "heis.name = 'Heisenberg'\n",
    "heis.basis_symbolic = ['X','Y','Z']\n",
    "[X,Y,Z] = heis.basis_symbolic\n",
    "heis.brackets.rules = {(X,Y):Z}\n",
    "print(\"Jacobi:\",heis.check_jacobi())\n",
    "heis.declare_stratified(growth_vector = [2,1])\n",
    "show_bra_tab(heis)"
   ]
  },
  {
   "cell_type": "markdown",
   "id": "09700a64",
   "metadata": {},
   "source": [
    "**Dimension 4**"
   ]
  },
  {
   "cell_type": "code",
   "execution_count": 15,
   "id": "b1d7e052",
   "metadata": {},
   "outputs": [
    {
     "data": {
      "text/html": [
       "<table>\n",
       "<thead>\n",
       "<tr><th>0  </th><th>X  </th><th>Y  </th><th>Z  </th><th style=\"text-align: right;\">  T</th></tr>\n",
       "</thead>\n",
       "<tbody>\n",
       "<tr><td>X  </td><td>0  </td><td>Z  </td><td>T  </td><td style=\"text-align: right;\">  0</td></tr>\n",
       "<tr><td>Y  </td><td>-Z </td><td>0  </td><td>0  </td><td style=\"text-align: right;\">  0</td></tr>\n",
       "<tr><td>Z  </td><td>-T </td><td>0  </td><td>0  </td><td style=\"text-align: right;\">  0</td></tr>\n",
       "<tr><td>T  </td><td>0  </td><td>0  </td><td>0  </td><td style=\"text-align: right;\">  0</td></tr>\n",
       "</tbody>\n",
       "</table>"
      ],
      "text/plain": [
       "'<table>\\n<thead>\\n<tr><th>0  </th><th>X  </th><th>Y  </th><th>Z  </th><th style=\"text-align: right;\">  T</th></tr>\\n</thead>\\n<tbody>\\n<tr><td>X  </td><td>0  </td><td>Z  </td><td>T  </td><td style=\"text-align: right;\">  0</td></tr>\\n<tr><td>Y  </td><td>-Z </td><td>0  </td><td>0  </td><td style=\"text-align: right;\">  0</td></tr>\\n<tr><td>Z  </td><td>-T </td><td>0  </td><td>0  </td><td style=\"text-align: right;\">  0</td></tr>\\n<tr><td>T  </td><td>0  </td><td>0  </td><td>0  </td><td style=\"text-align: right;\">  0</td></tr>\\n</tbody>\\n</table>'"
      ]
     },
     "metadata": {},
     "output_type": "display_data"
    }
   ],
   "source": [
    "# dimension = 4\n",
    "# Engel algebra N_{4,2}\n",
    "engel = LieAlgebra()\n",
    "engel.name = 'Engel'\n",
    "engel.basis_symbolic = ['X','Y','Z','T']\n",
    "[X,Y,Z,T] = engel.basis_symbolic\n",
    "engel.brackets.rules = {(X,Y):Z, (X,Z):T}\n",
    "engel.declare_stratified(growth_vector = [2,1,1])\n",
    "show_bra_tab(engel)"
   ]
  },
  {
   "cell_type": "markdown",
   "id": "2290d392",
   "metadata": {},
   "source": [
    "**Dimension 5**"
   ]
  },
  {
   "cell_type": "code",
   "execution_count": 6,
   "id": "55540e91",
   "metadata": {},
   "outputs": [
    {
     "data": {
      "text/html": [
       "<table>\n",
       "<thead>\n",
       "<tr><th>0  </th><th>X1  </th><th>Y1  </th><th>X2  </th><th>Y2  </th><th style=\"text-align: right;\">  Z</th></tr>\n",
       "</thead>\n",
       "<tbody>\n",
       "<tr><td>X1 </td><td>0   </td><td>Z   </td><td>0   </td><td>0   </td><td style=\"text-align: right;\">  0</td></tr>\n",
       "<tr><td>Y1 </td><td>-Z  </td><td>0   </td><td>0   </td><td>0   </td><td style=\"text-align: right;\">  0</td></tr>\n",
       "<tr><td>X2 </td><td>0   </td><td>0   </td><td>0   </td><td>Z   </td><td style=\"text-align: right;\">  0</td></tr>\n",
       "<tr><td>Y2 </td><td>0   </td><td>0   </td><td>-Z  </td><td>0   </td><td style=\"text-align: right;\">  0</td></tr>\n",
       "<tr><td>Z  </td><td>0   </td><td>0   </td><td>0   </td><td>0   </td><td style=\"text-align: right;\">  0</td></tr>\n",
       "</tbody>\n",
       "</table>"
      ],
      "text/plain": [
       "'<table>\\n<thead>\\n<tr><th>0  </th><th>X1  </th><th>Y1  </th><th>X2  </th><th>Y2  </th><th style=\"text-align: right;\">  Z</th></tr>\\n</thead>\\n<tbody>\\n<tr><td>X1 </td><td>0   </td><td>Z   </td><td>0   </td><td>0   </td><td style=\"text-align: right;\">  0</td></tr>\\n<tr><td>Y1 </td><td>-Z  </td><td>0   </td><td>0   </td><td>0   </td><td style=\"text-align: right;\">  0</td></tr>\\n<tr><td>X2 </td><td>0   </td><td>0   </td><td>0   </td><td>Z   </td><td style=\"text-align: right;\">  0</td></tr>\\n<tr><td>Y2 </td><td>0   </td><td>0   </td><td>-Z  </td><td>0   </td><td style=\"text-align: right;\">  0</td></tr>\\n<tr><td>Z  </td><td>0   </td><td>0   </td><td>0   </td><td>0   </td><td style=\"text-align: right;\">  0</td></tr>\\n</tbody>\\n</table>'"
      ]
     },
     "metadata": {},
     "output_type": "display_data"
    }
   ],
   "source": [
    "# dimension = 5\n",
    "# Second Heisenberg group\n",
    "heis2 = LieAlgebra()\n",
    "heis2.name = 'Heisenberg 2'\n",
    "heis2.basis_symbolic = ['X1','Y1','X2','Y2','Z']\n",
    "[X1,Y1,X2,Y2,Z] = heis2.basis_symbolic\n",
    "heis2.brackets.rules = {(X1,Y1):Z, (X2,Y2):Z}\n",
    "heis2.declare_stratified(growth_vector = [4,1])\n",
    "show_bra_tab(heis2)"
   ]
  },
  {
   "cell_type": "markdown",
   "id": "55c000e3",
   "metadata": {},
   "source": [
    "**3. 5D indecomposable nilpotent Lie algebras**"
   ]
  },
  {
   "cell_type": "code",
   "execution_count": 5,
   "id": "5c82bc1f",
   "metadata": {},
   "outputs": [
    {
     "data": {
      "text/html": [
       "<table>\n",
       "<thead>\n",
       "<tr><th>0  </th><th>X1  </th><th>X2  </th><th>X3  </th><th>X4  </th><th style=\"text-align: right;\">  X5</th></tr>\n",
       "</thead>\n",
       "<tbody>\n",
       "<tr><td>X1 </td><td>0   </td><td>X3  </td><td>X4  </td><td>X5  </td><td style=\"text-align: right;\">   0</td></tr>\n",
       "<tr><td>X2 </td><td>-X3 </td><td>0   </td><td>X5  </td><td>0   </td><td style=\"text-align: right;\">   0</td></tr>\n",
       "<tr><td>X3 </td><td>-X4 </td><td>-X5 </td><td>0   </td><td>0   </td><td style=\"text-align: right;\">   0</td></tr>\n",
       "<tr><td>X4 </td><td>-X5 </td><td>0   </td><td>0   </td><td>0   </td><td style=\"text-align: right;\">   0</td></tr>\n",
       "<tr><td>X5 </td><td>0   </td><td>0   </td><td>0   </td><td>0   </td><td style=\"text-align: right;\">   0</td></tr>\n",
       "</tbody>\n",
       "</table>"
      ],
      "text/plain": [
       "'<table>\\n<thead>\\n<tr><th>0  </th><th>X1  </th><th>X2  </th><th>X3  </th><th>X4  </th><th style=\"text-align: right;\">  X5</th></tr>\\n</thead>\\n<tbody>\\n<tr><td>X1 </td><td>0   </td><td>X3  </td><td>X4  </td><td>X5  </td><td style=\"text-align: right;\">   0</td></tr>\\n<tr><td>X2 </td><td>-X3 </td><td>0   </td><td>X5  </td><td>0   </td><td style=\"text-align: right;\">   0</td></tr>\\n<tr><td>X3 </td><td>-X4 </td><td>-X5 </td><td>0   </td><td>0   </td><td style=\"text-align: right;\">   0</td></tr>\\n<tr><td>X4 </td><td>-X5 </td><td>0   </td><td>0   </td><td>0   </td><td style=\"text-align: right;\">   0</td></tr>\\n<tr><td>X5 </td><td>0   </td><td>0   </td><td>0   </td><td>0   </td><td style=\"text-align: right;\">   0</td></tr>\\n</tbody>\\n</table>'"
      ]
     },
     "metadata": {},
     "output_type": "display_data"
    }
   ],
   "source": [
    "# Dimension = 5\n",
    "# N_{5,1} non-stratifiable.\n",
    "# N_{5,1} by Gong in [Gon98], \n",
    "# L_{5,6} by de Graaf in [dG07],\n",
    "# (1) by Del Barco in [dB15], \n",
    "# G_{5,6} by Magnin in [Mag].\n",
    "n51 = la = LieAlgebra()\n",
    "la.name = 'N_{5,1}'\n",
    "la.basis_symbolic = ['X1','X2','X3','X4','X5']\n",
    "[X1,X2,X3,X4,X5] = la.basis_symbolic\n",
    "la.brackets.rules = {\\\n",
    "                     (X1,X2) : X3 , \\\n",
    "                     (X1,X3) : X4 , \\\n",
    "                     (X1,X4): X5,  \\\n",
    "                     (X2,X3) : X5 \\\n",
    "                    }\n",
    "la.declare_nilpotent(step = 4)\n",
    "show_bra_tab(la)"
   ]
  },
  {
   "cell_type": "code",
   "execution_count": 13,
   "id": "7d52cdb0",
   "metadata": {},
   "outputs": [
    {
     "data": {
      "text/html": [
       "<table>\n",
       "<thead>\n",
       "<tr><th>0  </th><th>X1  </th><th>X2  </th><th>X3  </th><th>X4  </th><th style=\"text-align: right;\">  X5</th></tr>\n",
       "</thead>\n",
       "<tbody>\n",
       "<tr><td>X1 </td><td>0   </td><td>X3  </td><td>X4  </td><td>X5  </td><td style=\"text-align: right;\">   0</td></tr>\n",
       "<tr><td>X2 </td><td>-X3 </td><td>0   </td><td>0   </td><td>0   </td><td style=\"text-align: right;\">   0</td></tr>\n",
       "<tr><td>X3 </td><td>-X4 </td><td>0   </td><td>0   </td><td>0   </td><td style=\"text-align: right;\">   0</td></tr>\n",
       "<tr><td>X4 </td><td>-X5 </td><td>0   </td><td>0   </td><td>0   </td><td style=\"text-align: right;\">   0</td></tr>\n",
       "<tr><td>X5 </td><td>0   </td><td>0   </td><td>0   </td><td>0   </td><td style=\"text-align: right;\">   0</td></tr>\n",
       "</tbody>\n",
       "</table>"
      ],
      "text/plain": [
       "'<table>\\n<thead>\\n<tr><th>0  </th><th>X1  </th><th>X2  </th><th>X3  </th><th>X4  </th><th style=\"text-align: right;\">  X5</th></tr>\\n</thead>\\n<tbody>\\n<tr><td>X1 </td><td>0   </td><td>X3  </td><td>X4  </td><td>X5  </td><td style=\"text-align: right;\">   0</td></tr>\\n<tr><td>X2 </td><td>-X3 </td><td>0   </td><td>0   </td><td>0   </td><td style=\"text-align: right;\">   0</td></tr>\\n<tr><td>X3 </td><td>-X4 </td><td>0   </td><td>0   </td><td>0   </td><td style=\"text-align: right;\">   0</td></tr>\\n<tr><td>X4 </td><td>-X5 </td><td>0   </td><td>0   </td><td>0   </td><td style=\"text-align: right;\">   0</td></tr>\\n<tr><td>X5 </td><td>0   </td><td>0   </td><td>0   </td><td>0   </td><td style=\"text-align: right;\">   0</td></tr>\\n</tbody>\\n</table>'"
      ]
     },
     "metadata": {},
     "output_type": "display_data"
    }
   ],
   "source": [
    "# Dimension = 5\n",
    "# N5,2,1 by Gong in [Gon98],\n",
    "# L5,7 by de Graaf in [dG07], \n",
    "# (2) by Del Barco in [dB15], \n",
    "# G5,5 by Magnin in [Mag].\n",
    "# the filiform Lie algebra of dimension 5\n",
    "n521 = la = LieAlgebra()\n",
    "la.name = 'N_{5,2,1}'\n",
    "la.basis_symbolic = ['X1','X2','X3','X4','X5']\n",
    "[X1,X2,X3,X4,X5] = la.basis_symbolic\n",
    "la.brackets.rules = {\\\n",
    "                     (X1,X2) : X3 ,\\\n",
    "                     (X1,X3) : X4 ,\\\n",
    "                     (X1,X4) : X5 \\\n",
    "                    }\n",
    "la.declare_stratified(growth_vector=[2,1,1,1])\n",
    "show_bra_tab(la)"
   ]
  },
  {
   "cell_type": "code",
   "execution_count": 14,
   "id": "9a0b481d",
   "metadata": {},
   "outputs": [
    {
     "data": {
      "text/html": [
       "<table>\n",
       "<thead>\n",
       "<tr><th>0  </th><th>X1  </th><th>X2  </th><th>X3  </th><th>X4  </th><th style=\"text-align: right;\">  X5</th></tr>\n",
       "</thead>\n",
       "<tbody>\n",
       "<tr><td>X1 </td><td>0   </td><td>X4  </td><td>0   </td><td>X5  </td><td style=\"text-align: right;\">   0</td></tr>\n",
       "<tr><td>X2 </td><td>-X4 </td><td>0   </td><td>X5  </td><td>0   </td><td style=\"text-align: right;\">   0</td></tr>\n",
       "<tr><td>X3 </td><td>0   </td><td>-X5 </td><td>0   </td><td>0   </td><td style=\"text-align: right;\">   0</td></tr>\n",
       "<tr><td>X4 </td><td>-X5 </td><td>0   </td><td>0   </td><td>0   </td><td style=\"text-align: right;\">   0</td></tr>\n",
       "<tr><td>X5 </td><td>0   </td><td>0   </td><td>0   </td><td>0   </td><td style=\"text-align: right;\">   0</td></tr>\n",
       "</tbody>\n",
       "</table>"
      ],
      "text/plain": [
       "'<table>\\n<thead>\\n<tr><th>0  </th><th>X1  </th><th>X2  </th><th>X3  </th><th>X4  </th><th style=\"text-align: right;\">  X5</th></tr>\\n</thead>\\n<tbody>\\n<tr><td>X1 </td><td>0   </td><td>X4  </td><td>0   </td><td>X5  </td><td style=\"text-align: right;\">   0</td></tr>\\n<tr><td>X2 </td><td>-X4 </td><td>0   </td><td>X5  </td><td>0   </td><td style=\"text-align: right;\">   0</td></tr>\\n<tr><td>X3 </td><td>0   </td><td>-X5 </td><td>0   </td><td>0   </td><td style=\"text-align: right;\">   0</td></tr>\\n<tr><td>X4 </td><td>-X5 </td><td>0   </td><td>0   </td><td>0   </td><td style=\"text-align: right;\">   0</td></tr>\\n<tr><td>X5 </td><td>0   </td><td>0   </td><td>0   </td><td>0   </td><td style=\"text-align: right;\">   0</td></tr>\\n</tbody>\\n</table>'"
      ]
     },
     "metadata": {},
     "output_type": "display_data"
    }
   ],
   "source": [
    "# Dimension = 5\n",
    "# N5,2,2 non-stratifiable. \n",
    "# N5,2,2 by Gong in [Gon98], \n",
    "# L5,5 by de Graaf in [dG07], \n",
    "# (4) by Del Barco in [dB15],\n",
    "# G5,3 by Magnin in [Mag].\n",
    "n522 = la = LieAlgebra()\n",
    "la.name = 'N_{5,2,2}'\n",
    "la.basis_symbolic = ['X1','X2','X3','X4','X5']\n",
    "[X1,X2,X3,X4,X5] = la.basis_symbolic\n",
    "la.brackets.rules = {\\\n",
    "                     (X1,X2) : X4 ,\\\n",
    "                     (X1,X4) : X5 ,\\\n",
    "                     (X2,X3) : X5 \\\n",
    "                    }\n",
    "la.declare_nilpotent(step=3)\n",
    "show_bra_tab(la)"
   ]
  },
  {
   "cell_type": "code",
   "execution_count": 15,
   "id": "c4b6936c",
   "metadata": {},
   "outputs": [
    {
     "data": {
      "text/html": [
       "<table>\n",
       "<thead>\n",
       "<tr><th>0  </th><th>X1  </th><th>X2  </th><th>X3  </th><th style=\"text-align: right;\">  X4</th><th style=\"text-align: right;\">  X5</th></tr>\n",
       "</thead>\n",
       "<tbody>\n",
       "<tr><td>X1 </td><td>0   </td><td>X3  </td><td>X4  </td><td style=\"text-align: right;\">   0</td><td style=\"text-align: right;\">   0</td></tr>\n",
       "<tr><td>X2 </td><td>-X3 </td><td>0   </td><td>X5  </td><td style=\"text-align: right;\">   0</td><td style=\"text-align: right;\">   0</td></tr>\n",
       "<tr><td>X3 </td><td>-X4 </td><td>-X5 </td><td>0   </td><td style=\"text-align: right;\">   0</td><td style=\"text-align: right;\">   0</td></tr>\n",
       "<tr><td>X4 </td><td>0   </td><td>0   </td><td>0   </td><td style=\"text-align: right;\">   0</td><td style=\"text-align: right;\">   0</td></tr>\n",
       "<tr><td>X5 </td><td>0   </td><td>0   </td><td>0   </td><td style=\"text-align: right;\">   0</td><td style=\"text-align: right;\">   0</td></tr>\n",
       "</tbody>\n",
       "</table>"
      ],
      "text/plain": [
       "'<table>\\n<thead>\\n<tr><th>0  </th><th>X1  </th><th>X2  </th><th>X3  </th><th style=\"text-align: right;\">  X4</th><th style=\"text-align: right;\">  X5</th></tr>\\n</thead>\\n<tbody>\\n<tr><td>X1 </td><td>0   </td><td>X3  </td><td>X4  </td><td style=\"text-align: right;\">   0</td><td style=\"text-align: right;\">   0</td></tr>\\n<tr><td>X2 </td><td>-X3 </td><td>0   </td><td>X5  </td><td style=\"text-align: right;\">   0</td><td style=\"text-align: right;\">   0</td></tr>\\n<tr><td>X3 </td><td>-X4 </td><td>-X5 </td><td>0   </td><td style=\"text-align: right;\">   0</td><td style=\"text-align: right;\">   0</td></tr>\\n<tr><td>X4 </td><td>0   </td><td>0   </td><td>0   </td><td style=\"text-align: right;\">   0</td><td style=\"text-align: right;\">   0</td></tr>\\n<tr><td>X5 </td><td>0   </td><td>0   </td><td>0   </td><td style=\"text-align: right;\">   0</td><td style=\"text-align: right;\">   0</td></tr>\\n</tbody>\\n</table>'"
      ]
     },
     "metadata": {},
     "output_type": "display_data"
    }
   ],
   "source": [
    "# Dimension = 5\n",
    "# N5,2,3. \n",
    "# N5,2,3 by Gong in [Gon98], \n",
    "# L5,9 by de Graaf in [dG07], \n",
    "# (3) by Del Barco in [dB15], \n",
    "# G5,4 by Magnin in [Mag].\n",
    "# the free-nilpotent Lie algebra of step 3 and 2 generators.\n",
    "n523 = la = LieAlgebra()\n",
    "la.name = 'N_{5,2,3}'\n",
    "la.basis_symbolic = ['X1','X2','X3','X4','X5']\n",
    "[X1,X2,X3,X4,X5] = la.basis_symbolic\n",
    "la.brackets.rules = {\\\n",
    "                     (X1,X2) : X3 , \\\n",
    "                     (X1,X3) : X4 , \\\n",
    "                     (X2,X3) : X5 \\\n",
    "                    }\n",
    "la.declare_stratified(growth_vector=[2,1,2])\n",
    "show_bra_tab(la)"
   ]
  },
  {
   "cell_type": "code",
   "execution_count": 16,
   "id": "b20a00ad",
   "metadata": {},
   "outputs": [
    {
     "data": {
      "text/html": [
       "<table>\n",
       "<thead>\n",
       "<tr><th>0  </th><th>X1  </th><th>X2  </th><th>X3  </th><th>X4  </th><th style=\"text-align: right;\">  X5</th></tr>\n",
       "</thead>\n",
       "<tbody>\n",
       "<tr><td>X1 </td><td>0   </td><td>X5  </td><td>0   </td><td>0   </td><td style=\"text-align: right;\">   0</td></tr>\n",
       "<tr><td>X2 </td><td>-X5 </td><td>0   </td><td>0   </td><td>0   </td><td style=\"text-align: right;\">   0</td></tr>\n",
       "<tr><td>X3 </td><td>0   </td><td>0   </td><td>0   </td><td>X5  </td><td style=\"text-align: right;\">   0</td></tr>\n",
       "<tr><td>X4 </td><td>0   </td><td>0   </td><td>-X5 </td><td>0   </td><td style=\"text-align: right;\">   0</td></tr>\n",
       "<tr><td>X5 </td><td>0   </td><td>0   </td><td>0   </td><td>0   </td><td style=\"text-align: right;\">   0</td></tr>\n",
       "</tbody>\n",
       "</table>"
      ],
      "text/plain": [
       "'<table>\\n<thead>\\n<tr><th>0  </th><th>X1  </th><th>X2  </th><th>X3  </th><th>X4  </th><th style=\"text-align: right;\">  X5</th></tr>\\n</thead>\\n<tbody>\\n<tr><td>X1 </td><td>0   </td><td>X5  </td><td>0   </td><td>0   </td><td style=\"text-align: right;\">   0</td></tr>\\n<tr><td>X2 </td><td>-X5 </td><td>0   </td><td>0   </td><td>0   </td><td style=\"text-align: right;\">   0</td></tr>\\n<tr><td>X3 </td><td>0   </td><td>0   </td><td>0   </td><td>X5  </td><td style=\"text-align: right;\">   0</td></tr>\\n<tr><td>X4 </td><td>0   </td><td>0   </td><td>-X5 </td><td>0   </td><td style=\"text-align: right;\">   0</td></tr>\\n<tr><td>X5 </td><td>0   </td><td>0   </td><td>0   </td><td>0   </td><td style=\"text-align: right;\">   0</td></tr>\\n</tbody>\\n</table>'"
      ]
     },
     "metadata": {},
     "output_type": "display_data"
    }
   ],
   "source": [
    "# Dimension = 5\n",
    "# N5,3,1. \n",
    "# N5,3,1 by Gong in [Gon98], \n",
    "# L5,4 by de Graaf in [dG07], \n",
    "# (8) by Del Barco in [dB15], \n",
    "# G5,1 by Magnin in [Mag].\n",
    "# the second Heisenberg algebra.\n",
    "n531 = la = LieAlgebra()\n",
    "la.name = 'N_{5,3,1}'\n",
    "la.basis_symbolic = ['X1','X2','X3','X4','X5']\n",
    "[X1,X2,X3,X4,X5] = la.basis_symbolic\n",
    "la.brackets.rules = {\\\n",
    "                     (X1,X2) : X5 ,\\\n",
    "                     (X3,X4) : X5 \\\n",
    "                    }\n",
    "la.declare_stratified(growth_vector=[4,1])\n",
    "show_bra_tab(la)"
   ]
  },
  {
   "cell_type": "code",
   "execution_count": 18,
   "id": "6b3c596f",
   "metadata": {},
   "outputs": [
    {
     "data": {
      "text/html": [
       "<table>\n",
       "<thead>\n",
       "<tr><th>0  </th><th>X1  </th><th>X2  </th><th>X3  </th><th style=\"text-align: right;\">  X4</th><th style=\"text-align: right;\">  X5</th></tr>\n",
       "</thead>\n",
       "<tbody>\n",
       "<tr><td>X1 </td><td>0   </td><td>X4  </td><td>X5  </td><td style=\"text-align: right;\">   0</td><td style=\"text-align: right;\">   0</td></tr>\n",
       "<tr><td>X2 </td><td>-X4 </td><td>0   </td><td>0   </td><td style=\"text-align: right;\">   0</td><td style=\"text-align: right;\">   0</td></tr>\n",
       "<tr><td>X3 </td><td>-X5 </td><td>0   </td><td>0   </td><td style=\"text-align: right;\">   0</td><td style=\"text-align: right;\">   0</td></tr>\n",
       "<tr><td>X4 </td><td>0   </td><td>0   </td><td>0   </td><td style=\"text-align: right;\">   0</td><td style=\"text-align: right;\">   0</td></tr>\n",
       "<tr><td>X5 </td><td>0   </td><td>0   </td><td>0   </td><td style=\"text-align: right;\">   0</td><td style=\"text-align: right;\">   0</td></tr>\n",
       "</tbody>\n",
       "</table>"
      ],
      "text/plain": [
       "'<table>\\n<thead>\\n<tr><th>0  </th><th>X1  </th><th>X2  </th><th>X3  </th><th style=\"text-align: right;\">  X4</th><th style=\"text-align: right;\">  X5</th></tr>\\n</thead>\\n<tbody>\\n<tr><td>X1 </td><td>0   </td><td>X4  </td><td>X5  </td><td style=\"text-align: right;\">   0</td><td style=\"text-align: right;\">   0</td></tr>\\n<tr><td>X2 </td><td>-X4 </td><td>0   </td><td>0   </td><td style=\"text-align: right;\">   0</td><td style=\"text-align: right;\">   0</td></tr>\\n<tr><td>X3 </td><td>-X5 </td><td>0   </td><td>0   </td><td style=\"text-align: right;\">   0</td><td style=\"text-align: right;\">   0</td></tr>\\n<tr><td>X4 </td><td>0   </td><td>0   </td><td>0   </td><td style=\"text-align: right;\">   0</td><td style=\"text-align: right;\">   0</td></tr>\\n<tr><td>X5 </td><td>0   </td><td>0   </td><td>0   </td><td style=\"text-align: right;\">   0</td><td style=\"text-align: right;\">   0</td></tr>\\n</tbody>\\n</table>'"
      ]
     },
     "metadata": {},
     "output_type": "display_data"
    }
   ],
   "source": [
    "# N5,3,2. \n",
    "# N5,3,2 by Gong in [Gon98], \n",
    "# L5,8 by de Graaf in [dG07], \n",
    "# (6) by Del Barco in [dB15], \n",
    "# G5,2 by Magnin in [Mag].\n",
    "n532 = la = LieAlgebra()\n",
    "la.name = 'N_{5,3,2}'\n",
    "la.basis_symbolic = ['X1','X2','X3','X4','X5']\n",
    "[X1,X2,X3,X4,X5] = la.basis_symbolic\n",
    "la.brackets.rules = {\\\n",
    "                     (X1,X2) : X4 , \\\n",
    "                     (X1,X3) : X5 \\\n",
    "                    }\n",
    "la.declare_stratified(growth_vector=[3,2])\n",
    "show_bra_tab(la)"
   ]
  },
  {
   "cell_type": "markdown",
   "id": "1a55b239",
   "metadata": {},
   "source": [
    "**4. 6D indecomposable nilpotent Lie algebras**"
   ]
  },
  {
   "cell_type": "code",
   "execution_count": null,
   "id": "40d0899d",
   "metadata": {},
   "outputs": [],
   "source": []
  },
  {
   "cell_type": "code",
   "execution_count": null,
   "id": "16d25666",
   "metadata": {},
   "outputs": [],
   "source": []
  },
  {
   "cell_type": "code",
   "execution_count": null,
   "id": "26b374eb",
   "metadata": {},
   "outputs": [],
   "source": []
  },
  {
   "cell_type": "markdown",
   "id": "549c2752",
   "metadata": {},
   "source": [
    "**Dimension 6**"
   ]
  },
  {
   "cell_type": "code",
   "execution_count": 19,
   "id": "aea3adae",
   "metadata": {},
   "outputs": [
    {
     "name": "stdout",
     "output_type": "stream",
     "text": [
      "Jacobi: True\n"
     ]
    },
    {
     "data": {
      "text/html": [
       "<table>\n",
       "<thead>\n",
       "<tr><th>0  </th><th>X1  </th><th>X2  </th><th>X3  </th><th style=\"text-align: right;\">  Y12</th><th style=\"text-align: right;\">  Y23</th><th style=\"text-align: right;\">  Y13</th></tr>\n",
       "</thead>\n",
       "<tbody>\n",
       "<tr><td>X1 </td><td>0   </td><td>Y12 </td><td>Y13 </td><td style=\"text-align: right;\">    0</td><td style=\"text-align: right;\">    0</td><td style=\"text-align: right;\">    0</td></tr>\n",
       "<tr><td>X2 </td><td>-Y12</td><td>0   </td><td>Y23 </td><td style=\"text-align: right;\">    0</td><td style=\"text-align: right;\">    0</td><td style=\"text-align: right;\">    0</td></tr>\n",
       "<tr><td>X3 </td><td>-Y13</td><td>-Y23</td><td>0   </td><td style=\"text-align: right;\">    0</td><td style=\"text-align: right;\">    0</td><td style=\"text-align: right;\">    0</td></tr>\n",
       "<tr><td>Y12</td><td>0   </td><td>0   </td><td>0   </td><td style=\"text-align: right;\">    0</td><td style=\"text-align: right;\">    0</td><td style=\"text-align: right;\">    0</td></tr>\n",
       "<tr><td>Y23</td><td>0   </td><td>0   </td><td>0   </td><td style=\"text-align: right;\">    0</td><td style=\"text-align: right;\">    0</td><td style=\"text-align: right;\">    0</td></tr>\n",
       "<tr><td>Y13</td><td>0   </td><td>0   </td><td>0   </td><td style=\"text-align: right;\">    0</td><td style=\"text-align: right;\">    0</td><td style=\"text-align: right;\">    0</td></tr>\n",
       "</tbody>\n",
       "</table>"
      ],
      "text/plain": [
       "'<table>\\n<thead>\\n<tr><th>0  </th><th>X1  </th><th>X2  </th><th>X3  </th><th style=\"text-align: right;\">  Y12</th><th style=\"text-align: right;\">  Y23</th><th style=\"text-align: right;\">  Y13</th></tr>\\n</thead>\\n<tbody>\\n<tr><td>X1 </td><td>0   </td><td>Y12 </td><td>Y13 </td><td style=\"text-align: right;\">    0</td><td style=\"text-align: right;\">    0</td><td style=\"text-align: right;\">    0</td></tr>\\n<tr><td>X2 </td><td>-Y12</td><td>0   </td><td>Y23 </td><td style=\"text-align: right;\">    0</td><td style=\"text-align: right;\">    0</td><td style=\"text-align: right;\">    0</td></tr>\\n<tr><td>X3 </td><td>-Y13</td><td>-Y23</td><td>0   </td><td style=\"text-align: right;\">    0</td><td style=\"text-align: right;\">    0</td><td style=\"text-align: right;\">    0</td></tr>\\n<tr><td>Y12</td><td>0   </td><td>0   </td><td>0   </td><td style=\"text-align: right;\">    0</td><td style=\"text-align: right;\">    0</td><td style=\"text-align: right;\">    0</td></tr>\\n<tr><td>Y23</td><td>0   </td><td>0   </td><td>0   </td><td style=\"text-align: right;\">    0</td><td style=\"text-align: right;\">    0</td><td style=\"text-align: right;\">    0</td></tr>\\n<tr><td>Y13</td><td>0   </td><td>0   </td><td>0   </td><td style=\"text-align: right;\">    0</td><td style=\"text-align: right;\">    0</td><td style=\"text-align: right;\">    0</td></tr>\\n</tbody>\\n</table>'"
      ]
     },
     "metadata": {},
     "output_type": "display_data"
    }
   ],
   "source": [
    "# Dimension = 6\n",
    "# Free Lie algebra of rank 3 and step 2\n",
    "free32 = LieAlgebra()\n",
    "free32.name = 'Free algebra rank 3 step 2'\n",
    "free32.basis_symbolic = ['X1','X2','X3','Y12','Y23','Y13']\n",
    "[X1,X2,X3,Y12,Y23,Y13] = free32.basis_symbolic\n",
    "free32.brackets.rules = {(X1,X2):Y12, (X1,X3):Y13, (X2,X3):Y23 }\n",
    "free32.declare_stratified(growth_vector = [3,3])\n",
    "print(\"Jacobi:\",free32.check_jacobi())\n",
    "show_bra_tab(free32)"
   ]
  },
  {
   "cell_type": "code",
   "execution_count": null,
   "id": "6ac0ec22",
   "metadata": {},
   "outputs": [],
   "source": []
  },
  {
   "cell_type": "code",
   "execution_count": null,
   "id": "bf3c67ee",
   "metadata": {},
   "outputs": [],
   "source": []
  },
  {
   "cell_type": "code",
   "execution_count": null,
   "id": "de5f2d60",
   "metadata": {},
   "outputs": [],
   "source": []
  },
  {
   "cell_type": "code",
   "execution_count": null,
   "id": "baa254fb",
   "metadata": {},
   "outputs": [],
   "source": []
  },
  {
   "cell_type": "code",
   "execution_count": null,
   "id": "5f0ba6da",
   "metadata": {},
   "outputs": [],
   "source": []
  },
  {
   "cell_type": "code",
   "execution_count": null,
   "id": "86989202",
   "metadata": {},
   "outputs": [],
   "source": []
  },
  {
   "cell_type": "code",
   "execution_count": null,
   "id": "d1c31986",
   "metadata": {},
   "outputs": [],
   "source": []
  },
  {
   "cell_type": "code",
   "execution_count": null,
   "id": "c6c9c8ec",
   "metadata": {},
   "outputs": [],
   "source": []
  },
  {
   "cell_type": "markdown",
   "id": "46eda91d",
   "metadata": {},
   "source": [
    "**Vector Spaces**"
   ]
  },
  {
   "cell_type": "code",
   "execution_count": 22,
   "id": "54f8a6b2",
   "metadata": {},
   "outputs": [
    {
     "data": {
      "text/latex": [
       "$\\displaystyle @1$"
      ],
      "text/plain": [
       "@1"
      ]
     },
     "metadata": {},
     "output_type": "display_data"
    }
   ],
   "source": [
    "R1 = LineVectorSpace\n",
    "one = R1.basis_symbolic[0]\n",
    "display(one)"
   ]
  },
  {
   "cell_type": "code",
   "execution_count": 25,
   "id": "e6476918",
   "metadata": {},
   "outputs": [],
   "source": [
    "R2 = VectorSpace()\n",
    "R2.name = 'The 2D plane'\n",
    "R2.basis_symbolic = 'e1','e2'"
   ]
  },
  {
   "cell_type": "code",
   "execution_count": 26,
   "id": "d456cfba",
   "metadata": {},
   "outputs": [],
   "source": [
    "R3 = VectorSpace()\n",
    "R3.name = 'The 3D space'\n",
    "R3.basis_symbolic = 'e1','e2','e3'"
   ]
  },
  {
   "cell_type": "markdown",
   "id": "b871a068",
   "metadata": {},
   "source": [
    "**Jet Lie algebras**"
   ]
  },
  {
   "cell_type": "code",
   "execution_count": 5,
   "id": "d00e3bb7",
   "metadata": {},
   "outputs": [
    {
     "name": "stdout",
     "output_type": "stream",
     "text": [
      "Step 1 of 6: Construct set of indices:\n",
      "[((-1, 0, 0), 0), ((0, -1, 0), 0), ((0, 2, 0), @1), ((1, 1, 0), @1), ((0, 0, 1), @1), ((2, 0, 0), @1), ((0, 0, -1), 0), ((1, 0, 0), @1), ((0, 1, 0), @1), ((0, 0, 0), @1)]\n",
      "\n",
      "Step 2 of 6: Construct HD basis:\n",
      "{((0, 0, 0), @1): @1, ((1, 0, 0), @1): @X*@1, ((0, 1, 0), @1): @Y*@1, ((0, 2, 0), @1): @Y**2*@1, ((1, 1, 0), @1): @X*@Y*@1 + @Y*@X*@1, ((0, 0, 1), @1): -@X*@Y*@1, ((2, 0, 0), @1): @X**2*@1}\n",
      "\n",
      "Step 3 of 6: and outer basis:\n",
      "[X, Y, @Y**2*@1, @X*@Y*@1 + @Y*@X*@1, -@X*@Y*@1, @X**2*@1, Z, @X*@1, @Y*@1, @1]\n",
      "\n",
      "Step 4 of 6: Construct sybolic basis:\n",
      "[A^0_(-1, 0, 0), A^0_(0, -1, 0), A^@1_(0, 2, 0), A^@1_(1, 1, 0), A^@1_(0, 0, 1), A^@1_(2, 0, 0), A^0_(0, 0, -1), A^@1_(1, 0, 0), A^@1_(0, 1, 0), A^@1_(0, 0, 0)]\n",
      "\n",
      "Step 5 of 6: Construct functions from outer basis to the others.\n",
      "Building transformation operations: this can take a lot of time. You may want to change the source code.\n",
      "\n",
      "Step 6 of 6: Construct Lie bracket operation\n",
      "\n",
      "Done\n"
     ]
    },
    {
     "data": {
      "text/html": [
       "<table>\n",
       "<thead>\n",
       "<tr><th>0             </th><th>A^0_(-1, 0, 0)  </th><th>A^0_(0, -1, 0)  </th><th>A^@1_(0, 2, 0)  </th><th>A^@1_(1, 1, 0)  </th><th>A^@1_(0, 0, 1)  </th><th>A^@1_(2, 0, 0)  </th><th style=\"text-align: right;\">  A^0_(0, 0, -1)</th><th>A^@1_(1, 0, 0)  </th><th>A^@1_(0, 1, 0)  </th><th style=\"text-align: right;\">  A^@1_(0, 0, 0)</th></tr>\n",
       "</thead>\n",
       "<tbody>\n",
       "<tr><td>A^0_(-1, 0, 0)</td><td>0               </td><td>A^0_(0, 0, -1)  </td><td>0               </td><td>-A^@1_(0, 1, 0) </td><td>0               </td><td>-A^@1_(1, 0, 0) </td><td style=\"text-align: right;\">               0</td><td>-A^@1_(0, 0, 0) </td><td>0               </td><td style=\"text-align: right;\">               0</td></tr>\n",
       "<tr><td>A^0_(0, -1, 0)</td><td>-A^0_(0, 0, -1) </td><td>0               </td><td>-A^@1_(0, 1, 0) </td><td>-A^@1_(1, 0, 0) </td><td>A^@1_(1, 0, 0)  </td><td>0               </td><td style=\"text-align: right;\">               0</td><td>0               </td><td>-A^@1_(0, 0, 0) </td><td style=\"text-align: right;\">               0</td></tr>\n",
       "<tr><td>A^@1_(0, 2, 0)</td><td>0               </td><td>A^@1_(0, 1, 0)  </td><td>0               </td><td>0               </td><td>0               </td><td>0               </td><td style=\"text-align: right;\">               0</td><td>0               </td><td>0               </td><td style=\"text-align: right;\">               0</td></tr>\n",
       "<tr><td>A^@1_(1, 1, 0)</td><td>A^@1_(0, 1, 0)  </td><td>A^@1_(1, 0, 0)  </td><td>0               </td><td>0               </td><td>0               </td><td>0               </td><td style=\"text-align: right;\">               0</td><td>0               </td><td>0               </td><td style=\"text-align: right;\">               0</td></tr>\n",
       "<tr><td>A^@1_(0, 0, 1)</td><td>0               </td><td>-A^@1_(1, 0, 0) </td><td>0               </td><td>0               </td><td>0               </td><td>0               </td><td style=\"text-align: right;\">               0</td><td>0               </td><td>0               </td><td style=\"text-align: right;\">               0</td></tr>\n",
       "<tr><td>A^@1_(2, 0, 0)</td><td>A^@1_(1, 0, 0)  </td><td>0               </td><td>0               </td><td>0               </td><td>0               </td><td>0               </td><td style=\"text-align: right;\">               0</td><td>0               </td><td>0               </td><td style=\"text-align: right;\">               0</td></tr>\n",
       "<tr><td>A^0_(0, 0, -1)</td><td>0               </td><td>0               </td><td>0               </td><td>0               </td><td>0               </td><td>0               </td><td style=\"text-align: right;\">               0</td><td>0               </td><td>0               </td><td style=\"text-align: right;\">               0</td></tr>\n",
       "<tr><td>A^@1_(1, 0, 0)</td><td>A^@1_(0, 0, 0)  </td><td>0               </td><td>0               </td><td>0               </td><td>0               </td><td>0               </td><td style=\"text-align: right;\">               0</td><td>0               </td><td>0               </td><td style=\"text-align: right;\">               0</td></tr>\n",
       "<tr><td>A^@1_(0, 1, 0)</td><td>0               </td><td>A^@1_(0, 0, 0)  </td><td>0               </td><td>0               </td><td>0               </td><td>0               </td><td style=\"text-align: right;\">               0</td><td>0               </td><td>0               </td><td style=\"text-align: right;\">               0</td></tr>\n",
       "<tr><td>A^@1_(0, 0, 0)</td><td>0               </td><td>0               </td><td>0               </td><td>0               </td><td>0               </td><td>0               </td><td style=\"text-align: right;\">               0</td><td>0               </td><td>0               </td><td style=\"text-align: right;\">               0</td></tr>\n",
       "</tbody>\n",
       "</table>"
      ],
      "text/plain": [
       "'<table>\\n<thead>\\n<tr><th>0             </th><th>A^0_(-1, 0, 0)  </th><th>A^0_(0, -1, 0)  </th><th>A^@1_(0, 2, 0)  </th><th>A^@1_(1, 1, 0)  </th><th>A^@1_(0, 0, 1)  </th><th>A^@1_(2, 0, 0)  </th><th style=\"text-align: right;\">  A^0_(0, 0, -1)</th><th>A^@1_(1, 0, 0)  </th><th>A^@1_(0, 1, 0)  </th><th style=\"text-align: right;\">  A^@1_(0, 0, 0)</th></tr>\\n</thead>\\n<tbody>\\n<tr><td>A^0_(-1, 0, 0)</td><td>0               </td><td>A^0_(0, 0, -1)  </td><td>0               </td><td>-A^@1_(0, 1, 0) </td><td>0               </td><td>-A^@1_(1, 0, 0) </td><td style=\"text-align: right;\">               0</td><td>-A^@1_(0, 0, 0) </td><td>0               </td><td style=\"text-align: right;\">               0</td></tr>\\n<tr><td>A^0_(0, -1, 0)</td><td>-A^0_(0, 0, -1) </td><td>0               </td><td>-A^@1_(0, 1, 0) </td><td>-A^@1_(1, 0, 0) </td><td>A^@1_(1, 0, 0)  </td><td>0               </td><td style=\"text-align: right;\">               0</td><td>0               </td><td>-A^@1_(0, 0, 0) </td><td style=\"text-align: right;\">               0</td></tr>\\n<tr><td>A^@1_(0, 2, 0)</td><td>0               </td><td>A^@1_(0, 1, 0)  </td><td>0               </td><td>0               </td><td>0               </td><td>0               </td><td style=\"text-align: right;\">               0</td><td>0               </td><td>0               </td><td style=\"text-align: right;\">               0</td></tr>\\n<tr><td>A^@1_(1, 1, 0)</td><td>A^@1_(0, 1, 0)  </td><td>A^@1_(1, 0, 0)  </td><td>0               </td><td>0               </td><td>0               </td><td>0               </td><td style=\"text-align: right;\">               0</td><td>0               </td><td>0               </td><td style=\"text-align: right;\">               0</td></tr>\\n<tr><td>A^@1_(0, 0, 1)</td><td>0               </td><td>-A^@1_(1, 0, 0) </td><td>0               </td><td>0               </td><td>0               </td><td>0               </td><td style=\"text-align: right;\">               0</td><td>0               </td><td>0               </td><td style=\"text-align: right;\">               0</td></tr>\\n<tr><td>A^@1_(2, 0, 0)</td><td>A^@1_(1, 0, 0)  </td><td>0               </td><td>0               </td><td>0               </td><td>0               </td><td>0               </td><td style=\"text-align: right;\">               0</td><td>0               </td><td>0               </td><td style=\"text-align: right;\">               0</td></tr>\\n<tr><td>A^0_(0, 0, -1)</td><td>0               </td><td>0               </td><td>0               </td><td>0               </td><td>0               </td><td>0               </td><td style=\"text-align: right;\">               0</td><td>0               </td><td>0               </td><td style=\"text-align: right;\">               0</td></tr>\\n<tr><td>A^@1_(1, 0, 0)</td><td>A^@1_(0, 0, 0)  </td><td>0               </td><td>0               </td><td>0               </td><td>0               </td><td>0               </td><td style=\"text-align: right;\">               0</td><td>0               </td><td>0               </td><td style=\"text-align: right;\">               0</td></tr>\\n<tr><td>A^@1_(0, 1, 0)</td><td>0               </td><td>A^@1_(0, 0, 0)  </td><td>0               </td><td>0               </td><td>0               </td><td>0               </td><td style=\"text-align: right;\">               0</td><td>0               </td><td>0               </td><td style=\"text-align: right;\">               0</td></tr>\\n<tr><td>A^@1_(0, 0, 0)</td><td>0               </td><td>0               </td><td>0               </td><td>0               </td><td>0               </td><td>0               </td><td style=\"text-align: right;\">               0</td><td>0               </td><td>0               </td><td style=\"text-align: right;\">               0</td></tr>\\n</tbody>\\n</table>'"
      ]
     },
     "metadata": {},
     "output_type": "display_data"
    }
   ],
   "source": [
    "heisJet2 = JetAlgebra()\n",
    "heisJet2.name = 'Heisenberg Jet of order 2 and rank 1'\n",
    "heisJet2.lie_algebra_domain = heis\n",
    "heisJet2.order = 2\n",
    "heisJet2.build_me()\n",
    "show_bra_tab(heisJet2)"
   ]
  },
  {
   "cell_type": "code",
   "execution_count": 31,
   "id": "63e6f37c",
   "metadata": {},
   "outputs": [
    {
     "name": "stdout",
     "output_type": "stream",
     "text": [
      "Step 1 of 6: Construct set of indices:\n",
      "[((-1, 0, 0), 0), ((0, -1, 0), 0), ((0, 2, 0), e1), ((0, 2, 0), e2), ((1, 1, 0), e1), ((1, 1, 0), e2), ((0, 0, 1), e1), ((0, 0, 1), e2), ((2, 0, 0), e1), ((2, 0, 0), e2), ((0, 0, -1), 0), ((1, 0, 0), e1), ((1, 0, 0), e2), ((0, 1, 0), e1), ((0, 1, 0), e2), ((0, 0, 0), e1), ((0, 0, 0), e2)]\n",
      "\n",
      "Step 2 of 6: Construct HD basis:\n",
      "{((0, 0, 0), e1): e1, ((0, 0, 0), e2): e2, ((1, 0, 0), e1): @X*e1, ((1, 0, 0), e2): @X*e2, ((0, 1, 0), e1): @Y*e1, ((0, 1, 0), e2): @Y*e2, ((0, 2, 0), e1): @Y**2*e1, ((0, 2, 0), e2): @Y**2*e2, ((1, 1, 0), e1): @X*@Y*e1 + @Y*@X*e1, ((1, 1, 0), e2): @X*@Y*e2 + @Y*@X*e2, ((0, 0, 1), e1): -@X*@Y*e1, ((0, 0, 1), e2): -@X*@Y*e2, ((2, 0, 0), e1): @X**2*e1, ((2, 0, 0), e2): @X**2*e2}\n",
      "\n",
      "Step 3 of 6: and outer basis:\n",
      "[X, Y, @Y**2*e1, @Y**2*e2, @X*@Y*e1 + @Y*@X*e1, @X*@Y*e2 + @Y*@X*e2, -@X*@Y*e1, -@X*@Y*e2, @X**2*e1, @X**2*e2, Z, @X*e1, @X*e2, @Y*e1, @Y*e2, e1, e2]\n",
      "\n",
      "Step 4 of 6: Construct sybolic basis:\n",
      "[A^0_(-1, 0, 0), A^0_(0, -1, 0), A^e1_(0, 2, 0), A^e2_(0, 2, 0), A^e1_(1, 1, 0), A^e2_(1, 1, 0), A^e1_(0, 0, 1), A^e2_(0, 0, 1), A^e1_(2, 0, 0), A^e2_(2, 0, 0), A^0_(0, 0, -1), A^e1_(1, 0, 0), A^e2_(1, 0, 0), A^e1_(0, 1, 0), A^e2_(0, 1, 0), A^e1_(0, 0, 0), A^e2_(0, 0, 0)]\n",
      "\n",
      "Step 5 of 6: Construct functions from outer basis to the others.\n",
      "Building transformation operations: this can take a lot of time. You may want to change the source code.\n",
      "\n",
      "Step 6 of 6: Construct Lie bracket operation\n",
      "\n",
      "Done\n"
     ]
    },
    {
     "data": {
      "text/html": [
       "<table>\n",
       "<thead>\n",
       "<tr><th>0             </th><th>A^0_(-1, 0, 0)  </th><th>A^0_(0, -1, 0)  </th><th>A^e1_(0, 2, 0)  </th><th>A^e2_(0, 2, 0)  </th><th>A^e1_(1, 1, 0)  </th><th>A^e2_(1, 1, 0)  </th><th>A^e1_(0, 0, 1)  </th><th>A^e2_(0, 0, 1)  </th><th>A^e1_(2, 0, 0)  </th><th>A^e2_(2, 0, 0)  </th><th style=\"text-align: right;\">  A^0_(0, 0, -1)</th><th>A^e1_(1, 0, 0)  </th><th>A^e2_(1, 0, 0)  </th><th>A^e1_(0, 1, 0)  </th><th>A^e2_(0, 1, 0)  </th><th style=\"text-align: right;\">  A^e1_(0, 0, 0)</th><th style=\"text-align: right;\">  A^e2_(0, 0, 0)</th></tr>\n",
       "</thead>\n",
       "<tbody>\n",
       "<tr><td>A^0_(-1, 0, 0)</td><td>0               </td><td>A^0_(0, 0, -1)  </td><td>0               </td><td>0               </td><td>-A^e1_(0, 1, 0) </td><td>-A^e2_(0, 1, 0) </td><td>0               </td><td>0               </td><td>-A^e1_(1, 0, 0) </td><td>-A^e2_(1, 0, 0) </td><td style=\"text-align: right;\">               0</td><td>-A^e1_(0, 0, 0) </td><td>-A^e2_(0, 0, 0) </td><td>0               </td><td>0               </td><td style=\"text-align: right;\">               0</td><td style=\"text-align: right;\">               0</td></tr>\n",
       "<tr><td>A^0_(0, -1, 0)</td><td>-A^0_(0, 0, -1) </td><td>0               </td><td>-A^e1_(0, 1, 0) </td><td>-A^e2_(0, 1, 0) </td><td>-A^e1_(1, 0, 0) </td><td>-A^e2_(1, 0, 0) </td><td>A^e1_(1, 0, 0)  </td><td>A^e2_(1, 0, 0)  </td><td>0               </td><td>0               </td><td style=\"text-align: right;\">               0</td><td>0               </td><td>0               </td><td>-A^e1_(0, 0, 0) </td><td>-A^e2_(0, 0, 0) </td><td style=\"text-align: right;\">               0</td><td style=\"text-align: right;\">               0</td></tr>\n",
       "<tr><td>A^e1_(0, 2, 0)</td><td>0               </td><td>A^e1_(0, 1, 0)  </td><td>0               </td><td>0               </td><td>0               </td><td>0               </td><td>0               </td><td>0               </td><td>0               </td><td>0               </td><td style=\"text-align: right;\">               0</td><td>0               </td><td>0               </td><td>0               </td><td>0               </td><td style=\"text-align: right;\">               0</td><td style=\"text-align: right;\">               0</td></tr>\n",
       "<tr><td>A^e2_(0, 2, 0)</td><td>0               </td><td>A^e2_(0, 1, 0)  </td><td>0               </td><td>0               </td><td>0               </td><td>0               </td><td>0               </td><td>0               </td><td>0               </td><td>0               </td><td style=\"text-align: right;\">               0</td><td>0               </td><td>0               </td><td>0               </td><td>0               </td><td style=\"text-align: right;\">               0</td><td style=\"text-align: right;\">               0</td></tr>\n",
       "<tr><td>A^e1_(1, 1, 0)</td><td>A^e1_(0, 1, 0)  </td><td>A^e1_(1, 0, 0)  </td><td>0               </td><td>0               </td><td>0               </td><td>0               </td><td>0               </td><td>0               </td><td>0               </td><td>0               </td><td style=\"text-align: right;\">               0</td><td>0               </td><td>0               </td><td>0               </td><td>0               </td><td style=\"text-align: right;\">               0</td><td style=\"text-align: right;\">               0</td></tr>\n",
       "<tr><td>A^e2_(1, 1, 0)</td><td>A^e2_(0, 1, 0)  </td><td>A^e2_(1, 0, 0)  </td><td>0               </td><td>0               </td><td>0               </td><td>0               </td><td>0               </td><td>0               </td><td>0               </td><td>0               </td><td style=\"text-align: right;\">               0</td><td>0               </td><td>0               </td><td>0               </td><td>0               </td><td style=\"text-align: right;\">               0</td><td style=\"text-align: right;\">               0</td></tr>\n",
       "<tr><td>A^e1_(0, 0, 1)</td><td>0               </td><td>-A^e1_(1, 0, 0) </td><td>0               </td><td>0               </td><td>0               </td><td>0               </td><td>0               </td><td>0               </td><td>0               </td><td>0               </td><td style=\"text-align: right;\">               0</td><td>0               </td><td>0               </td><td>0               </td><td>0               </td><td style=\"text-align: right;\">               0</td><td style=\"text-align: right;\">               0</td></tr>\n",
       "<tr><td>A^e2_(0, 0, 1)</td><td>0               </td><td>-A^e2_(1, 0, 0) </td><td>0               </td><td>0               </td><td>0               </td><td>0               </td><td>0               </td><td>0               </td><td>0               </td><td>0               </td><td style=\"text-align: right;\">               0</td><td>0               </td><td>0               </td><td>0               </td><td>0               </td><td style=\"text-align: right;\">               0</td><td style=\"text-align: right;\">               0</td></tr>\n",
       "<tr><td>A^e1_(2, 0, 0)</td><td>A^e1_(1, 0, 0)  </td><td>0               </td><td>0               </td><td>0               </td><td>0               </td><td>0               </td><td>0               </td><td>0               </td><td>0               </td><td>0               </td><td style=\"text-align: right;\">               0</td><td>0               </td><td>0               </td><td>0               </td><td>0               </td><td style=\"text-align: right;\">               0</td><td style=\"text-align: right;\">               0</td></tr>\n",
       "<tr><td>A^e2_(2, 0, 0)</td><td>A^e2_(1, 0, 0)  </td><td>0               </td><td>0               </td><td>0               </td><td>0               </td><td>0               </td><td>0               </td><td>0               </td><td>0               </td><td>0               </td><td style=\"text-align: right;\">               0</td><td>0               </td><td>0               </td><td>0               </td><td>0               </td><td style=\"text-align: right;\">               0</td><td style=\"text-align: right;\">               0</td></tr>\n",
       "<tr><td>A^0_(0, 0, -1)</td><td>0               </td><td>0               </td><td>0               </td><td>0               </td><td>0               </td><td>0               </td><td>0               </td><td>0               </td><td>0               </td><td>0               </td><td style=\"text-align: right;\">               0</td><td>0               </td><td>0               </td><td>0               </td><td>0               </td><td style=\"text-align: right;\">               0</td><td style=\"text-align: right;\">               0</td></tr>\n",
       "<tr><td>A^e1_(1, 0, 0)</td><td>A^e1_(0, 0, 0)  </td><td>0               </td><td>0               </td><td>0               </td><td>0               </td><td>0               </td><td>0               </td><td>0               </td><td>0               </td><td>0               </td><td style=\"text-align: right;\">               0</td><td>0               </td><td>0               </td><td>0               </td><td>0               </td><td style=\"text-align: right;\">               0</td><td style=\"text-align: right;\">               0</td></tr>\n",
       "<tr><td>A^e2_(1, 0, 0)</td><td>A^e2_(0, 0, 0)  </td><td>0               </td><td>0               </td><td>0               </td><td>0               </td><td>0               </td><td>0               </td><td>0               </td><td>0               </td><td>0               </td><td style=\"text-align: right;\">               0</td><td>0               </td><td>0               </td><td>0               </td><td>0               </td><td style=\"text-align: right;\">               0</td><td style=\"text-align: right;\">               0</td></tr>\n",
       "<tr><td>A^e1_(0, 1, 0)</td><td>0               </td><td>A^e1_(0, 0, 0)  </td><td>0               </td><td>0               </td><td>0               </td><td>0               </td><td>0               </td><td>0               </td><td>0               </td><td>0               </td><td style=\"text-align: right;\">               0</td><td>0               </td><td>0               </td><td>0               </td><td>0               </td><td style=\"text-align: right;\">               0</td><td style=\"text-align: right;\">               0</td></tr>\n",
       "<tr><td>A^e2_(0, 1, 0)</td><td>0               </td><td>A^e2_(0, 0, 0)  </td><td>0               </td><td>0               </td><td>0               </td><td>0               </td><td>0               </td><td>0               </td><td>0               </td><td>0               </td><td style=\"text-align: right;\">               0</td><td>0               </td><td>0               </td><td>0               </td><td>0               </td><td style=\"text-align: right;\">               0</td><td style=\"text-align: right;\">               0</td></tr>\n",
       "<tr><td>A^e1_(0, 0, 0)</td><td>0               </td><td>0               </td><td>0               </td><td>0               </td><td>0               </td><td>0               </td><td>0               </td><td>0               </td><td>0               </td><td>0               </td><td style=\"text-align: right;\">               0</td><td>0               </td><td>0               </td><td>0               </td><td>0               </td><td style=\"text-align: right;\">               0</td><td style=\"text-align: right;\">               0</td></tr>\n",
       "<tr><td>A^e2_(0, 0, 0)</td><td>0               </td><td>0               </td><td>0               </td><td>0               </td><td>0               </td><td>0               </td><td>0               </td><td>0               </td><td>0               </td><td>0               </td><td style=\"text-align: right;\">               0</td><td>0               </td><td>0               </td><td>0               </td><td>0               </td><td style=\"text-align: right;\">               0</td><td style=\"text-align: right;\">               0</td></tr>\n",
       "</tbody>\n",
       "</table>"
      ],
      "text/plain": [
       "'<table>\\n<thead>\\n<tr><th>0             </th><th>A^0_(-1, 0, 0)  </th><th>A^0_(0, -1, 0)  </th><th>A^e1_(0, 2, 0)  </th><th>A^e2_(0, 2, 0)  </th><th>A^e1_(1, 1, 0)  </th><th>A^e2_(1, 1, 0)  </th><th>A^e1_(0, 0, 1)  </th><th>A^e2_(0, 0, 1)  </th><th>A^e1_(2, 0, 0)  </th><th>A^e2_(2, 0, 0)  </th><th style=\"text-align: right;\">  A^0_(0, 0, -1)</th><th>A^e1_(1, 0, 0)  </th><th>A^e2_(1, 0, 0)  </th><th>A^e1_(0, 1, 0)  </th><th>A^e2_(0, 1, 0)  </th><th style=\"text-align: right;\">  A^e1_(0, 0, 0)</th><th style=\"text-align: right;\">  A^e2_(0, 0, 0)</th></tr>\\n</thead>\\n<tbody>\\n<tr><td>A^0_(-1, 0, 0)</td><td>0               </td><td>A^0_(0, 0, -1)  </td><td>0               </td><td>0               </td><td>-A^e1_(0, 1, 0) </td><td>-A^e2_(0, 1, 0) </td><td>0               </td><td>0               </td><td>-A^e1_(1, 0, 0) </td><td>-A^e2_(1, 0, 0) </td><td style=\"text-align: right;\">               0</td><td>-A^e1_(0, 0, 0) </td><td>-A^e2_(0, 0, 0) </td><td>0               </td><td>0               </td><td style=\"text-align: right;\">               0</td><td style=\"text-align: right;\">               0</td></tr>\\n<tr><td>A^0_(0, -1, 0)</td><td>-A^0_(0, 0, -1) </td><td>0               </td><td>-A^e1_(0, 1, 0) </td><td>-A^e2_(0, 1, 0) </td><td>-A^e1_(1, 0, 0) </td><td>-A^e2_(1, 0, 0) </td><td>A^e1_(1, 0, 0)  </td><td>A^e2_(1, 0, 0)  </td><td>0               </td><td>0               </td><td style=\"text-align: right;\">               0</td><td>0               </td><td>0               </td><td>-A^e1_(0, 0, 0) </td><td>-A^e2_(0, 0, 0) </td><td style=\"text-align: right;\">               0</td><td style=\"text-align: right;\">               0</td></tr>\\n<tr><td>A^e1_(0, 2, 0)</td><td>0               </td><td>A^e1_(0, 1, 0)  </td><td>0               </td><td>0               </td><td>0               </td><td>0               </td><td>0               </td><td>0               </td><td>0               </td><td>0               </td><td style=\"text-align: right;\">               0</td><td>0               </td><td>0               </td><td>0               </td><td>0               </td><td style=\"text-align: right;\">               0</td><td style=\"text-align: right;\">               0</td></tr>\\n<tr><td>A^e2_(0, 2, 0)</td><td>0               </td><td>A^e2_(0, 1, 0)  </td><td>0               </td><td>0               </td><td>0               </td><td>0               </td><td>0               </td><td>0               </td><td>0               </td><td>0               </td><td style=\"text-align: right;\">               0</td><td>0               </td><td>0               </td><td>0               </td><td>0               </td><td style=\"text-align: right;\">               0</td><td style=\"text-align: right;\">               0</td></tr>\\n<tr><td>A^e1_(1, 1, 0)</td><td>A^e1_(0, 1, 0)  </td><td>A^e1_(1, 0, 0)  </td><td>0               </td><td>0               </td><td>0               </td><td>0               </td><td>0               </td><td>0               </td><td>0               </td><td>0               </td><td style=\"text-align: right;\">               0</td><td>0               </td><td>0               </td><td>0               </td><td>0               </td><td style=\"text-align: right;\">               0</td><td style=\"text-align: right;\">               0</td></tr>\\n<tr><td>A^e2_(1, 1, 0)</td><td>A^e2_(0, 1, 0)  </td><td>A^e2_(1, 0, 0)  </td><td>0               </td><td>0               </td><td>0               </td><td>0               </td><td>0               </td><td>0               </td><td>0               </td><td>0               </td><td style=\"text-align: right;\">               0</td><td>0               </td><td>0               </td><td>0               </td><td>0               </td><td style=\"text-align: right;\">               0</td><td style=\"text-align: right;\">               0</td></tr>\\n<tr><td>A^e1_(0, 0, 1)</td><td>0               </td><td>-A^e1_(1, 0, 0) </td><td>0               </td><td>0               </td><td>0               </td><td>0               </td><td>0               </td><td>0               </td><td>0               </td><td>0               </td><td style=\"text-align: right;\">               0</td><td>0               </td><td>0               </td><td>0               </td><td>0               </td><td style=\"text-align: right;\">               0</td><td style=\"text-align: right;\">               0</td></tr>\\n<tr><td>A^e2_(0, 0, 1)</td><td>0               </td><td>-A^e2_(1, 0, 0) </td><td>0               </td><td>0               </td><td>0               </td><td>0               </td><td>0               </td><td>0               </td><td>0               </td><td>0               </td><td style=\"text-align: right;\">               0</td><td>0               </td><td>0               </td><td>0               </td><td>0               </td><td style=\"text-align: right;\">               0</td><td style=\"text-align: right;\">               0</td></tr>\\n<tr><td>A^e1_(2, 0, 0)</td><td>A^e1_(1, 0, 0)  </td><td>0               </td><td>0               </td><td>0               </td><td>0               </td><td>0               </td><td>0               </td><td>0               </td><td>0               </td><td>0               </td><td style=\"text-align: right;\">               0</td><td>0               </td><td>0               </td><td>0               </td><td>0               </td><td style=\"text-align: right;\">               0</td><td style=\"text-align: right;\">               0</td></tr>\\n<tr><td>A^e2_(2, 0, 0)</td><td>A^e2_(1, 0, 0)  </td><td>0               </td><td>0               </td><td>0               </td><td>0               </td><td>0               </td><td>0               </td><td>0               </td><td>0               </td><td>0               </td><td style=\"text-align: right;\">               0</td><td>0               </td><td>0               </td><td>0               </td><td>0               </td><td style=\"text-align: right;\">               0</td><td style=\"text-align: right;\">               0</td></tr>\\n<tr><td>A^0_(0, 0, -1)</td><td>0               </td><td>0               </td><td>0               </td><td>0               </td><td>0               </td><td>0               </td><td>0               </td><td>0               </td><td>0               </td><td>0               </td><td style=\"text-align: right;\">               0</td><td>0               </td><td>0               </td><td>0               </td><td>0               </td><td style=\"text-align: right;\">               0</td><td style=\"text-align: right;\">               0</td></tr>\\n<tr><td>A^e1_(1, 0, 0)</td><td>A^e1_(0, 0, 0)  </td><td>0               </td><td>0               </td><td>0               </td><td>0               </td><td>0               </td><td>0               </td><td>0               </td><td>0               </td><td>0               </td><td style=\"text-align: right;\">               0</td><td>0               </td><td>0               </td><td>0               </td><td>0               </td><td style=\"text-align: right;\">               0</td><td style=\"text-align: right;\">               0</td></tr>\\n<tr><td>A^e2_(1, 0, 0)</td><td>A^e2_(0, 0, 0)  </td><td>0               </td><td>0               </td><td>0               </td><td>0               </td><td>0               </td><td>0               </td><td>0               </td><td>0               </td><td>0               </td><td style=\"text-align: right;\">               0</td><td>0               </td><td>0               </td><td>0               </td><td>0               </td><td style=\"text-align: right;\">               0</td><td style=\"text-align: right;\">               0</td></tr>\\n<tr><td>A^e1_(0, 1, 0)</td><td>0               </td><td>A^e1_(0, 0, 0)  </td><td>0               </td><td>0               </td><td>0               </td><td>0               </td><td>0               </td><td>0               </td><td>0               </td><td>0               </td><td style=\"text-align: right;\">               0</td><td>0               </td><td>0               </td><td>0               </td><td>0               </td><td style=\"text-align: right;\">               0</td><td style=\"text-align: right;\">               0</td></tr>\\n<tr><td>A^e2_(0, 1, 0)</td><td>0               </td><td>A^e2_(0, 0, 0)  </td><td>0               </td><td>0               </td><td>0               </td><td>0               </td><td>0               </td><td>0               </td><td>0               </td><td>0               </td><td style=\"text-align: right;\">               0</td><td>0               </td><td>0               </td><td>0               </td><td>0               </td><td style=\"text-align: right;\">               0</td><td style=\"text-align: right;\">               0</td></tr>\\n<tr><td>A^e1_(0, 0, 0)</td><td>0               </td><td>0               </td><td>0               </td><td>0               </td><td>0               </td><td>0               </td><td>0               </td><td>0               </td><td>0               </td><td>0               </td><td style=\"text-align: right;\">               0</td><td>0               </td><td>0               </td><td>0               </td><td>0               </td><td style=\"text-align: right;\">               0</td><td style=\"text-align: right;\">               0</td></tr>\\n<tr><td>A^e2_(0, 0, 0)</td><td>0               </td><td>0               </td><td>0               </td><td>0               </td><td>0               </td><td>0               </td><td>0               </td><td>0               </td><td>0               </td><td>0               </td><td style=\"text-align: right;\">               0</td><td>0               </td><td>0               </td><td>0               </td><td>0               </td><td style=\"text-align: right;\">               0</td><td style=\"text-align: right;\">               0</td></tr>\\n</tbody>\\n</table>'"
      ]
     },
     "metadata": {},
     "output_type": "display_data"
    }
   ],
   "source": [
    "heisJet2_1 = JetAlgebra()\n",
    "heisJet2_1.name = 'Heisenberg Jet of order 2 and rank 2'\n",
    "heisJet2_1.lie_algebra_domain = heis\n",
    "heisJet2_1.target_vector_space = R2\n",
    "heisJet2_1.order = 2\n",
    "heisJet2_1.build_me()\n",
    "show_bra_tab(heisJet2_1)"
   ]
  },
  {
   "cell_type": "code",
   "execution_count": 7,
   "id": "ceb52438",
   "metadata": {},
   "outputs": [
    {
     "name": "stdout",
     "output_type": "stream",
     "text": [
      "Step 1 of 6: Construct set of indices:\n",
      "[((-1, 0, 0, 0, 0), 0), ((0, -1, 0, 0, 0), 0), ((0, 0, -1, 0, 0), 0), ((0, 0, 0, -1, 0), 0), ((1, 0, 1, 0, 0), @1), ((1, 1, 0, 0, 0), @1), ((2, 0, 0, 0, 0), @1), ((0, 0, 0, 2, 0), @1), ((0, 0, 1, 1, 0), @1), ((0, 0, 0, 0, 1), @1), ((0, 2, 0, 0, 0), @1), ((0, 1, 0, 1, 0), @1), ((0, 0, 2, 0, 0), @1), ((0, 1, 1, 0, 0), @1), ((1, 0, 0, 1, 0), @1), ((0, 0, 0, 0, -1), 0), ((0, 1, 0, 0, 0), @1), ((1, 0, 0, 0, 0), @1), ((0, 0, 1, 0, 0), @1), ((0, 0, 0, 1, 0), @1), ((0, 0, 0, 0, 0), @1)]\n",
      "\n",
      "Step 2 of 6: Construct HD basis:\n",
      "{((0, 0, 0, 0, 0), @1): @1, ((0, 1, 0, 0, 0), @1): @Y1*@1, ((1, 0, 0, 0, 0), @1): @X1*@1, ((0, 0, 1, 0, 0), @1): @X2*@1, ((0, 0, 0, 1, 0), @1): @Y2*@1, ((1, 0, 1, 0, 0), @1): @X1*@X2*@1 + @X2*@X1*@1, ((1, 1, 0, 0, 0), @1): @X1*@Y1*@1 + @Y1*@X1*@1, ((2, 0, 0, 0, 0), @1): @X1**2*@1, ((0, 0, 0, 2, 0), @1): @Y2**2*@1, ((0, 0, 1, 1, 0), @1): @X2*@Y2*@1 + @Y2*@X2*@1, ((0, 0, 0, 0, 1), @1): -@X1*@Y1*@1 - @X2*@Y2*@1, ((0, 2, 0, 0, 0), @1): @Y1**2*@1, ((0, 1, 0, 1, 0), @1): @Y1*@Y2*@1 + @Y2*@Y1*@1, ((0, 0, 2, 0, 0), @1): @X2**2*@1, ((0, 1, 1, 0, 0), @1): @X2*@Y1*@1 + @Y1*@X2*@1, ((1, 0, 0, 1, 0), @1): @X1*@Y2*@1 + @Y2*@X1*@1}\n",
      "\n",
      "Step 3 of 6: and outer basis:\n",
      "[X1, Y1, X2, Y2, @X1*@X2*@1 + @X2*@X1*@1, @X1*@Y1*@1 + @Y1*@X1*@1, @X1**2*@1, @Y2**2*@1, @X2*@Y2*@1 + @Y2*@X2*@1, -@X1*@Y1*@1 - @X2*@Y2*@1, @Y1**2*@1, @Y1*@Y2*@1 + @Y2*@Y1*@1, @X2**2*@1, @X2*@Y1*@1 + @Y1*@X2*@1, @X1*@Y2*@1 + @Y2*@X1*@1, Z, @Y1*@1, @X1*@1, @X2*@1, @Y2*@1, @1]\n",
      "\n",
      "Step 4 of 6: Construct sybolic basis:\n",
      "[A^0_(-1, 0, 0, 0, 0), A^0_(0, -1, 0, 0, 0), A^0_(0, 0, -1, 0, 0), A^0_(0, 0, 0, -1, 0), A^@1_(1, 0, 1, 0, 0), A^@1_(1, 1, 0, 0, 0), A^@1_(2, 0, 0, 0, 0), A^@1_(0, 0, 0, 2, 0), A^@1_(0, 0, 1, 1, 0), A^@1_(0, 0, 0, 0, 1), A^@1_(0, 2, 0, 0, 0), A^@1_(0, 1, 0, 1, 0), A^@1_(0, 0, 2, 0, 0), A^@1_(0, 1, 1, 0, 0), A^@1_(1, 0, 0, 1, 0), A^0_(0, 0, 0, 0, -1), A^@1_(0, 1, 0, 0, 0), A^@1_(1, 0, 0, 0, 0), A^@1_(0, 0, 1, 0, 0), A^@1_(0, 0, 0, 1, 0), A^@1_(0, 0, 0, 0, 0)]\n",
      "\n",
      "Step 5 of 6: Construct functions from outer basis to the others.\n",
      "Building transformation operations: this can take a lot of time. You may want to change the source code.\n",
      "\n",
      "Step 6 of 6: Construct Lie bracket operation\n",
      "\n",
      "Done\n"
     ]
    },
    {
     "data": {
      "text/html": [
       "<table>\n",
       "<thead>\n",
       "<tr><th>0                   </th><th>A^0_(-1, 0, 0, 0, 0)  </th><th>A^0_(0, -1, 0, 0, 0)  </th><th>A^0_(0, 0, -1, 0, 0)  </th><th>A^0_(0, 0, 0, -1, 0)  </th><th>A^@1_(1, 0, 1, 0, 0)  </th><th>A^@1_(1, 1, 0, 0, 0)  </th><th>A^@1_(2, 0, 0, 0, 0)  </th><th>A^@1_(0, 0, 0, 2, 0)  </th><th>A^@1_(0, 0, 1, 1, 0)  </th><th>A^@1_(0, 0, 0, 0, 1)  </th><th>A^@1_(0, 2, 0, 0, 0)  </th><th>A^@1_(0, 1, 0, 1, 0)  </th><th>A^@1_(0, 0, 2, 0, 0)  </th><th>A^@1_(0, 1, 1, 0, 0)  </th><th>A^@1_(1, 0, 0, 1, 0)  </th><th style=\"text-align: right;\">  A^0_(0, 0, 0, 0, -1)</th><th>A^@1_(0, 1, 0, 0, 0)  </th><th>A^@1_(1, 0, 0, 0, 0)  </th><th>A^@1_(0, 0, 1, 0, 0)  </th><th>A^@1_(0, 0, 0, 1, 0)  </th><th style=\"text-align: right;\">  A^@1_(0, 0, 0, 0, 0)</th></tr>\n",
       "</thead>\n",
       "<tbody>\n",
       "<tr><td>A^0_(-1, 0, 0, 0, 0)</td><td>0                     </td><td>A^0_(0, 0, 0, 0, -1)  </td><td>0                     </td><td>0                     </td><td>-A^@1_(0, 0, 1, 0, 0) </td><td>-A^@1_(0, 1, 0, 0, 0) </td><td>-A^@1_(1, 0, 0, 0, 0) </td><td>0                     </td><td>0                     </td><td>0                     </td><td>0                     </td><td>0                     </td><td>0                     </td><td>0                     </td><td>-A^@1_(0, 0, 0, 1, 0) </td><td style=\"text-align: right;\">                     0</td><td>0                     </td><td>-A^@1_(0, 0, 0, 0, 0) </td><td>0                     </td><td>0                     </td><td style=\"text-align: right;\">                     0</td></tr>\n",
       "<tr><td>A^0_(0, -1, 0, 0, 0)</td><td>-A^0_(0, 0, 0, 0, -1) </td><td>0                     </td><td>0                     </td><td>0                     </td><td>0                     </td><td>-A^@1_(1, 0, 0, 0, 0) </td><td>0                     </td><td>0                     </td><td>0                     </td><td>A^@1_(1, 0, 0, 0, 0)  </td><td>-A^@1_(0, 1, 0, 0, 0) </td><td>-A^@1_(0, 0, 0, 1, 0) </td><td>0                     </td><td>-A^@1_(0, 0, 1, 0, 0) </td><td>0                     </td><td style=\"text-align: right;\">                     0</td><td>-A^@1_(0, 0, 0, 0, 0) </td><td>0                     </td><td>0                     </td><td>0                     </td><td style=\"text-align: right;\">                     0</td></tr>\n",
       "<tr><td>A^0_(0, 0, -1, 0, 0)</td><td>0                     </td><td>0                     </td><td>0                     </td><td>A^0_(0, 0, 0, 0, -1)  </td><td>-A^@1_(1, 0, 0, 0, 0) </td><td>0                     </td><td>0                     </td><td>0                     </td><td>-A^@1_(0, 0, 0, 1, 0) </td><td>0                     </td><td>0                     </td><td>0                     </td><td>-A^@1_(0, 0, 1, 0, 0) </td><td>-A^@1_(0, 1, 0, 0, 0) </td><td>0                     </td><td style=\"text-align: right;\">                     0</td><td>0                     </td><td>0                     </td><td>-A^@1_(0, 0, 0, 0, 0) </td><td>0                     </td><td style=\"text-align: right;\">                     0</td></tr>\n",
       "<tr><td>A^0_(0, 0, 0, -1, 0)</td><td>0                     </td><td>0                     </td><td>-A^0_(0, 0, 0, 0, -1) </td><td>0                     </td><td>0                     </td><td>0                     </td><td>0                     </td><td>-A^@1_(0, 0, 0, 1, 0) </td><td>-A^@1_(0, 0, 1, 0, 0) </td><td>A^@1_(0, 0, 1, 0, 0)  </td><td>0                     </td><td>-A^@1_(0, 1, 0, 0, 0) </td><td>0                     </td><td>0                     </td><td>-A^@1_(1, 0, 0, 0, 0) </td><td style=\"text-align: right;\">                     0</td><td>0                     </td><td>0                     </td><td>0                     </td><td>-A^@1_(0, 0, 0, 0, 0) </td><td style=\"text-align: right;\">                     0</td></tr>\n",
       "<tr><td>A^@1_(1, 0, 1, 0, 0)</td><td>A^@1_(0, 0, 1, 0, 0)  </td><td>0                     </td><td>A^@1_(1, 0, 0, 0, 0)  </td><td>0                     </td><td>0                     </td><td>0                     </td><td>0                     </td><td>0                     </td><td>0                     </td><td>0                     </td><td>0                     </td><td>0                     </td><td>0                     </td><td>0                     </td><td>0                     </td><td style=\"text-align: right;\">                     0</td><td>0                     </td><td>0                     </td><td>0                     </td><td>0                     </td><td style=\"text-align: right;\">                     0</td></tr>\n",
       "<tr><td>A^@1_(1, 1, 0, 0, 0)</td><td>A^@1_(0, 1, 0, 0, 0)  </td><td>A^@1_(1, 0, 0, 0, 0)  </td><td>0                     </td><td>0                     </td><td>0                     </td><td>0                     </td><td>0                     </td><td>0                     </td><td>0                     </td><td>0                     </td><td>0                     </td><td>0                     </td><td>0                     </td><td>0                     </td><td>0                     </td><td style=\"text-align: right;\">                     0</td><td>0                     </td><td>0                     </td><td>0                     </td><td>0                     </td><td style=\"text-align: right;\">                     0</td></tr>\n",
       "<tr><td>A^@1_(2, 0, 0, 0, 0)</td><td>A^@1_(1, 0, 0, 0, 0)  </td><td>0                     </td><td>0                     </td><td>0                     </td><td>0                     </td><td>0                     </td><td>0                     </td><td>0                     </td><td>0                     </td><td>0                     </td><td>0                     </td><td>0                     </td><td>0                     </td><td>0                     </td><td>0                     </td><td style=\"text-align: right;\">                     0</td><td>0                     </td><td>0                     </td><td>0                     </td><td>0                     </td><td style=\"text-align: right;\">                     0</td></tr>\n",
       "<tr><td>A^@1_(0, 0, 0, 2, 0)</td><td>0                     </td><td>0                     </td><td>0                     </td><td>A^@1_(0, 0, 0, 1, 0)  </td><td>0                     </td><td>0                     </td><td>0                     </td><td>0                     </td><td>0                     </td><td>0                     </td><td>0                     </td><td>0                     </td><td>0                     </td><td>0                     </td><td>0                     </td><td style=\"text-align: right;\">                     0</td><td>0                     </td><td>0                     </td><td>0                     </td><td>0                     </td><td style=\"text-align: right;\">                     0</td></tr>\n",
       "<tr><td>A^@1_(0, 0, 1, 1, 0)</td><td>0                     </td><td>0                     </td><td>A^@1_(0, 0, 0, 1, 0)  </td><td>A^@1_(0, 0, 1, 0, 0)  </td><td>0                     </td><td>0                     </td><td>0                     </td><td>0                     </td><td>0                     </td><td>0                     </td><td>0                     </td><td>0                     </td><td>0                     </td><td>0                     </td><td>0                     </td><td style=\"text-align: right;\">                     0</td><td>0                     </td><td>0                     </td><td>0                     </td><td>0                     </td><td style=\"text-align: right;\">                     0</td></tr>\n",
       "<tr><td>A^@1_(0, 0, 0, 0, 1)</td><td>0                     </td><td>-A^@1_(1, 0, 0, 0, 0) </td><td>0                     </td><td>-A^@1_(0, 0, 1, 0, 0) </td><td>0                     </td><td>0                     </td><td>0                     </td><td>0                     </td><td>0                     </td><td>0                     </td><td>0                     </td><td>0                     </td><td>0                     </td><td>0                     </td><td>0                     </td><td style=\"text-align: right;\">                     0</td><td>0                     </td><td>0                     </td><td>0                     </td><td>0                     </td><td style=\"text-align: right;\">                     0</td></tr>\n",
       "<tr><td>A^@1_(0, 2, 0, 0, 0)</td><td>0                     </td><td>A^@1_(0, 1, 0, 0, 0)  </td><td>0                     </td><td>0                     </td><td>0                     </td><td>0                     </td><td>0                     </td><td>0                     </td><td>0                     </td><td>0                     </td><td>0                     </td><td>0                     </td><td>0                     </td><td>0                     </td><td>0                     </td><td style=\"text-align: right;\">                     0</td><td>0                     </td><td>0                     </td><td>0                     </td><td>0                     </td><td style=\"text-align: right;\">                     0</td></tr>\n",
       "<tr><td>A^@1_(0, 1, 0, 1, 0)</td><td>0                     </td><td>A^@1_(0, 0, 0, 1, 0)  </td><td>0                     </td><td>A^@1_(0, 1, 0, 0, 0)  </td><td>0                     </td><td>0                     </td><td>0                     </td><td>0                     </td><td>0                     </td><td>0                     </td><td>0                     </td><td>0                     </td><td>0                     </td><td>0                     </td><td>0                     </td><td style=\"text-align: right;\">                     0</td><td>0                     </td><td>0                     </td><td>0                     </td><td>0                     </td><td style=\"text-align: right;\">                     0</td></tr>\n",
       "<tr><td>A^@1_(0, 0, 2, 0, 0)</td><td>0                     </td><td>0                     </td><td>A^@1_(0, 0, 1, 0, 0)  </td><td>0                     </td><td>0                     </td><td>0                     </td><td>0                     </td><td>0                     </td><td>0                     </td><td>0                     </td><td>0                     </td><td>0                     </td><td>0                     </td><td>0                     </td><td>0                     </td><td style=\"text-align: right;\">                     0</td><td>0                     </td><td>0                     </td><td>0                     </td><td>0                     </td><td style=\"text-align: right;\">                     0</td></tr>\n",
       "<tr><td>A^@1_(0, 1, 1, 0, 0)</td><td>0                     </td><td>A^@1_(0, 0, 1, 0, 0)  </td><td>A^@1_(0, 1, 0, 0, 0)  </td><td>0                     </td><td>0                     </td><td>0                     </td><td>0                     </td><td>0                     </td><td>0                     </td><td>0                     </td><td>0                     </td><td>0                     </td><td>0                     </td><td>0                     </td><td>0                     </td><td style=\"text-align: right;\">                     0</td><td>0                     </td><td>0                     </td><td>0                     </td><td>0                     </td><td style=\"text-align: right;\">                     0</td></tr>\n",
       "<tr><td>A^@1_(1, 0, 0, 1, 0)</td><td>A^@1_(0, 0, 0, 1, 0)  </td><td>0                     </td><td>0                     </td><td>A^@1_(1, 0, 0, 0, 0)  </td><td>0                     </td><td>0                     </td><td>0                     </td><td>0                     </td><td>0                     </td><td>0                     </td><td>0                     </td><td>0                     </td><td>0                     </td><td>0                     </td><td>0                     </td><td style=\"text-align: right;\">                     0</td><td>0                     </td><td>0                     </td><td>0                     </td><td>0                     </td><td style=\"text-align: right;\">                     0</td></tr>\n",
       "<tr><td>A^0_(0, 0, 0, 0, -1)</td><td>0                     </td><td>0                     </td><td>0                     </td><td>0                     </td><td>0                     </td><td>0                     </td><td>0                     </td><td>0                     </td><td>0                     </td><td>0                     </td><td>0                     </td><td>0                     </td><td>0                     </td><td>0                     </td><td>0                     </td><td style=\"text-align: right;\">                     0</td><td>0                     </td><td>0                     </td><td>0                     </td><td>0                     </td><td style=\"text-align: right;\">                     0</td></tr>\n",
       "<tr><td>A^@1_(0, 1, 0, 0, 0)</td><td>0                     </td><td>A^@1_(0, 0, 0, 0, 0)  </td><td>0                     </td><td>0                     </td><td>0                     </td><td>0                     </td><td>0                     </td><td>0                     </td><td>0                     </td><td>0                     </td><td>0                     </td><td>0                     </td><td>0                     </td><td>0                     </td><td>0                     </td><td style=\"text-align: right;\">                     0</td><td>0                     </td><td>0                     </td><td>0                     </td><td>0                     </td><td style=\"text-align: right;\">                     0</td></tr>\n",
       "<tr><td>A^@1_(1, 0, 0, 0, 0)</td><td>A^@1_(0, 0, 0, 0, 0)  </td><td>0                     </td><td>0                     </td><td>0                     </td><td>0                     </td><td>0                     </td><td>0                     </td><td>0                     </td><td>0                     </td><td>0                     </td><td>0                     </td><td>0                     </td><td>0                     </td><td>0                     </td><td>0                     </td><td style=\"text-align: right;\">                     0</td><td>0                     </td><td>0                     </td><td>0                     </td><td>0                     </td><td style=\"text-align: right;\">                     0</td></tr>\n",
       "<tr><td>A^@1_(0, 0, 1, 0, 0)</td><td>0                     </td><td>0                     </td><td>A^@1_(0, 0, 0, 0, 0)  </td><td>0                     </td><td>0                     </td><td>0                     </td><td>0                     </td><td>0                     </td><td>0                     </td><td>0                     </td><td>0                     </td><td>0                     </td><td>0                     </td><td>0                     </td><td>0                     </td><td style=\"text-align: right;\">                     0</td><td>0                     </td><td>0                     </td><td>0                     </td><td>0                     </td><td style=\"text-align: right;\">                     0</td></tr>\n",
       "<tr><td>A^@1_(0, 0, 0, 1, 0)</td><td>0                     </td><td>0                     </td><td>0                     </td><td>A^@1_(0, 0, 0, 0, 0)  </td><td>0                     </td><td>0                     </td><td>0                     </td><td>0                     </td><td>0                     </td><td>0                     </td><td>0                     </td><td>0                     </td><td>0                     </td><td>0                     </td><td>0                     </td><td style=\"text-align: right;\">                     0</td><td>0                     </td><td>0                     </td><td>0                     </td><td>0                     </td><td style=\"text-align: right;\">                     0</td></tr>\n",
       "<tr><td>A^@1_(0, 0, 0, 0, 0)</td><td>0                     </td><td>0                     </td><td>0                     </td><td>0                     </td><td>0                     </td><td>0                     </td><td>0                     </td><td>0                     </td><td>0                     </td><td>0                     </td><td>0                     </td><td>0                     </td><td>0                     </td><td>0                     </td><td>0                     </td><td style=\"text-align: right;\">                     0</td><td>0                     </td><td>0                     </td><td>0                     </td><td>0                     </td><td style=\"text-align: right;\">                     0</td></tr>\n",
       "</tbody>\n",
       "</table>"
      ],
      "text/plain": [
       "'<table>\\n<thead>\\n<tr><th>0                   </th><th>A^0_(-1, 0, 0, 0, 0)  </th><th>A^0_(0, -1, 0, 0, 0)  </th><th>A^0_(0, 0, -1, 0, 0)  </th><th>A^0_(0, 0, 0, -1, 0)  </th><th>A^@1_(1, 0, 1, 0, 0)  </th><th>A^@1_(1, 1, 0, 0, 0)  </th><th>A^@1_(2, 0, 0, 0, 0)  </th><th>A^@1_(0, 0, 0, 2, 0)  </th><th>A^@1_(0, 0, 1, 1, 0)  </th><th>A^@1_(0, 0, 0, 0, 1)  </th><th>A^@1_(0, 2, 0, 0, 0)  </th><th>A^@1_(0, 1, 0, 1, 0)  </th><th>A^@1_(0, 0, 2, 0, 0)  </th><th>A^@1_(0, 1, 1, 0, 0)  </th><th>A^@1_(1, 0, 0, 1, 0)  </th><th style=\"text-align: right;\">  A^0_(0, 0, 0, 0, -1)</th><th>A^@1_(0, 1, 0, 0, 0)  </th><th>A^@1_(1, 0, 0, 0, 0)  </th><th>A^@1_(0, 0, 1, 0, 0)  </th><th>A^@1_(0, 0, 0, 1, 0)  </th><th style=\"text-align: right;\">  A^@1_(0, 0, 0, 0, 0)</th></tr>\\n</thead>\\n<tbody>\\n<tr><td>A^0_(-1, 0, 0, 0, 0)</td><td>0                     </td><td>A^0_(0, 0, 0, 0, -1)  </td><td>0                     </td><td>0                     </td><td>-A^@1_(0, 0, 1, 0, 0) </td><td>-A^@1_(0, 1, 0, 0, 0) </td><td>-A^@1_(1, 0, 0, 0, 0) </td><td>0                     </td><td>0                     </td><td>0                     </td><td>0                     </td><td>0                     </td><td>0                     </td><td>0                     </td><td>-A^@1_(0, 0, 0, 1, 0) </td><td style=\"text-align: right;\">                     0</td><td>0                     </td><td>-A^@1_(0, 0, 0, 0, 0) </td><td>0                     </td><td>0                     </td><td style=\"text-align: right;\">                     0</td></tr>\\n<tr><td>A^0_(0, -1, 0, 0, 0)</td><td>-A^0_(0, 0, 0, 0, -1) </td><td>0                     </td><td>0                     </td><td>0                     </td><td>0                     </td><td>-A^@1_(1, 0, 0, 0, 0) </td><td>0                     </td><td>0                     </td><td>0                     </td><td>A^@1_(1, 0, 0, 0, 0)  </td><td>-A^@1_(0, 1, 0, 0, 0) </td><td>-A^@1_(0, 0, 0, 1, 0) </td><td>0                     </td><td>-A^@1_(0, 0, 1, 0, 0) </td><td>0                     </td><td style=\"text-align: right;\">                     0</td><td>-A^@1_(0, 0, 0, 0, 0) </td><td>0                     </td><td>0                     </td><td>0                     </td><td style=\"text-align: right;\">                     0</td></tr>\\n<tr><td>A^0_(0, 0, -1, 0, 0)</td><td>0                     </td><td>0                     </td><td>0                     </td><td>A^0_(0, 0, 0, 0, -1)  </td><td>-A^@1_(1, 0, 0, 0, 0) </td><td>0                     </td><td>0                     </td><td>0                     </td><td>-A^@1_(0, 0, 0, 1, 0) </td><td>0                     </td><td>0                     </td><td>0                     </td><td>-A^@1_(0, 0, 1, 0, 0) </td><td>-A^@1_(0, 1, 0, 0, 0) </td><td>0                     </td><td style=\"text-align: right;\">                     0</td><td>0                     </td><td>0                     </td><td>-A^@1_(0, 0, 0, 0, 0) </td><td>0                     </td><td style=\"text-align: right;\">                     0</td></tr>\\n<tr><td>A^0_(0, 0, 0, -1, 0)</td><td>0                     </td><td>0                     </td><td>-A^0_(0, 0, 0, 0, -1) </td><td>0                     </td><td>0                     </td><td>0                     </td><td>0                     </td><td>-A^@1_(0, 0, 0, 1, 0) </td><td>-A^@1_(0, 0, 1, 0, 0) </td><td>A^@1_(0, 0, 1, 0, 0)  </td><td>0                     </td><td>-A^@1_(0, 1, 0, 0, 0) </td><td>0                     </td><td>0                     </td><td>-A^@1_(1, 0, 0, 0, 0) </td><td style=\"text-align: right;\">                     0</td><td>0                     </td><td>0                     </td><td>0                     </td><td>-A^@1_(0, 0, 0, 0, 0) </td><td style=\"text-align: right;\">                     0</td></tr>\\n<tr><td>A^@1_(1, 0, 1, 0, 0)</td><td>A^@1_(0, 0, 1, 0, 0)  </td><td>0                     </td><td>A^@1_(1, 0, 0, 0, 0)  </td><td>0                     </td><td>0                     </td><td>0                     </td><td>0                     </td><td>0                     </td><td>0                     </td><td>0                     </td><td>0                     </td><td>0                     </td><td>0                     </td><td>0                     </td><td>0                     </td><td style=\"text-align: right;\">                     0</td><td>0                     </td><td>0                     </td><td>0                     </td><td>0                     </td><td style=\"text-align: right;\">                     0</td></tr>\\n<tr><td>A^@1_(1, 1, 0, 0, 0)</td><td>A^@1_(0, 1, 0, 0, 0)  </td><td>A^@1_(1, 0, 0, 0, 0)  </td><td>0                     </td><td>0                     </td><td>0                     </td><td>0                     </td><td>0                     </td><td>0                     </td><td>0                     </td><td>0                     </td><td>0                     </td><td>0                     </td><td>0                     </td><td>0                     </td><td>0                     </td><td style=\"text-align: right;\">                     0</td><td>0                     </td><td>0                     </td><td>0                     </td><td>0                     </td><td style=\"text-align: right;\">                     0</td></tr>\\n<tr><td>A^@1_(2, 0, 0, 0, 0)</td><td>A^@1_(1, 0, 0, 0, 0)  </td><td>0                     </td><td>0                     </td><td>0                     </td><td>0                     </td><td>0                     </td><td>0                     </td><td>0                     </td><td>0                     </td><td>0                     </td><td>0                     </td><td>0                     </td><td>0                     </td><td>0                     </td><td>0                     </td><td style=\"text-align: right;\">                     0</td><td>0                     </td><td>0                     </td><td>0                     </td><td>0                     </td><td style=\"text-align: right;\">                     0</td></tr>\\n<tr><td>A^@1_(0, 0, 0, 2, 0)</td><td>0                     </td><td>0                     </td><td>0                     </td><td>A^@1_(0, 0, 0, 1, 0)  </td><td>0                     </td><td>0                     </td><td>0                     </td><td>0                     </td><td>0                     </td><td>0                     </td><td>0                     </td><td>0                     </td><td>0                     </td><td>0                     </td><td>0                     </td><td style=\"text-align: right;\">                     0</td><td>0                     </td><td>0                     </td><td>0                     </td><td>0                     </td><td style=\"text-align: right;\">                     0</td></tr>\\n<tr><td>A^@1_(0, 0, 1, 1, 0)</td><td>0                     </td><td>0                     </td><td>A^@1_(0, 0, 0, 1, 0)  </td><td>A^@1_(0, 0, 1, 0, 0)  </td><td>0                     </td><td>0                     </td><td>0                     </td><td>0                     </td><td>0                     </td><td>0                     </td><td>0                     </td><td>0                     </td><td>0                     </td><td>0                     </td><td>0                     </td><td style=\"text-align: right;\">                     0</td><td>0                     </td><td>0                     </td><td>0                     </td><td>0                     </td><td style=\"text-align: right;\">                     0</td></tr>\\n<tr><td>A^@1_(0, 0, 0, 0, 1)</td><td>0                     </td><td>-A^@1_(1, 0, 0, 0, 0) </td><td>0                     </td><td>-A^@1_(0, 0, 1, 0, 0) </td><td>0                     </td><td>0                     </td><td>0                     </td><td>0                     </td><td>0                     </td><td>0                     </td><td>0                     </td><td>0                     </td><td>0                     </td><td>0                     </td><td>0                     </td><td style=\"text-align: right;\">                     0</td><td>0                     </td><td>0                     </td><td>0                     </td><td>0                     </td><td style=\"text-align: right;\">                     0</td></tr>\\n<tr><td>A^@1_(0, 2, 0, 0, 0)</td><td>0                     </td><td>A^@1_(0, 1, 0, 0, 0)  </td><td>0                     </td><td>0                     </td><td>0                     </td><td>0                     </td><td>0                     </td><td>0                     </td><td>0                     </td><td>0                     </td><td>0                     </td><td>0                     </td><td>0                     </td><td>0                     </td><td>0                     </td><td style=\"text-align: right;\">                     0</td><td>0                     </td><td>0                     </td><td>0                     </td><td>0                     </td><td style=\"text-align: right;\">                     0</td></tr>\\n<tr><td>A^@1_(0, 1, 0, 1, 0)</td><td>0                     </td><td>A^@1_(0, 0, 0, 1, 0)  </td><td>0                     </td><td>A^@1_(0, 1, 0, 0, 0)  </td><td>0                     </td><td>0                     </td><td>0                     </td><td>0                     </td><td>0                     </td><td>0                     </td><td>0                     </td><td>0                     </td><td>0                     </td><td>0                     </td><td>0                     </td><td style=\"text-align: right;\">                     0</td><td>0                     </td><td>0                     </td><td>0                     </td><td>0                     </td><td style=\"text-align: right;\">                     0</td></tr>\\n<tr><td>A^@1_(0, 0, 2, 0, 0)</td><td>0                     </td><td>0                     </td><td>A^@1_(0, 0, 1, 0, 0)  </td><td>0                     </td><td>0                     </td><td>0                     </td><td>0                     </td><td>0                     </td><td>0                     </td><td>0                     </td><td>0                     </td><td>0                     </td><td>0                     </td><td>0                     </td><td>0                     </td><td style=\"text-align: right;\">                     0</td><td>0                     </td><td>0                     </td><td>0                     </td><td>0                     </td><td style=\"text-align: right;\">                     0</td></tr>\\n<tr><td>A^@1_(0, 1, 1, 0, 0)</td><td>0                     </td><td>A^@1_(0, 0, 1, 0, 0)  </td><td>A^@1_(0, 1, 0, 0, 0)  </td><td>0                     </td><td>0                     </td><td>0                     </td><td>0                     </td><td>0                     </td><td>0                     </td><td>0                     </td><td>0                     </td><td>0                     </td><td>0                     </td><td>0                     </td><td>0                     </td><td style=\"text-align: right;\">                     0</td><td>0                     </td><td>0                     </td><td>0                     </td><td>0                     </td><td style=\"text-align: right;\">                     0</td></tr>\\n<tr><td>A^@1_(1, 0, 0, 1, 0)</td><td>A^@1_(0, 0, 0, 1, 0)  </td><td>0                     </td><td>0                     </td><td>A^@1_(1, 0, 0, 0, 0)  </td><td>0                     </td><td>0                     </td><td>0                     </td><td>0                     </td><td>0                     </td><td>0                     </td><td>0                     </td><td>0                     </td><td>0                     </td><td>0                     </td><td>0                     </td><td style=\"text-align: right;\">                     0</td><td>0                     </td><td>0                     </td><td>0                     </td><td>0                     </td><td style=\"text-align: right;\">                     0</td></tr>\\n<tr><td>A^0_(0, 0, 0, 0, -1)</td><td>0                     </td><td>0                     </td><td>0                     </td><td>0                     </td><td>0                     </td><td>0                     </td><td>0                     </td><td>0                     </td><td>0                     </td><td>0                     </td><td>0                     </td><td>0                     </td><td>0                     </td><td>0                     </td><td>0                     </td><td style=\"text-align: right;\">                     0</td><td>0                     </td><td>0                     </td><td>0                     </td><td>0                     </td><td style=\"text-align: right;\">                     0</td></tr>\\n<tr><td>A^@1_(0, 1, 0, 0, 0)</td><td>0                     </td><td>A^@1_(0, 0, 0, 0, 0)  </td><td>0                     </td><td>0                     </td><td>0                     </td><td>0                     </td><td>0                     </td><td>0                     </td><td>0                     </td><td>0                     </td><td>0                     </td><td>0                     </td><td>0                     </td><td>0                     </td><td>0                     </td><td style=\"text-align: right;\">                     0</td><td>0                     </td><td>0                     </td><td>0                     </td><td>0                     </td><td style=\"text-align: right;\">                     0</td></tr>\\n<tr><td>A^@1_(1, 0, 0, 0, 0)</td><td>A^@1_(0, 0, 0, 0, 0)  </td><td>0                     </td><td>0                     </td><td>0                     </td><td>0                     </td><td>0                     </td><td>0                     </td><td>0                     </td><td>0                     </td><td>0                     </td><td>0                     </td><td>0                     </td><td>0                     </td><td>0                     </td><td>0                     </td><td style=\"text-align: right;\">                     0</td><td>0                     </td><td>0                     </td><td>0                     </td><td>0                     </td><td style=\"text-align: right;\">                     0</td></tr>\\n<tr><td>A^@1_(0, 0, 1, 0, 0)</td><td>0                     </td><td>0                     </td><td>A^@1_(0, 0, 0, 0, 0)  </td><td>0                     </td><td>0                     </td><td>0                     </td><td>0                     </td><td>0                     </td><td>0                     </td><td>0                     </td><td>0                     </td><td>0                     </td><td>0                     </td><td>0                     </td><td>0                     </td><td style=\"text-align: right;\">                     0</td><td>0                     </td><td>0                     </td><td>0                     </td><td>0                     </td><td style=\"text-align: right;\">                     0</td></tr>\\n<tr><td>A^@1_(0, 0, 0, 1, 0)</td><td>0                     </td><td>0                     </td><td>0                     </td><td>A^@1_(0, 0, 0, 0, 0)  </td><td>0                     </td><td>0                     </td><td>0                     </td><td>0                     </td><td>0                     </td><td>0                     </td><td>0                     </td><td>0                     </td><td>0                     </td><td>0                     </td><td>0                     </td><td style=\"text-align: right;\">                     0</td><td>0                     </td><td>0                     </td><td>0                     </td><td>0                     </td><td style=\"text-align: right;\">                     0</td></tr>\\n<tr><td>A^@1_(0, 0, 0, 0, 0)</td><td>0                     </td><td>0                     </td><td>0                     </td><td>0                     </td><td>0                     </td><td>0                     </td><td>0                     </td><td>0                     </td><td>0                     </td><td>0                     </td><td>0                     </td><td>0                     </td><td>0                     </td><td>0                     </td><td>0                     </td><td style=\"text-align: right;\">                     0</td><td>0                     </td><td>0                     </td><td>0                     </td><td>0                     </td><td style=\"text-align: right;\">                     0</td></tr>\\n</tbody>\\n</table>'"
      ]
     },
     "metadata": {},
     "output_type": "display_data"
    }
   ],
   "source": [
    "heis2_jet2_1 = JetAlgebra()\n",
    "heis2_jet2_1.name = 'Jet of order 2 and rank 1 over heis2'\n",
    "heis2_jet2_1.lie_algebra_domain = heis2\n",
    "# heis2_jet2_1.target_vector_space = R\n",
    "heis2_jet2_1.order = 2\n",
    "heis2_jet2_1.build_me()\n",
    "show_bra_tab(heis2_jet2_1)"
   ]
  },
  {
   "cell_type": "code",
   "execution_count": 33,
   "id": "3cfb9fa7",
   "metadata": {},
   "outputs": [
    {
     "name": "stdout",
     "output_type": "stream",
     "text": [
      "Step 1 of 6: Construct set of indices:\n",
      "[((-1, 0, 0, 0, 0), 0), ((0, -1, 0, 0, 0), 0), ((0, 0, -1, 0, 0), 0), ((0, 0, 0, -1, 0), 0), ((1, 0, 1, 0, 0), @1), ((1, 1, 0, 0, 0), @1), ((2, 0, 0, 0, 0), @1), ((0, 0, 0, 2, 0), @1), ((0, 0, 1, 1, 0), @1), ((0, 0, 0, 0, 1), @1), ((0, 2, 0, 0, 0), @1), ((0, 1, 0, 1, 0), @1), ((0, 0, 2, 0, 0), @1), ((0, 1, 1, 0, 0), @1), ((1, 0, 0, 1, 0), @1), ((0, 0, 0, 0, -1), 0), ((0, 1, 0, 0, 0), @1), ((1, 0, 0, 0, 0), @1), ((0, 0, 1, 0, 0), @1), ((0, 0, 0, 1, 0), @1), ((0, 0, 0, 0, 0), @1)]\n",
      "\n",
      "Step 2 of 6: Construct HD basis:\n",
      "{((0, 0, 0, 0, 0), @1): @1, ((0, 1, 0, 0, 0), @1): @Y1*@1, ((1, 0, 0, 0, 0), @1): @X1*@1, ((0, 0, 1, 0, 0), @1): @X2*@1, ((0, 0, 0, 1, 0), @1): @Y2*@1, ((1, 0, 1, 0, 0), @1): @X1*@X2*@1 + @X2*@X1*@1, ((1, 1, 0, 0, 0), @1): @X1*@Y1*@1 + @Y1*@X1*@1, ((2, 0, 0, 0, 0), @1): @X1**2*@1, ((0, 0, 0, 2, 0), @1): @Y2**2*@1, ((0, 0, 1, 1, 0), @1): @X2*@Y2*@1 + @Y2*@X2*@1, ((0, 0, 0, 0, 1), @1): -@X1*@Y1*@1 - @X2*@Y2*@1, ((0, 2, 0, 0, 0), @1): @Y1**2*@1, ((0, 1, 0, 1, 0), @1): @Y1*@Y2*@1 + @Y2*@Y1*@1, ((0, 0, 2, 0, 0), @1): @X2**2*@1, ((0, 1, 1, 0, 0), @1): @X2*@Y1*@1 + @Y1*@X2*@1, ((1, 0, 0, 1, 0), @1): @X1*@Y2*@1 + @Y2*@X1*@1}\n",
      "\n",
      "Step 3 of 6: and outer basis:\n",
      "[X1, Y1, X2, Y2, @X1*@X2*@1 + @X2*@X1*@1, @X1*@Y1*@1 + @Y1*@X1*@1, @X1**2*@1, @Y2**2*@1, @X2*@Y2*@1 + @Y2*@X2*@1, -@X1*@Y1*@1 - @X2*@Y2*@1, @Y1**2*@1, @Y1*@Y2*@1 + @Y2*@Y1*@1, @X2**2*@1, @X2*@Y1*@1 + @Y1*@X2*@1, @X1*@Y2*@1 + @Y2*@X1*@1, Z, @Y1*@1, @X1*@1, @X2*@1, @Y2*@1, @1]\n",
      "\n",
      "Step 4 of 6: Construct sybolic basis:\n",
      "[A^0_(-1, 0, 0, 0, 0), A^0_(0, -1, 0, 0, 0), A^0_(0, 0, -1, 0, 0), A^0_(0, 0, 0, -1, 0), A^@1_(1, 0, 1, 0, 0), A^@1_(1, 1, 0, 0, 0), A^@1_(2, 0, 0, 0, 0), A^@1_(0, 0, 0, 2, 0), A^@1_(0, 0, 1, 1, 0), A^@1_(0, 0, 0, 0, 1), A^@1_(0, 2, 0, 0, 0), A^@1_(0, 1, 0, 1, 0), A^@1_(0, 0, 2, 0, 0), A^@1_(0, 1, 1, 0, 0), A^@1_(1, 0, 0, 1, 0), A^0_(0, 0, 0, 0, -1), A^@1_(0, 1, 0, 0, 0), A^@1_(1, 0, 0, 0, 0), A^@1_(0, 0, 1, 0, 0), A^@1_(0, 0, 0, 1, 0), A^@1_(0, 0, 0, 0, 0)]\n",
      "\n",
      "Step 5 of 6: Construct functions from outer basis to the others.\n",
      "Building transformation operations: this can take a lot of time. You may want to change the source code.\n",
      "\n",
      "Step 6 of 6: Construct Lie bracket operation\n",
      "\n",
      "Done\n"
     ]
    },
    {
     "data": {
      "text/html": [
       "<table>\n",
       "<thead>\n",
       "<tr><th>0                   </th><th>A^0_(-1, 0, 0, 0, 0)  </th><th>A^0_(0, -1, 0, 0, 0)  </th><th>A^0_(0, 0, -1, 0, 0)  </th><th>A^0_(0, 0, 0, -1, 0)  </th><th>A^@1_(1, 0, 1, 0, 0)  </th><th>A^@1_(1, 1, 0, 0, 0)  </th><th>A^@1_(2, 0, 0, 0, 0)  </th><th>A^@1_(0, 0, 0, 2, 0)  </th><th>A^@1_(0, 0, 1, 1, 0)  </th><th>A^@1_(0, 0, 0, 0, 1)  </th><th>A^@1_(0, 2, 0, 0, 0)  </th><th>A^@1_(0, 1, 0, 1, 0)  </th><th>A^@1_(0, 0, 2, 0, 0)  </th><th>A^@1_(0, 1, 1, 0, 0)  </th><th>A^@1_(1, 0, 0, 1, 0)  </th><th style=\"text-align: right;\">  A^0_(0, 0, 0, 0, -1)</th><th>A^@1_(0, 1, 0, 0, 0)  </th><th>A^@1_(1, 0, 0, 0, 0)  </th><th>A^@1_(0, 0, 1, 0, 0)  </th><th>A^@1_(0, 0, 0, 1, 0)  </th><th style=\"text-align: right;\">  A^@1_(0, 0, 0, 0, 0)</th></tr>\n",
       "</thead>\n",
       "<tbody>\n",
       "<tr><td>A^0_(-1, 0, 0, 0, 0)</td><td>0                     </td><td>A^0_(0, 0, 0, 0, -1)  </td><td>0                     </td><td>0                     </td><td>-A^@1_(0, 0, 1, 0, 0) </td><td>-A^@1_(0, 1, 0, 0, 0) </td><td>-A^@1_(1, 0, 0, 0, 0) </td><td>0                     </td><td>0                     </td><td>0                     </td><td>0                     </td><td>0                     </td><td>0                     </td><td>0                     </td><td>-A^@1_(0, 0, 0, 1, 0) </td><td style=\"text-align: right;\">                     0</td><td>0                     </td><td>-A^@1_(0, 0, 0, 0, 0) </td><td>0                     </td><td>0                     </td><td style=\"text-align: right;\">                     0</td></tr>\n",
       "<tr><td>A^0_(0, -1, 0, 0, 0)</td><td>-A^0_(0, 0, 0, 0, -1) </td><td>0                     </td><td>0                     </td><td>0                     </td><td>0                     </td><td>-A^@1_(1, 0, 0, 0, 0) </td><td>0                     </td><td>0                     </td><td>0                     </td><td>A^@1_(1, 0, 0, 0, 0)  </td><td>-A^@1_(0, 1, 0, 0, 0) </td><td>-A^@1_(0, 0, 0, 1, 0) </td><td>0                     </td><td>-A^@1_(0, 0, 1, 0, 0) </td><td>0                     </td><td style=\"text-align: right;\">                     0</td><td>-A^@1_(0, 0, 0, 0, 0) </td><td>0                     </td><td>0                     </td><td>0                     </td><td style=\"text-align: right;\">                     0</td></tr>\n",
       "<tr><td>A^0_(0, 0, -1, 0, 0)</td><td>0                     </td><td>0                     </td><td>0                     </td><td>A^0_(0, 0, 0, 0, -1)  </td><td>-A^@1_(1, 0, 0, 0, 0) </td><td>0                     </td><td>0                     </td><td>0                     </td><td>-A^@1_(0, 0, 0, 1, 0) </td><td>0                     </td><td>0                     </td><td>0                     </td><td>-A^@1_(0, 0, 1, 0, 0) </td><td>-A^@1_(0, 1, 0, 0, 0) </td><td>0                     </td><td style=\"text-align: right;\">                     0</td><td>0                     </td><td>0                     </td><td>-A^@1_(0, 0, 0, 0, 0) </td><td>0                     </td><td style=\"text-align: right;\">                     0</td></tr>\n",
       "<tr><td>A^0_(0, 0, 0, -1, 0)</td><td>0                     </td><td>0                     </td><td>-A^0_(0, 0, 0, 0, -1) </td><td>0                     </td><td>0                     </td><td>0                     </td><td>0                     </td><td>-A^@1_(0, 0, 0, 1, 0) </td><td>-A^@1_(0, 0, 1, 0, 0) </td><td>A^@1_(0, 0, 1, 0, 0)  </td><td>0                     </td><td>-A^@1_(0, 1, 0, 0, 0) </td><td>0                     </td><td>0                     </td><td>-A^@1_(1, 0, 0, 0, 0) </td><td style=\"text-align: right;\">                     0</td><td>0                     </td><td>0                     </td><td>0                     </td><td>-A^@1_(0, 0, 0, 0, 0) </td><td style=\"text-align: right;\">                     0</td></tr>\n",
       "<tr><td>A^@1_(1, 0, 1, 0, 0)</td><td>A^@1_(0, 0, 1, 0, 0)  </td><td>0                     </td><td>A^@1_(1, 0, 0, 0, 0)  </td><td>0                     </td><td>0                     </td><td>0                     </td><td>0                     </td><td>0                     </td><td>0                     </td><td>0                     </td><td>0                     </td><td>0                     </td><td>0                     </td><td>0                     </td><td>0                     </td><td style=\"text-align: right;\">                     0</td><td>0                     </td><td>0                     </td><td>0                     </td><td>0                     </td><td style=\"text-align: right;\">                     0</td></tr>\n",
       "<tr><td>A^@1_(1, 1, 0, 0, 0)</td><td>A^@1_(0, 1, 0, 0, 0)  </td><td>A^@1_(1, 0, 0, 0, 0)  </td><td>0                     </td><td>0                     </td><td>0                     </td><td>0                     </td><td>0                     </td><td>0                     </td><td>0                     </td><td>0                     </td><td>0                     </td><td>0                     </td><td>0                     </td><td>0                     </td><td>0                     </td><td style=\"text-align: right;\">                     0</td><td>0                     </td><td>0                     </td><td>0                     </td><td>0                     </td><td style=\"text-align: right;\">                     0</td></tr>\n",
       "<tr><td>A^@1_(2, 0, 0, 0, 0)</td><td>A^@1_(1, 0, 0, 0, 0)  </td><td>0                     </td><td>0                     </td><td>0                     </td><td>0                     </td><td>0                     </td><td>0                     </td><td>0                     </td><td>0                     </td><td>0                     </td><td>0                     </td><td>0                     </td><td>0                     </td><td>0                     </td><td>0                     </td><td style=\"text-align: right;\">                     0</td><td>0                     </td><td>0                     </td><td>0                     </td><td>0                     </td><td style=\"text-align: right;\">                     0</td></tr>\n",
       "<tr><td>A^@1_(0, 0, 0, 2, 0)</td><td>0                     </td><td>0                     </td><td>0                     </td><td>A^@1_(0, 0, 0, 1, 0)  </td><td>0                     </td><td>0                     </td><td>0                     </td><td>0                     </td><td>0                     </td><td>0                     </td><td>0                     </td><td>0                     </td><td>0                     </td><td>0                     </td><td>0                     </td><td style=\"text-align: right;\">                     0</td><td>0                     </td><td>0                     </td><td>0                     </td><td>0                     </td><td style=\"text-align: right;\">                     0</td></tr>\n",
       "<tr><td>A^@1_(0, 0, 1, 1, 0)</td><td>0                     </td><td>0                     </td><td>A^@1_(0, 0, 0, 1, 0)  </td><td>A^@1_(0, 0, 1, 0, 0)  </td><td>0                     </td><td>0                     </td><td>0                     </td><td>0                     </td><td>0                     </td><td>0                     </td><td>0                     </td><td>0                     </td><td>0                     </td><td>0                     </td><td>0                     </td><td style=\"text-align: right;\">                     0</td><td>0                     </td><td>0                     </td><td>0                     </td><td>0                     </td><td style=\"text-align: right;\">                     0</td></tr>\n",
       "<tr><td>A^@1_(0, 0, 0, 0, 1)</td><td>0                     </td><td>-A^@1_(1, 0, 0, 0, 0) </td><td>0                     </td><td>-A^@1_(0, 0, 1, 0, 0) </td><td>0                     </td><td>0                     </td><td>0                     </td><td>0                     </td><td>0                     </td><td>0                     </td><td>0                     </td><td>0                     </td><td>0                     </td><td>0                     </td><td>0                     </td><td style=\"text-align: right;\">                     0</td><td>0                     </td><td>0                     </td><td>0                     </td><td>0                     </td><td style=\"text-align: right;\">                     0</td></tr>\n",
       "<tr><td>A^@1_(0, 2, 0, 0, 0)</td><td>0                     </td><td>A^@1_(0, 1, 0, 0, 0)  </td><td>0                     </td><td>0                     </td><td>0                     </td><td>0                     </td><td>0                     </td><td>0                     </td><td>0                     </td><td>0                     </td><td>0                     </td><td>0                     </td><td>0                     </td><td>0                     </td><td>0                     </td><td style=\"text-align: right;\">                     0</td><td>0                     </td><td>0                     </td><td>0                     </td><td>0                     </td><td style=\"text-align: right;\">                     0</td></tr>\n",
       "<tr><td>A^@1_(0, 1, 0, 1, 0)</td><td>0                     </td><td>A^@1_(0, 0, 0, 1, 0)  </td><td>0                     </td><td>A^@1_(0, 1, 0, 0, 0)  </td><td>0                     </td><td>0                     </td><td>0                     </td><td>0                     </td><td>0                     </td><td>0                     </td><td>0                     </td><td>0                     </td><td>0                     </td><td>0                     </td><td>0                     </td><td style=\"text-align: right;\">                     0</td><td>0                     </td><td>0                     </td><td>0                     </td><td>0                     </td><td style=\"text-align: right;\">                     0</td></tr>\n",
       "<tr><td>A^@1_(0, 0, 2, 0, 0)</td><td>0                     </td><td>0                     </td><td>A^@1_(0, 0, 1, 0, 0)  </td><td>0                     </td><td>0                     </td><td>0                     </td><td>0                     </td><td>0                     </td><td>0                     </td><td>0                     </td><td>0                     </td><td>0                     </td><td>0                     </td><td>0                     </td><td>0                     </td><td style=\"text-align: right;\">                     0</td><td>0                     </td><td>0                     </td><td>0                     </td><td>0                     </td><td style=\"text-align: right;\">                     0</td></tr>\n",
       "<tr><td>A^@1_(0, 1, 1, 0, 0)</td><td>0                     </td><td>A^@1_(0, 0, 1, 0, 0)  </td><td>A^@1_(0, 1, 0, 0, 0)  </td><td>0                     </td><td>0                     </td><td>0                     </td><td>0                     </td><td>0                     </td><td>0                     </td><td>0                     </td><td>0                     </td><td>0                     </td><td>0                     </td><td>0                     </td><td>0                     </td><td style=\"text-align: right;\">                     0</td><td>0                     </td><td>0                     </td><td>0                     </td><td>0                     </td><td style=\"text-align: right;\">                     0</td></tr>\n",
       "<tr><td>A^@1_(1, 0, 0, 1, 0)</td><td>A^@1_(0, 0, 0, 1, 0)  </td><td>0                     </td><td>0                     </td><td>A^@1_(1, 0, 0, 0, 0)  </td><td>0                     </td><td>0                     </td><td>0                     </td><td>0                     </td><td>0                     </td><td>0                     </td><td>0                     </td><td>0                     </td><td>0                     </td><td>0                     </td><td>0                     </td><td style=\"text-align: right;\">                     0</td><td>0                     </td><td>0                     </td><td>0                     </td><td>0                     </td><td style=\"text-align: right;\">                     0</td></tr>\n",
       "<tr><td>A^0_(0, 0, 0, 0, -1)</td><td>0                     </td><td>0                     </td><td>0                     </td><td>0                     </td><td>0                     </td><td>0                     </td><td>0                     </td><td>0                     </td><td>0                     </td><td>0                     </td><td>0                     </td><td>0                     </td><td>0                     </td><td>0                     </td><td>0                     </td><td style=\"text-align: right;\">                     0</td><td>0                     </td><td>0                     </td><td>0                     </td><td>0                     </td><td style=\"text-align: right;\">                     0</td></tr>\n",
       "<tr><td>A^@1_(0, 1, 0, 0, 0)</td><td>0                     </td><td>A^@1_(0, 0, 0, 0, 0)  </td><td>0                     </td><td>0                     </td><td>0                     </td><td>0                     </td><td>0                     </td><td>0                     </td><td>0                     </td><td>0                     </td><td>0                     </td><td>0                     </td><td>0                     </td><td>0                     </td><td>0                     </td><td style=\"text-align: right;\">                     0</td><td>0                     </td><td>0                     </td><td>0                     </td><td>0                     </td><td style=\"text-align: right;\">                     0</td></tr>\n",
       "<tr><td>A^@1_(1, 0, 0, 0, 0)</td><td>A^@1_(0, 0, 0, 0, 0)  </td><td>0                     </td><td>0                     </td><td>0                     </td><td>0                     </td><td>0                     </td><td>0                     </td><td>0                     </td><td>0                     </td><td>0                     </td><td>0                     </td><td>0                     </td><td>0                     </td><td>0                     </td><td>0                     </td><td style=\"text-align: right;\">                     0</td><td>0                     </td><td>0                     </td><td>0                     </td><td>0                     </td><td style=\"text-align: right;\">                     0</td></tr>\n",
       "<tr><td>A^@1_(0, 0, 1, 0, 0)</td><td>0                     </td><td>0                     </td><td>A^@1_(0, 0, 0, 0, 0)  </td><td>0                     </td><td>0                     </td><td>0                     </td><td>0                     </td><td>0                     </td><td>0                     </td><td>0                     </td><td>0                     </td><td>0                     </td><td>0                     </td><td>0                     </td><td>0                     </td><td style=\"text-align: right;\">                     0</td><td>0                     </td><td>0                     </td><td>0                     </td><td>0                     </td><td style=\"text-align: right;\">                     0</td></tr>\n",
       "<tr><td>A^@1_(0, 0, 0, 1, 0)</td><td>0                     </td><td>0                     </td><td>0                     </td><td>A^@1_(0, 0, 0, 0, 0)  </td><td>0                     </td><td>0                     </td><td>0                     </td><td>0                     </td><td>0                     </td><td>0                     </td><td>0                     </td><td>0                     </td><td>0                     </td><td>0                     </td><td>0                     </td><td style=\"text-align: right;\">                     0</td><td>0                     </td><td>0                     </td><td>0                     </td><td>0                     </td><td style=\"text-align: right;\">                     0</td></tr>\n",
       "<tr><td>A^@1_(0, 0, 0, 0, 0)</td><td>0                     </td><td>0                     </td><td>0                     </td><td>0                     </td><td>0                     </td><td>0                     </td><td>0                     </td><td>0                     </td><td>0                     </td><td>0                     </td><td>0                     </td><td>0                     </td><td>0                     </td><td>0                     </td><td>0                     </td><td style=\"text-align: right;\">                     0</td><td>0                     </td><td>0                     </td><td>0                     </td><td>0                     </td><td style=\"text-align: right;\">                     0</td></tr>\n",
       "</tbody>\n",
       "</table>"
      ],
      "text/plain": [
       "'<table>\\n<thead>\\n<tr><th>0                   </th><th>A^0_(-1, 0, 0, 0, 0)  </th><th>A^0_(0, -1, 0, 0, 0)  </th><th>A^0_(0, 0, -1, 0, 0)  </th><th>A^0_(0, 0, 0, -1, 0)  </th><th>A^@1_(1, 0, 1, 0, 0)  </th><th>A^@1_(1, 1, 0, 0, 0)  </th><th>A^@1_(2, 0, 0, 0, 0)  </th><th>A^@1_(0, 0, 0, 2, 0)  </th><th>A^@1_(0, 0, 1, 1, 0)  </th><th>A^@1_(0, 0, 0, 0, 1)  </th><th>A^@1_(0, 2, 0, 0, 0)  </th><th>A^@1_(0, 1, 0, 1, 0)  </th><th>A^@1_(0, 0, 2, 0, 0)  </th><th>A^@1_(0, 1, 1, 0, 0)  </th><th>A^@1_(1, 0, 0, 1, 0)  </th><th style=\"text-align: right;\">  A^0_(0, 0, 0, 0, -1)</th><th>A^@1_(0, 1, 0, 0, 0)  </th><th>A^@1_(1, 0, 0, 0, 0)  </th><th>A^@1_(0, 0, 1, 0, 0)  </th><th>A^@1_(0, 0, 0, 1, 0)  </th><th style=\"text-align: right;\">  A^@1_(0, 0, 0, 0, 0)</th></tr>\\n</thead>\\n<tbody>\\n<tr><td>A^0_(-1, 0, 0, 0, 0)</td><td>0                     </td><td>A^0_(0, 0, 0, 0, -1)  </td><td>0                     </td><td>0                     </td><td>-A^@1_(0, 0, 1, 0, 0) </td><td>-A^@1_(0, 1, 0, 0, 0) </td><td>-A^@1_(1, 0, 0, 0, 0) </td><td>0                     </td><td>0                     </td><td>0                     </td><td>0                     </td><td>0                     </td><td>0                     </td><td>0                     </td><td>-A^@1_(0, 0, 0, 1, 0) </td><td style=\"text-align: right;\">                     0</td><td>0                     </td><td>-A^@1_(0, 0, 0, 0, 0) </td><td>0                     </td><td>0                     </td><td style=\"text-align: right;\">                     0</td></tr>\\n<tr><td>A^0_(0, -1, 0, 0, 0)</td><td>-A^0_(0, 0, 0, 0, -1) </td><td>0                     </td><td>0                     </td><td>0                     </td><td>0                     </td><td>-A^@1_(1, 0, 0, 0, 0) </td><td>0                     </td><td>0                     </td><td>0                     </td><td>A^@1_(1, 0, 0, 0, 0)  </td><td>-A^@1_(0, 1, 0, 0, 0) </td><td>-A^@1_(0, 0, 0, 1, 0) </td><td>0                     </td><td>-A^@1_(0, 0, 1, 0, 0) </td><td>0                     </td><td style=\"text-align: right;\">                     0</td><td>-A^@1_(0, 0, 0, 0, 0) </td><td>0                     </td><td>0                     </td><td>0                     </td><td style=\"text-align: right;\">                     0</td></tr>\\n<tr><td>A^0_(0, 0, -1, 0, 0)</td><td>0                     </td><td>0                     </td><td>0                     </td><td>A^0_(0, 0, 0, 0, -1)  </td><td>-A^@1_(1, 0, 0, 0, 0) </td><td>0                     </td><td>0                     </td><td>0                     </td><td>-A^@1_(0, 0, 0, 1, 0) </td><td>0                     </td><td>0                     </td><td>0                     </td><td>-A^@1_(0, 0, 1, 0, 0) </td><td>-A^@1_(0, 1, 0, 0, 0) </td><td>0                     </td><td style=\"text-align: right;\">                     0</td><td>0                     </td><td>0                     </td><td>-A^@1_(0, 0, 0, 0, 0) </td><td>0                     </td><td style=\"text-align: right;\">                     0</td></tr>\\n<tr><td>A^0_(0, 0, 0, -1, 0)</td><td>0                     </td><td>0                     </td><td>-A^0_(0, 0, 0, 0, -1) </td><td>0                     </td><td>0                     </td><td>0                     </td><td>0                     </td><td>-A^@1_(0, 0, 0, 1, 0) </td><td>-A^@1_(0, 0, 1, 0, 0) </td><td>A^@1_(0, 0, 1, 0, 0)  </td><td>0                     </td><td>-A^@1_(0, 1, 0, 0, 0) </td><td>0                     </td><td>0                     </td><td>-A^@1_(1, 0, 0, 0, 0) </td><td style=\"text-align: right;\">                     0</td><td>0                     </td><td>0                     </td><td>0                     </td><td>-A^@1_(0, 0, 0, 0, 0) </td><td style=\"text-align: right;\">                     0</td></tr>\\n<tr><td>A^@1_(1, 0, 1, 0, 0)</td><td>A^@1_(0, 0, 1, 0, 0)  </td><td>0                     </td><td>A^@1_(1, 0, 0, 0, 0)  </td><td>0                     </td><td>0                     </td><td>0                     </td><td>0                     </td><td>0                     </td><td>0                     </td><td>0                     </td><td>0                     </td><td>0                     </td><td>0                     </td><td>0                     </td><td>0                     </td><td style=\"text-align: right;\">                     0</td><td>0                     </td><td>0                     </td><td>0                     </td><td>0                     </td><td style=\"text-align: right;\">                     0</td></tr>\\n<tr><td>A^@1_(1, 1, 0, 0, 0)</td><td>A^@1_(0, 1, 0, 0, 0)  </td><td>A^@1_(1, 0, 0, 0, 0)  </td><td>0                     </td><td>0                     </td><td>0                     </td><td>0                     </td><td>0                     </td><td>0                     </td><td>0                     </td><td>0                     </td><td>0                     </td><td>0                     </td><td>0                     </td><td>0                     </td><td>0                     </td><td style=\"text-align: right;\">                     0</td><td>0                     </td><td>0                     </td><td>0                     </td><td>0                     </td><td style=\"text-align: right;\">                     0</td></tr>\\n<tr><td>A^@1_(2, 0, 0, 0, 0)</td><td>A^@1_(1, 0, 0, 0, 0)  </td><td>0                     </td><td>0                     </td><td>0                     </td><td>0                     </td><td>0                     </td><td>0                     </td><td>0                     </td><td>0                     </td><td>0                     </td><td>0                     </td><td>0                     </td><td>0                     </td><td>0                     </td><td>0                     </td><td style=\"text-align: right;\">                     0</td><td>0                     </td><td>0                     </td><td>0                     </td><td>0                     </td><td style=\"text-align: right;\">                     0</td></tr>\\n<tr><td>A^@1_(0, 0, 0, 2, 0)</td><td>0                     </td><td>0                     </td><td>0                     </td><td>A^@1_(0, 0, 0, 1, 0)  </td><td>0                     </td><td>0                     </td><td>0                     </td><td>0                     </td><td>0                     </td><td>0                     </td><td>0                     </td><td>0                     </td><td>0                     </td><td>0                     </td><td>0                     </td><td style=\"text-align: right;\">                     0</td><td>0                     </td><td>0                     </td><td>0                     </td><td>0                     </td><td style=\"text-align: right;\">                     0</td></tr>\\n<tr><td>A^@1_(0, 0, 1, 1, 0)</td><td>0                     </td><td>0                     </td><td>A^@1_(0, 0, 0, 1, 0)  </td><td>A^@1_(0, 0, 1, 0, 0)  </td><td>0                     </td><td>0                     </td><td>0                     </td><td>0                     </td><td>0                     </td><td>0                     </td><td>0                     </td><td>0                     </td><td>0                     </td><td>0                     </td><td>0                     </td><td style=\"text-align: right;\">                     0</td><td>0                     </td><td>0                     </td><td>0                     </td><td>0                     </td><td style=\"text-align: right;\">                     0</td></tr>\\n<tr><td>A^@1_(0, 0, 0, 0, 1)</td><td>0                     </td><td>-A^@1_(1, 0, 0, 0, 0) </td><td>0                     </td><td>-A^@1_(0, 0, 1, 0, 0) </td><td>0                     </td><td>0                     </td><td>0                     </td><td>0                     </td><td>0                     </td><td>0                     </td><td>0                     </td><td>0                     </td><td>0                     </td><td>0                     </td><td>0                     </td><td style=\"text-align: right;\">                     0</td><td>0                     </td><td>0                     </td><td>0                     </td><td>0                     </td><td style=\"text-align: right;\">                     0</td></tr>\\n<tr><td>A^@1_(0, 2, 0, 0, 0)</td><td>0                     </td><td>A^@1_(0, 1, 0, 0, 0)  </td><td>0                     </td><td>0                     </td><td>0                     </td><td>0                     </td><td>0                     </td><td>0                     </td><td>0                     </td><td>0                     </td><td>0                     </td><td>0                     </td><td>0                     </td><td>0                     </td><td>0                     </td><td style=\"text-align: right;\">                     0</td><td>0                     </td><td>0                     </td><td>0                     </td><td>0                     </td><td style=\"text-align: right;\">                     0</td></tr>\\n<tr><td>A^@1_(0, 1, 0, 1, 0)</td><td>0                     </td><td>A^@1_(0, 0, 0, 1, 0)  </td><td>0                     </td><td>A^@1_(0, 1, 0, 0, 0)  </td><td>0                     </td><td>0                     </td><td>0                     </td><td>0                     </td><td>0                     </td><td>0                     </td><td>0                     </td><td>0                     </td><td>0                     </td><td>0                     </td><td>0                     </td><td style=\"text-align: right;\">                     0</td><td>0                     </td><td>0                     </td><td>0                     </td><td>0                     </td><td style=\"text-align: right;\">                     0</td></tr>\\n<tr><td>A^@1_(0, 0, 2, 0, 0)</td><td>0                     </td><td>0                     </td><td>A^@1_(0, 0, 1, 0, 0)  </td><td>0                     </td><td>0                     </td><td>0                     </td><td>0                     </td><td>0                     </td><td>0                     </td><td>0                     </td><td>0                     </td><td>0                     </td><td>0                     </td><td>0                     </td><td>0                     </td><td style=\"text-align: right;\">                     0</td><td>0                     </td><td>0                     </td><td>0                     </td><td>0                     </td><td style=\"text-align: right;\">                     0</td></tr>\\n<tr><td>A^@1_(0, 1, 1, 0, 0)</td><td>0                     </td><td>A^@1_(0, 0, 1, 0, 0)  </td><td>A^@1_(0, 1, 0, 0, 0)  </td><td>0                     </td><td>0                     </td><td>0                     </td><td>0                     </td><td>0                     </td><td>0                     </td><td>0                     </td><td>0                     </td><td>0                     </td><td>0                     </td><td>0                     </td><td>0                     </td><td style=\"text-align: right;\">                     0</td><td>0                     </td><td>0                     </td><td>0                     </td><td>0                     </td><td style=\"text-align: right;\">                     0</td></tr>\\n<tr><td>A^@1_(1, 0, 0, 1, 0)</td><td>A^@1_(0, 0, 0, 1, 0)  </td><td>0                     </td><td>0                     </td><td>A^@1_(1, 0, 0, 0, 0)  </td><td>0                     </td><td>0                     </td><td>0                     </td><td>0                     </td><td>0                     </td><td>0                     </td><td>0                     </td><td>0                     </td><td>0                     </td><td>0                     </td><td>0                     </td><td style=\"text-align: right;\">                     0</td><td>0                     </td><td>0                     </td><td>0                     </td><td>0                     </td><td style=\"text-align: right;\">                     0</td></tr>\\n<tr><td>A^0_(0, 0, 0, 0, -1)</td><td>0                     </td><td>0                     </td><td>0                     </td><td>0                     </td><td>0                     </td><td>0                     </td><td>0                     </td><td>0                     </td><td>0                     </td><td>0                     </td><td>0                     </td><td>0                     </td><td>0                     </td><td>0                     </td><td>0                     </td><td style=\"text-align: right;\">                     0</td><td>0                     </td><td>0                     </td><td>0                     </td><td>0                     </td><td style=\"text-align: right;\">                     0</td></tr>\\n<tr><td>A^@1_(0, 1, 0, 0, 0)</td><td>0                     </td><td>A^@1_(0, 0, 0, 0, 0)  </td><td>0                     </td><td>0                     </td><td>0                     </td><td>0                     </td><td>0                     </td><td>0                     </td><td>0                     </td><td>0                     </td><td>0                     </td><td>0                     </td><td>0                     </td><td>0                     </td><td>0                     </td><td style=\"text-align: right;\">                     0</td><td>0                     </td><td>0                     </td><td>0                     </td><td>0                     </td><td style=\"text-align: right;\">                     0</td></tr>\\n<tr><td>A^@1_(1, 0, 0, 0, 0)</td><td>A^@1_(0, 0, 0, 0, 0)  </td><td>0                     </td><td>0                     </td><td>0                     </td><td>0                     </td><td>0                     </td><td>0                     </td><td>0                     </td><td>0                     </td><td>0                     </td><td>0                     </td><td>0                     </td><td>0                     </td><td>0                     </td><td>0                     </td><td style=\"text-align: right;\">                     0</td><td>0                     </td><td>0                     </td><td>0                     </td><td>0                     </td><td style=\"text-align: right;\">                     0</td></tr>\\n<tr><td>A^@1_(0, 0, 1, 0, 0)</td><td>0                     </td><td>0                     </td><td>A^@1_(0, 0, 0, 0, 0)  </td><td>0                     </td><td>0                     </td><td>0                     </td><td>0                     </td><td>0                     </td><td>0                     </td><td>0                     </td><td>0                     </td><td>0                     </td><td>0                     </td><td>0                     </td><td>0                     </td><td style=\"text-align: right;\">                     0</td><td>0                     </td><td>0                     </td><td>0                     </td><td>0                     </td><td style=\"text-align: right;\">                     0</td></tr>\\n<tr><td>A^@1_(0, 0, 0, 1, 0)</td><td>0                     </td><td>0                     </td><td>0                     </td><td>A^@1_(0, 0, 0, 0, 0)  </td><td>0                     </td><td>0                     </td><td>0                     </td><td>0                     </td><td>0                     </td><td>0                     </td><td>0                     </td><td>0                     </td><td>0                     </td><td>0                     </td><td>0                     </td><td style=\"text-align: right;\">                     0</td><td>0                     </td><td>0                     </td><td>0                     </td><td>0                     </td><td style=\"text-align: right;\">                     0</td></tr>\\n<tr><td>A^@1_(0, 0, 0, 0, 0)</td><td>0                     </td><td>0                     </td><td>0                     </td><td>0                     </td><td>0                     </td><td>0                     </td><td>0                     </td><td>0                     </td><td>0                     </td><td>0                     </td><td>0                     </td><td>0                     </td><td>0                     </td><td>0                     </td><td>0                     </td><td style=\"text-align: right;\">                     0</td><td>0                     </td><td>0                     </td><td>0                     </td><td>0                     </td><td style=\"text-align: right;\">                     0</td></tr>\\n</tbody>\\n</table>'"
      ]
     },
     "metadata": {},
     "output_type": "display_data"
    }
   ],
   "source": [
    "free32_jet2_1 = JetAlgebra()\n",
    "free32_jet2_1.name = 'Jet of order 2 and rank 1 over free32'\n",
    "free32_jet2_1.lie_algebra_domain = heis2\n",
    "# free32_jet2_1.target_vector_space = R\n",
    "free32_jet2_1.order = 2\n",
    "free32_jet2_1.build_me()\n",
    "show_bra_tab(free32_jet2_1)"
   ]
  },
  {
   "cell_type": "code",
   "execution_count": null,
   "id": "a9dd8e2b",
   "metadata": {},
   "outputs": [],
   "source": []
  }
 ],
 "metadata": {
  "kernelspec": {
   "display_name": "Python 3 (ipykernel)",
   "language": "python",
   "name": "python3"
  },
  "language_info": {
   "codemirror_mode": {
    "name": "ipython",
    "version": 3
   },
   "file_extension": ".py",
   "mimetype": "text/x-python",
   "name": "python",
   "nbconvert_exporter": "python",
   "pygments_lexer": "ipython3",
   "version": "3.10.9"
  }
 },
 "nbformat": 4,
 "nbformat_minor": 5
}
