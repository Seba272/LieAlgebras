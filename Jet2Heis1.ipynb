{
 "cells": [
  {
   "cell_type": "code",
   "execution_count": 1,
   "id": "d946bd37",
   "metadata": {},
   "outputs": [],
   "source": [
    "from sympy import *\n",
    "from LieAlgebras5 import *\n",
    "from sympy.diffgeom import *"
   ]
  },
  {
   "cell_type": "code",
   "execution_count": 2,
   "id": "d95f0aa4",
   "metadata": {},
   "outputs": [],
   "source": [
    "def show_bra(la):\n",
    "    basis = la.basis_symbolic\n",
    "    dim = la.dimension\n",
    "    M = zeros(dim+1,dim+1)\n",
    "    for i in range(dim):\n",
    "        M[i+1,0] = M[0,i+1] = basis[i]\n",
    "    for i in range(dim):\n",
    "        for j in range(dim):\n",
    "    #         print(i,j)\n",
    "            M[i+1,j+1] = la(basis[i],basis[j])\n",
    "    display(M)\n",
    "from tabulate import tabulate\n",
    "def show_bra_tab(la):\n",
    "    basis = la.basis_symbolic\n",
    "    dim = la.dimension\n",
    "    M = zeros(dim+1,dim+1)\n",
    "    for i in range(dim):\n",
    "        M[i+1,0] = M[0,i+1] = basis[i]\n",
    "    for i in range(dim):\n",
    "        for j in range(dim):\n",
    "    #         print(i,j)\n",
    "            M[i+1,j+1] = la(basis[i],basis[j])\n",
    "\n",
    "    M_list = [[M[i,j] for j in range(M.cols)] for i in range(M.rows)]\n",
    "    tabella = tabulate(M_list,headers=\"firstrow\", tablefmt=\"html\")\n",
    "    display(tabella)"
   ]
  },
  {
   "cell_type": "code",
   "execution_count": 3,
   "id": "0dddf0ba",
   "metadata": {},
   "outputs": [
    {
     "name": "stdout",
     "output_type": "stream",
     "text": [
      "Jacobi: True\n"
     ]
    },
    {
     "data": {
      "text/html": [
       "<table>\n",
       "<thead>\n",
       "<tr><th>0  </th><th>X  </th><th>Y  </th><th style=\"text-align: right;\">  Z</th></tr>\n",
       "</thead>\n",
       "<tbody>\n",
       "<tr><td>X  </td><td>0  </td><td>Z  </td><td style=\"text-align: right;\">  0</td></tr>\n",
       "<tr><td>Y  </td><td>-Z </td><td>0  </td><td style=\"text-align: right;\">  0</td></tr>\n",
       "<tr><td>Z  </td><td>0  </td><td>0  </td><td style=\"text-align: right;\">  0</td></tr>\n",
       "</tbody>\n",
       "</table>"
      ],
      "text/plain": [
       "'<table>\\n<thead>\\n<tr><th>0  </th><th>X  </th><th>Y  </th><th style=\"text-align: right;\">  Z</th></tr>\\n</thead>\\n<tbody>\\n<tr><td>X  </td><td>0  </td><td>Z  </td><td style=\"text-align: right;\">  0</td></tr>\\n<tr><td>Y  </td><td>-Z </td><td>0  </td><td style=\"text-align: right;\">  0</td></tr>\\n<tr><td>Z  </td><td>0  </td><td>0  </td><td style=\"text-align: right;\">  0</td></tr>\\n</tbody>\\n</table>'"
      ]
     },
     "metadata": {},
     "output_type": "display_data"
    }
   ],
   "source": [
    "# Bianchi Type II\n",
    "heis1 = LieAlgebra()\n",
    "heis1.name = 'Heisenberg'\n",
    "heis1.basis_symbolic = ['X','Y','Z']\n",
    "[X,Y,Z] = heis1.basis_symbolic\n",
    "heis1.brackets.rules = {(X,Y):Z}\n",
    "print(\"Jacobi:\",heis1.check_jacobi())\n",
    "heis1.declare_stratified(growth_vector = [2,1])\n",
    "show_bra_tab(heis1)"
   ]
  },
  {
   "cell_type": "code",
   "execution_count": 4,
   "id": "3f93c251",
   "metadata": {},
   "outputs": [
    {
     "name": "stdout",
     "output_type": "stream",
     "text": [
      "Step 1 of 7: Construct set of indices:\n",
      "[((-1, 0, 0), 0), ((0, -1, 0), 0), ((2, 0, 0), @1), ((1, 1, 0), @1), ((0, 2, 0), @1), ((0, 0, 1), @1), ((0, 0, -1), 0), ((1, 0, 0), @1), ((0, 1, 0), @1), ((0, 0, 0), @1)]\n",
      "\n",
      "Step 2 of 7: Construct HD basis:\n",
      "{((0, 0, 0), @1): @1, ((1, 0, 0), @1): @X*@1, ((0, 1, 0), @1): @Y*@1, ((2, 0, 0), @1): @X**2*@1, ((1, 1, 0), @1): @X*@Y*@1 + @Y*@X*@1, ((0, 2, 0), @1): @Y**2*@1, ((0, 0, 1), @1): -@X*@Y*@1}\n",
      "\n",
      "Step 3 of 7: and outer basis:\n",
      "[X, Y, @X**2*@1, @X*@Y*@1 + @Y*@X*@1, @Y**2*@1, -@X*@Y*@1, Z, @X*@1, @Y*@1, @1]\n",
      "\n",
      "Step 4 of 7: Construct sybolic basis:\n",
      "[A^0_(-1, 0, 0), A^0_(0, -1, 0), A^@1_(2, 0, 0), A^@1_(1, 1, 0), A^@1_(0, 2, 0), A^@1_(0, 0, 1), A^0_(0, 0, -1), A^@1_(1, 0, 0), A^@1_(0, 1, 0), A^@1_(0, 0, 0)]\n",
      "\n",
      "Step 5 of 7: Construct growth vector\n",
      "[6, 3, 1]\n",
      "\n",
      "Step 6 of 7: Construct functions from outer basis to the others.\n",
      "Building transformation operations: this can take a lot of time. You may want to change the source code.\n",
      "\n",
      "Step 7 of 7: Construct Lie bracket operation\n",
      "\n",
      "Done\n"
     ]
    },
    {
     "data": {
      "text/html": [
       "<table>\n",
       "<thead>\n",
       "<tr><th>0             </th><th>A^0_(-1, 0, 0)  </th><th>A^0_(0, -1, 0)  </th><th>A^@1_(2, 0, 0)  </th><th>A^@1_(1, 1, 0)  </th><th>A^@1_(0, 2, 0)  </th><th>A^@1_(0, 0, 1)  </th><th>A^0_(0, 0, -1)  </th><th>A^@1_(1, 0, 0)  </th><th>A^@1_(0, 1, 0)  </th><th style=\"text-align: right;\">  A^@1_(0, 0, 0)</th></tr>\n",
       "</thead>\n",
       "<tbody>\n",
       "<tr><td>A^0_(-1, 0, 0)</td><td>0               </td><td>A^0_(0, 0, -1)  </td><td>-A^@1_(1, 0, 0) </td><td>-A^@1_(0, 1, 0) </td><td>0               </td><td>0               </td><td>0               </td><td>-A^@1_(0, 0, 0) </td><td>0               </td><td style=\"text-align: right;\">               0</td></tr>\n",
       "<tr><td>A^0_(0, -1, 0)</td><td>-A^0_(0, 0, -1) </td><td>0               </td><td>0               </td><td>-A^@1_(1, 0, 0) </td><td>-A^@1_(0, 1, 0) </td><td>A^@1_(1, 0, 0)  </td><td>0               </td><td>0               </td><td>-A^@1_(0, 0, 0) </td><td style=\"text-align: right;\">               0</td></tr>\n",
       "<tr><td>A^@1_(2, 0, 0)</td><td>A^@1_(1, 0, 0)  </td><td>0               </td><td>0               </td><td>0               </td><td>0               </td><td>0               </td><td>0               </td><td>0               </td><td>0               </td><td style=\"text-align: right;\">               0</td></tr>\n",
       "<tr><td>A^@1_(1, 1, 0)</td><td>A^@1_(0, 1, 0)  </td><td>A^@1_(1, 0, 0)  </td><td>0               </td><td>0               </td><td>0               </td><td>0               </td><td>0               </td><td>0               </td><td>0               </td><td style=\"text-align: right;\">               0</td></tr>\n",
       "<tr><td>A^@1_(0, 2, 0)</td><td>0               </td><td>A^@1_(0, 1, 0)  </td><td>0               </td><td>0               </td><td>0               </td><td>0               </td><td>0               </td><td>0               </td><td>0               </td><td style=\"text-align: right;\">               0</td></tr>\n",
       "<tr><td>A^@1_(0, 0, 1)</td><td>0               </td><td>-A^@1_(1, 0, 0) </td><td>0               </td><td>0               </td><td>0               </td><td>0               </td><td>A^@1_(0, 0, 0)  </td><td>0               </td><td>0               </td><td style=\"text-align: right;\">               0</td></tr>\n",
       "<tr><td>A^0_(0, 0, -1)</td><td>0               </td><td>0               </td><td>0               </td><td>0               </td><td>0               </td><td>-A^@1_(0, 0, 0) </td><td>0               </td><td>0               </td><td>0               </td><td style=\"text-align: right;\">               0</td></tr>\n",
       "<tr><td>A^@1_(1, 0, 0)</td><td>A^@1_(0, 0, 0)  </td><td>0               </td><td>0               </td><td>0               </td><td>0               </td><td>0               </td><td>0               </td><td>0               </td><td>0               </td><td style=\"text-align: right;\">               0</td></tr>\n",
       "<tr><td>A^@1_(0, 1, 0)</td><td>0               </td><td>A^@1_(0, 0, 0)  </td><td>0               </td><td>0               </td><td>0               </td><td>0               </td><td>0               </td><td>0               </td><td>0               </td><td style=\"text-align: right;\">               0</td></tr>\n",
       "<tr><td>A^@1_(0, 0, 0)</td><td>0               </td><td>0               </td><td>0               </td><td>0               </td><td>0               </td><td>0               </td><td>0               </td><td>0               </td><td>0               </td><td style=\"text-align: right;\">               0</td></tr>\n",
       "</tbody>\n",
       "</table>"
      ],
      "text/plain": [
       "'<table>\\n<thead>\\n<tr><th>0             </th><th>A^0_(-1, 0, 0)  </th><th>A^0_(0, -1, 0)  </th><th>A^@1_(2, 0, 0)  </th><th>A^@1_(1, 1, 0)  </th><th>A^@1_(0, 2, 0)  </th><th>A^@1_(0, 0, 1)  </th><th>A^0_(0, 0, -1)  </th><th>A^@1_(1, 0, 0)  </th><th>A^@1_(0, 1, 0)  </th><th style=\"text-align: right;\">  A^@1_(0, 0, 0)</th></tr>\\n</thead>\\n<tbody>\\n<tr><td>A^0_(-1, 0, 0)</td><td>0               </td><td>A^0_(0, 0, -1)  </td><td>-A^@1_(1, 0, 0) </td><td>-A^@1_(0, 1, 0) </td><td>0               </td><td>0               </td><td>0               </td><td>-A^@1_(0, 0, 0) </td><td>0               </td><td style=\"text-align: right;\">               0</td></tr>\\n<tr><td>A^0_(0, -1, 0)</td><td>-A^0_(0, 0, -1) </td><td>0               </td><td>0               </td><td>-A^@1_(1, 0, 0) </td><td>-A^@1_(0, 1, 0) </td><td>A^@1_(1, 0, 0)  </td><td>0               </td><td>0               </td><td>-A^@1_(0, 0, 0) </td><td style=\"text-align: right;\">               0</td></tr>\\n<tr><td>A^@1_(2, 0, 0)</td><td>A^@1_(1, 0, 0)  </td><td>0               </td><td>0               </td><td>0               </td><td>0               </td><td>0               </td><td>0               </td><td>0               </td><td>0               </td><td style=\"text-align: right;\">               0</td></tr>\\n<tr><td>A^@1_(1, 1, 0)</td><td>A^@1_(0, 1, 0)  </td><td>A^@1_(1, 0, 0)  </td><td>0               </td><td>0               </td><td>0               </td><td>0               </td><td>0               </td><td>0               </td><td>0               </td><td style=\"text-align: right;\">               0</td></tr>\\n<tr><td>A^@1_(0, 2, 0)</td><td>0               </td><td>A^@1_(0, 1, 0)  </td><td>0               </td><td>0               </td><td>0               </td><td>0               </td><td>0               </td><td>0               </td><td>0               </td><td style=\"text-align: right;\">               0</td></tr>\\n<tr><td>A^@1_(0, 0, 1)</td><td>0               </td><td>-A^@1_(1, 0, 0) </td><td>0               </td><td>0               </td><td>0               </td><td>0               </td><td>A^@1_(0, 0, 0)  </td><td>0               </td><td>0               </td><td style=\"text-align: right;\">               0</td></tr>\\n<tr><td>A^0_(0, 0, -1)</td><td>0               </td><td>0               </td><td>0               </td><td>0               </td><td>0               </td><td>-A^@1_(0, 0, 0) </td><td>0               </td><td>0               </td><td>0               </td><td style=\"text-align: right;\">               0</td></tr>\\n<tr><td>A^@1_(1, 0, 0)</td><td>A^@1_(0, 0, 0)  </td><td>0               </td><td>0               </td><td>0               </td><td>0               </td><td>0               </td><td>0               </td><td>0               </td><td>0               </td><td style=\"text-align: right;\">               0</td></tr>\\n<tr><td>A^@1_(0, 1, 0)</td><td>0               </td><td>A^@1_(0, 0, 0)  </td><td>0               </td><td>0               </td><td>0               </td><td>0               </td><td>0               </td><td>0               </td><td>0               </td><td style=\"text-align: right;\">               0</td></tr>\\n<tr><td>A^@1_(0, 0, 0)</td><td>0               </td><td>0               </td><td>0               </td><td>0               </td><td>0               </td><td>0               </td><td>0               </td><td>0               </td><td>0               </td><td style=\"text-align: right;\">               0</td></tr>\\n</tbody>\\n</table>'"
      ]
     },
     "metadata": {},
     "output_type": "display_data"
    }
   ],
   "source": [
    "heis1_jet2 = JetAlgebra()\n",
    "heis1_jet2.name = 'Jet of order 2 and rank 1 over heis1'\n",
    "heis1_jet2.lie_algebra_domain = heis1\n",
    "# heis2_jet2_1.target_vector_space = R\n",
    "heis1_jet2.order = 2\n",
    "heis1_jet2.build_me()\n",
    "show_bra_tab(heis1_jet2)\n",
    "la = heis1_jet2"
   ]
  },
  {
   "cell_type": "code",
   "execution_count": 5,
   "id": "55c58e70",
   "metadata": {},
   "outputs": [
    {
     "data": {
      "text/plain": [
       "True"
      ]
     },
     "execution_count": 5,
     "metadata": {},
     "output_type": "execute_result"
    }
   ],
   "source": [
    "la = heis1_jet2\n",
    "# one = la.target_vector_space.basis_symbolic[0]\n",
    "one = la.one\n",
    "# def A(*idx):\n",
    "#     idx = tuple(idx)\n",
    "#     if sum(list(idx)) < 0:\n",
    "#         return la.basis_symbolic_dict[(idx,0)]\n",
    "#     else:\n",
    "#         return la.basis_symbolic_dict[(idx,one)]\n",
    "A = la.A\n",
    "dim = la.dimension\n",
    "la.check_jacobi(verbose = True)"
   ]
  },
  {
   "cell_type": "code",
   "execution_count": 6,
   "id": "1affea9a",
   "metadata": {},
   "outputs": [
    {
     "name": "stdout",
     "output_type": "stream",
     "text": [
      " 1 & 2 & 3 & 4 & 5 & 6 & 7 & 8 & 9 & 10 \\\\ \n",
      " A_{(-1, 0, 0)} & A_{(0, -1, 0)} & A_{(2, 0, 0)} & A_{(1, 1, 0)} & A_{(0, 2, 0)} & A_{(0, 0, 1)} & A_{(0, 0, -1)} & A_{(1, 0, 0)} & A_{(0, 1, 0)} & A_{(0, 0, 0)} \\\\ \n",
      " X & Y & \\dual{X}\\ts\\dual{X} & \\dual{X}\\ts\\dual{Y} + \\dual{Y}\\ts\\dual{X} & \\dual{Y}\\ts\\dual{Y} & - \\dual{X}\\ts\\dual{Y} & Z & \\dual{X} & \\dual{Y} & T \\\\ \n"
     ]
    }
   ],
   "source": [
    "# Print the rows of the latex table for the dictionary between the two ways to show the basis\n",
    "basis_s = la.basis_symbolic\n",
    "basis_o = la.basis_outer\n",
    "dim = la.dimension\n",
    "\n",
    "for j in range(dim):\n",
    "    if j < dim-1:\n",
    "        print(' ' + str(j+1),end=' &')\n",
    "    else:\n",
    "        print(' ' + str(j+1),end=' \\\\\\\\ \\n')\n",
    "\n",
    "for j in range(dim):\n",
    "    v_string = latex(basis_s[j])\n",
    "    v_string = v_string.replace('^{0}','')\n",
    "    v_string = v_string.replace('^{@1}','')\n",
    "    if j < dim-1:\n",
    "        print(' '+v_string,end=' &')\n",
    "    else:\n",
    "        print(' '+v_string,end=' \\\\\\\\ \\n')\n",
    "\n",
    "# for j in range(dim):\n",
    "#     v_string = latex(basis_o[j])\n",
    "#     v_string = v_string.replace('^{0}','')\n",
    "#     v_string = v_string.replace('^{@1}','')\n",
    "#     if j < dim-1:\n",
    "#         print(' '+v_string,end=' &')\n",
    "#     else:\n",
    "#         print(' '+v_string,end=' \\\\\\\\ \\n')       \n",
    "        \n",
    "squared = '@X^{2}'\n",
    "squared_ts = '\\\\dual{X}\\\\ts\\\\dual{X}'\n",
    "dual = '@X'\n",
    "dual_ts = '\\dual{X}'\n",
    "def clean_me(v):\n",
    "    v_string = latex(v,mul_symbol='\\\\ts')\n",
    "    v_string = v_string.replace('\\\\ts@1','')\n",
    "    v_string = v_string.replace('@1','')\n",
    "    v_string = v_string.replace( squared , squared_ts )\n",
    "    v_string = v_string.replace( squared.replace('X','Y') , squared_ts.replace('X','Y') )\n",
    "    v_string = v_string.replace( dual , dual_ts )\n",
    "    v_string = v_string.replace( dual.replace('X','Y') , dual_ts.replace('X','Y') )\n",
    "    v_string = v_string.replace('*','\\\\ts')\n",
    "    return v_string\n",
    "\n",
    "for j in range(dim):\n",
    "    v_string = clean_me(basis_o[j])\n",
    "    if j < dim-1:\n",
    "        print(' ' + v_string, end = ' &')\n",
    "    else:\n",
    "        print(' ' + 'T', end = ' \\\\\\\\ \\n')   "
   ]
  },
  {
   "cell_type": "code",
   "execution_count": 7,
   "id": "de9f4885",
   "metadata": {},
   "outputs": [
    {
     "name": "stdout",
     "output_type": "stream",
     "text": [
      "\\hline\n",
      " & A_{(-1, 0, 0)} & A_{(0, -1, 0)} & A_{(2, 0, 0)} & A_{(1, 1, 0)} & A_{(0, 2, 0)} & A_{(0, 0, 1)} & A_{(0, 0, -1)} & A_{(1, 0, 0)} & A_{(0, 1, 0)} & A_{(0, 0, 0)} \\\\ \n",
      "\\hline\n",
      "A_{(-1, 0, 0)} & 0 & A_{(0, 0, -1)} & - A_{(1, 0, 0)} & - A_{(0, 1, 0)} & 0 & 0 & 0 & - A_{(0, 0, 0)} & 0 & 0 \\\\ \n",
      "A_{(0, -1, 0)} & - A_{(0, 0, -1)} & 0 & 0 & - A_{(1, 0, 0)} & - A_{(0, 1, 0)} & A_{(1, 0, 0)} & 0 & 0 & - A_{(0, 0, 0)} & 0 \\\\ \n",
      "A_{(2, 0, 0)} & A_{(1, 0, 0)} & 0 & 0 & 0 & 0 & 0 & 0 & 0 & 0 & 0 \\\\ \n",
      "A_{(1, 1, 0)} & A_{(0, 1, 0)} & A_{(1, 0, 0)} & 0 & 0 & 0 & 0 & 0 & 0 & 0 & 0 \\\\ \n",
      "A_{(0, 2, 0)} & 0 & A_{(0, 1, 0)} & 0 & 0 & 0 & 0 & 0 & 0 & 0 & 0 \\\\ \n",
      "A_{(0, 0, 1)} & 0 & - A_{(1, 0, 0)} & 0 & 0 & 0 & 0 & A_{(0, 0, 0)} & 0 & 0 & 0 \\\\ \n",
      "\\hline\n",
      "A_{(0, 0, -1)} & 0 & 0 & 0 & 0 & 0 & - A_{(0, 0, 0)} & 0 & 0 & 0 & 0 \\\\ \n",
      "A_{(1, 0, 0)} & A_{(0, 0, 0)} & 0 & 0 & 0 & 0 & 0 & 0 & 0 & 0 & 0 \\\\ \n",
      "A_{(0, 1, 0)} & 0 & A_{(0, 0, 0)} & 0 & 0 & 0 & 0 & 0 & 0 & 0 & 0 \\\\ \n",
      "\\hline\n",
      "A_{(0, 0, 0)} & 0 & 0 & 0 & 0 & 0 & 0 & 0 & 0 & 0 & 0 \\\\ \n",
      "\\hline\n"
     ]
    }
   ],
   "source": [
    "# Print the rows of the latex table for the lie bracket relations.\n",
    "basis = la.basis_symbolic\n",
    "# dim = la.dimension\n",
    "\n",
    "# First row:\n",
    "print('\\\\hline')\n",
    "print('',end=' &')\n",
    "for j in range(dim):\n",
    "    v_string = latex(basis[j])\n",
    "    v_string = v_string.replace('^{0}','')\n",
    "    v_string = v_string.replace('^{@1}','')\n",
    "    if j < dim-1:\n",
    "        print(' '+v_string,end=' &')\n",
    "    else:\n",
    "        print(' '+v_string,end=' \\\\\\\\ \\n')\n",
    "\n",
    "print('\\\\hline')\n",
    "\n",
    "# Other rows:\n",
    "\n",
    "gr_vect = la.growth_vector\n",
    "thresholds_layers = [sum(gr_vect[:i]) for i in range(1,la.step) ]\n",
    "# print(gr_vect)\n",
    "# print(thresholds_layers)\n",
    "for i in range(dim):\n",
    "    if i in thresholds_layers:\n",
    "        print('\\\\hline')\n",
    "    v_string = latex(basis[i])\n",
    "    v_string = v_string.replace('^{0}','')\n",
    "    v_string = v_string.replace('^{@1}','')\n",
    "    print(v_string,end = ' &')\n",
    "    for j in range(dim):\n",
    "        v = la(basis[i],basis[j]) \n",
    "        v_string = latex(v)\n",
    "        v_string = v_string.replace('^{0}','')\n",
    "#         v_string = v_string.replace('^0','')\n",
    "        v_string = v_string.replace('^{@1}','')\n",
    "#         v_string = v_string.replace('\\^\\@1','')\n",
    "        if j < dim-1:\n",
    "            print(' ' + v_string, end = ' &')\n",
    "        else:\n",
    "            print(' ' + v_string, end = ' \\\\\\\\ \\n')\n",
    "print('\\\\hline')"
   ]
  },
  {
   "cell_type": "code",
   "execution_count": 8,
   "id": "2598f0ca",
   "metadata": {},
   "outputs": [],
   "source": [
    "# # Build the product in exponential coordinates of the second kind.\n",
    "# la._sd_prod_build()"
   ]
  },
  {
   "cell_type": "code",
   "execution_count": 9,
   "id": "d5fbc75b",
   "metadata": {},
   "outputs": [],
   "source": [
    "# # Construct a generic derivation\n",
    "# der = LinMap()\n",
    "# der.domain = la\n",
    "# der.range = la\n",
    "# DD = Matrix(MatrixSymbol('D',dim,dim))\n",
    "# der.as_matrix = DD\n",
    "\n",
    "# # build list of linear conditions\n",
    "# conditions = []\n",
    "# for i in range(dim):\n",
    "#     for j in range(i):\n",
    "#         a = la.basis_symbolic[i]\n",
    "#         b = la.basis_symbolic[j]\n",
    "#         conditions.append( la(der(a),b) + la(a,der(b)) - der(la(a,b)) )\n",
    "\n",
    "# # print(len(conditions))\n",
    "\n",
    "# # flatten out the list of conditions\n",
    "# conditions_list = [ list(la.from_symbols_to_array(c)) for c in conditions ]\n",
    "# conditions_list = flatten(conditions_list)\n",
    "\n",
    "# # conditions of mapping V_1 to V_1 (i.e., of being strata-preserving)\n",
    "# dimV1 = la.growth_vector[0]\n",
    "# for b in la.basis_symbolic[:dimV1]:\n",
    "#     b_der = la.from_symbols_to_array(der(b))\n",
    "#     b_der = flatten(list(b_der))\n",
    "# #     display(b_der[dimV1:])\n",
    "#     conditions_list.extend(b_der[dimV1:])\n",
    "# # print(len(conditions))\n",
    "\n",
    "# # Solve the conditions (they are linear equations)\n",
    "# conditions_list = list(set(conditions_list))\n",
    "# solutions = linsolve(conditions_list,list(DD)) # <-- This may take time!\n",
    "# solutions = list(*solutions)\n",
    "\n",
    "# # Make the solution into a dictionary {der[i,j]: ... }\n",
    "# solutions_diz = {}\n",
    "# DD_list = list(DD)\n",
    "# for dd in DD_list:\n",
    "#     solutions_diz[dd] = solutions[DD_list.index(dd)]\n",
    "\n",
    "# # Apply the rules found as solutions to the generic linear map:\n",
    "# der.as_matrix = DD.subs(solutions_diz)\n",
    "# display(DD)"
   ]
  },
  {
   "cell_type": "code",
   "execution_count": 13,
   "id": "5a519bc8",
   "metadata": {},
   "outputs": [
    {
     "name": "stdout",
     "output_type": "stream",
     "text": [
      "\\left[\\begin{matrix}- D_{7, 7} + D_{9, 9} & - D_{8, 7} & 0 & 0 & 0 & 0 & 0 & 0 & 0 & 0\\\\- D_{7, 8} & - D_{8, 8} + D_{9, 9} & 0 & 0 & 0 & 0 & 0 & 0 & 0 & 0\\\\D_{2, 0} & D_{3, 0} - 2 D_{7, 6} & 2 D_{7, 7} - D_{9, 9} & 2 D_{7, 8} & 0 & - D_{7, 8} & 0 & 0 & 0 & 0\\\\D_{3, 0} & D_{4, 0} - D_{8, 6} & D_{8, 7} & D_{7, 7} + D_{8, 8} - D_{9, 9} & D_{7, 8} & 0 & 0 & 0 & 0 & 0\\\\D_{4, 0} & D_{4, 1} & 0 & 2 D_{8, 7} & 2 D_{8, 8} - D_{9, 9} & - D_{8, 7} & 0 & 0 & 0 & 0\\\\D_{7, 6} & D_{8, 6} & 0 & 0 & 0 & D_{7, 7} + D_{8, 8} - D_{9, 9} & 0 & 0 & 0 & 0\\\\0 & 0 & 0 & 0 & 0 & 0 & - D_{7, 7} - D_{8, 8} + 2 D_{9, 9} & 0 & 0 & 0\\\\0 & 0 & 0 & 0 & 0 & 0 & D_{7, 6} & D_{7, 7} & D_{7, 8} & 0\\\\0 & 0 & 0 & 0 & 0 & 0 & D_{8, 6} & D_{8, 7} & D_{8, 8} & 0\\\\0 & 0 & 0 & 0 & 0 & 0 & 0 & 0 & 0 & D_{9, 9}\\end{matrix}\\right]\n"
     ]
    }
   ],
   "source": [
    "print(latex(la.generic_derivation_graded.as_matrix))"
   ]
  },
  {
   "cell_type": "code",
   "execution_count": null,
   "id": "e6ab938f",
   "metadata": {},
   "outputs": [],
   "source": []
  },
  {
   "cell_type": "code",
   "execution_count": 11,
   "id": "4e48af0b",
   "metadata": {},
   "outputs": [],
   "source": [
    "# # Construct a generic automorphism\n",
    "# mor = LinMap()\n",
    "# mor.domain = la\n",
    "# mor.range = la\n",
    "# MM = Matrix(MatrixSymbol('M',dim,dim))\n",
    "# mor.as_matrix = MM\n",
    "\n",
    "# # build list of quadratic conditions\n",
    "# conditions = []\n",
    "# for i in range(dim):\n",
    "#     for j in range(i):\n",
    "#         a = la.basis_symbolic[i]\n",
    "#         b = la.basis_symbolic[j]\n",
    "#         conditions.append( la(mor(a),mor(b)) - mor(la(a,b)) )\n",
    "# # flatten out the list of conditions\n",
    "# conditions_list = [ list(la.from_symbols_to_array(c)) for c in conditions ]\n",
    "# conditions_list = flatten(conditions_list)\n",
    "# conditions_list = list(set(conditions_list))\n",
    "\n",
    "# # # Solve the conditions (they are linear equations)\n",
    "# # solutions = linsolve(conditions_list,list(DD)) # <-- This may take time!\n",
    "# # solutions = list(*solutions)\n",
    "\n",
    "# # # Make the solution into a dictionary {der[i,j]: ... }\n",
    "# # solutions_diz = {}\n",
    "# # DD_list = list(DD)\n",
    "# # for dd in DD_list:\n",
    "# #     solutions_diz[dd] = solutions[DD_list.index(dd)]\n",
    "\n",
    "# # # Apply the rules found as solutions to the generic linear map:\n",
    "# # DER = DD.subs(solutions_diz)\n",
    "# # display(DER)"
   ]
  },
  {
   "cell_type": "code",
   "execution_count": 12,
   "id": "7e30b40e",
   "metadata": {},
   "outputs": [],
   "source": [
    "# solve(conditions_list,list(MM))"
   ]
  }
 ],
 "metadata": {
  "kernelspec": {
   "display_name": "Python 3 (ipykernel)",
   "language": "python",
   "name": "python3"
  },
  "language_info": {
   "codemirror_mode": {
    "name": "ipython",
    "version": 3
   },
   "file_extension": ".py",
   "mimetype": "text/x-python",
   "name": "python",
   "nbconvert_exporter": "python",
   "pygments_lexer": "ipython3",
   "version": "3.10.4"
  }
 },
 "nbformat": 4,
 "nbformat_minor": 5
}
