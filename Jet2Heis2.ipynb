{
 "cells": [
  {
   "cell_type": "code",
   "execution_count": 1,
   "id": "7f6511f9",
   "metadata": {},
   "outputs": [],
   "source": [
    "from sympy import *\n",
    "from LieAlgebras5 import *\n",
    "from sympy.diffgeom import *"
   ]
  },
  {
   "cell_type": "code",
   "execution_count": 2,
   "id": "32286137",
   "metadata": {},
   "outputs": [],
   "source": [
    "def show_bra(la):\n",
    "    basis = la.basis_symbolic\n",
    "    dim = la.dimension\n",
    "    M = zeros(dim+1,dim+1)\n",
    "    for i in range(dim):\n",
    "        M[i+1,0] = M[0,i+1] = basis[i]\n",
    "    for i in range(dim):\n",
    "        for j in range(dim):\n",
    "    #         print(i,j)\n",
    "            M[i+1,j+1] = la(basis[i],basis[j])\n",
    "    display(M)\n",
    "from tabulate import tabulate\n",
    "def show_bra_tab(la):\n",
    "    basis = la.basis_symbolic\n",
    "    dim = la.dimension\n",
    "    M = zeros(dim+1,dim+1)\n",
    "    for i in range(dim):\n",
    "        M[i+1,0] = M[0,i+1] = basis[i]\n",
    "    for i in range(dim):\n",
    "        for j in range(dim):\n",
    "    #         print(i,j)\n",
    "            M[i+1,j+1] = la(basis[i],basis[j])\n",
    "\n",
    "    M_list = [[M[i,j] for j in range(M.cols)] for i in range(M.rows)]\n",
    "    tabella = tabulate(M_list,headers=\"firstrow\", tablefmt=\"html\")\n",
    "    display(tabella)"
   ]
  },
  {
   "cell_type": "code",
   "execution_count": 3,
   "id": "27802d27",
   "metadata": {},
   "outputs": [
    {
     "data": {
      "text/html": [
       "<table>\n",
       "<thead>\n",
       "<tr><th>0  </th><th>X1  </th><th>Y1  </th><th>X2  </th><th>Y2  </th><th style=\"text-align: right;\">  Z</th></tr>\n",
       "</thead>\n",
       "<tbody>\n",
       "<tr><td>X1 </td><td>0   </td><td>Z   </td><td>0   </td><td>0   </td><td style=\"text-align: right;\">  0</td></tr>\n",
       "<tr><td>Y1 </td><td>-Z  </td><td>0   </td><td>0   </td><td>0   </td><td style=\"text-align: right;\">  0</td></tr>\n",
       "<tr><td>X2 </td><td>0   </td><td>0   </td><td>0   </td><td>Z   </td><td style=\"text-align: right;\">  0</td></tr>\n",
       "<tr><td>Y2 </td><td>0   </td><td>0   </td><td>-Z  </td><td>0   </td><td style=\"text-align: right;\">  0</td></tr>\n",
       "<tr><td>Z  </td><td>0   </td><td>0   </td><td>0   </td><td>0   </td><td style=\"text-align: right;\">  0</td></tr>\n",
       "</tbody>\n",
       "</table>"
      ],
      "text/plain": [
       "'<table>\\n<thead>\\n<tr><th>0  </th><th>X1  </th><th>Y1  </th><th>X2  </th><th>Y2  </th><th style=\"text-align: right;\">  Z</th></tr>\\n</thead>\\n<tbody>\\n<tr><td>X1 </td><td>0   </td><td>Z   </td><td>0   </td><td>0   </td><td style=\"text-align: right;\">  0</td></tr>\\n<tr><td>Y1 </td><td>-Z  </td><td>0   </td><td>0   </td><td>0   </td><td style=\"text-align: right;\">  0</td></tr>\\n<tr><td>X2 </td><td>0   </td><td>0   </td><td>0   </td><td>Z   </td><td style=\"text-align: right;\">  0</td></tr>\\n<tr><td>Y2 </td><td>0   </td><td>0   </td><td>-Z  </td><td>0   </td><td style=\"text-align: right;\">  0</td></tr>\\n<tr><td>Z  </td><td>0   </td><td>0   </td><td>0   </td><td>0   </td><td style=\"text-align: right;\">  0</td></tr>\\n</tbody>\\n</table>'"
      ]
     },
     "metadata": {},
     "output_type": "display_data"
    }
   ],
   "source": [
    "heis2 = LieAlgebra()\n",
    "heis2.name = 'Heisenberg 2'\n",
    "heis2.basis_symbolic = ['X1','Y1','X2','Y2','Z']\n",
    "[X1,Y1,X2,Y2,Z] = heis2.basis_symbolic\n",
    "heis2.brackets.rules = {(X1,Y1):Z, (X2,Y2):Z}\n",
    "heis2.declare_stratified(growth_vector = [4,1])\n",
    "show_bra_tab(heis2)"
   ]
  },
  {
   "cell_type": "code",
   "execution_count": 4,
   "id": "16a534b6",
   "metadata": {},
   "outputs": [
    {
     "name": "stdout",
     "output_type": "stream",
     "text": [
      "Step 1 of 7: Construct set of indices:\n",
      "[((-1, 0, 0, 0, 0), 0), ((0, -1, 0, 0, 0), 0), ((0, 0, -1, 0, 0), 0), ((0, 0, 0, -1, 0), 0), ((2, 0, 0, 0, 0), @1), ((1, 1, 0, 0, 0), @1), ((1, 0, 1, 0, 0), @1), ((1, 0, 0, 1, 0), @1), ((0, 2, 0, 0, 0), @1), ((0, 1, 1, 0, 0), @1), ((0, 1, 0, 1, 0), @1), ((0, 0, 2, 0, 0), @1), ((0, 0, 1, 1, 0), @1), ((0, 0, 0, 2, 0), @1), ((0, 0, 0, 0, 1), @1), ((0, 0, 0, 0, -1), 0), ((1, 0, 0, 0, 0), @1), ((0, 1, 0, 0, 0), @1), ((0, 0, 1, 0, 0), @1), ((0, 0, 0, 1, 0), @1), ((0, 0, 0, 0, 0), @1)]\n",
      "\n",
      "Step 2 of 7: Construct HD basis:\n",
      "{((0, 0, 0, 0, 0), @1): @1, ((1, 0, 0, 0, 0), @1): @X1*@1, ((0, 1, 0, 0, 0), @1): @Y1*@1, ((0, 0, 1, 0, 0), @1): @X2*@1, ((0, 0, 0, 1, 0), @1): @Y2*@1, ((2, 0, 0, 0, 0), @1): @X1**2*@1, ((1, 1, 0, 0, 0), @1): @X1*@Y1*@1 + @Y1*@X1*@1, ((1, 0, 1, 0, 0), @1): @X1*@X2*@1 + @X2*@X1*@1, ((1, 0, 0, 1, 0), @1): @X1*@Y2*@1 + @Y2*@X1*@1, ((0, 2, 0, 0, 0), @1): @Y1**2*@1, ((0, 1, 1, 0, 0), @1): @X2*@Y1*@1 + @Y1*@X2*@1, ((0, 1, 0, 1, 0), @1): @Y1*@Y2*@1 + @Y2*@Y1*@1, ((0, 0, 2, 0, 0), @1): @X2**2*@1, ((0, 0, 1, 1, 0), @1): @X2*@Y2*@1 + @Y2*@X2*@1, ((0, 0, 0, 2, 0), @1): @Y2**2*@1, ((0, 0, 0, 0, 1), @1): -@X1*@Y1*@1 - @X2*@Y2*@1}\n",
      "\n",
      "Step 3 of 7: and outer basis:\n",
      "[X1, Y1, X2, Y2, @X1**2*@1, @X1*@Y1*@1 + @Y1*@X1*@1, @X1*@X2*@1 + @X2*@X1*@1, @X1*@Y2*@1 + @Y2*@X1*@1, @Y1**2*@1, @X2*@Y1*@1 + @Y1*@X2*@1, @Y1*@Y2*@1 + @Y2*@Y1*@1, @X2**2*@1, @X2*@Y2*@1 + @Y2*@X2*@1, @Y2**2*@1, -@X1*@Y1*@1 - @X2*@Y2*@1, Z, @X1*@1, @Y1*@1, @X2*@1, @Y2*@1, @1]\n",
      "\n",
      "Step 4 of 7: Construct sybolic basis:\n",
      "[A^0_(-1, 0, 0, 0, 0), A^0_(0, -1, 0, 0, 0), A^0_(0, 0, -1, 0, 0), A^0_(0, 0, 0, -1, 0), A^@1_(2, 0, 0, 0, 0), A^@1_(1, 1, 0, 0, 0), A^@1_(1, 0, 1, 0, 0), A^@1_(1, 0, 0, 1, 0), A^@1_(0, 2, 0, 0, 0), A^@1_(0, 1, 1, 0, 0), A^@1_(0, 1, 0, 1, 0), A^@1_(0, 0, 2, 0, 0), A^@1_(0, 0, 1, 1, 0), A^@1_(0, 0, 0, 2, 0), A^@1_(0, 0, 0, 0, 1), A^0_(0, 0, 0, 0, -1), A^@1_(1, 0, 0, 0, 0), A^@1_(0, 1, 0, 0, 0), A^@1_(0, 0, 1, 0, 0), A^@1_(0, 0, 0, 1, 0), A^@1_(0, 0, 0, 0, 0)]\n",
      "\n",
      "Step 5 of 7: Construct growth vector\n",
      "[15, 5, 1]\n",
      "\n",
      "Step 6 of 7: Construct functions from outer basis to the others.\n",
      "Building transformation operations: this can take a lot of time. You may want to change the source code.\n",
      "\n",
      "Step 7 of 7: Construct Lie bracket operation\n",
      "\n",
      "Done\n"
     ]
    },
    {
     "data": {
      "text/html": [
       "<table>\n",
       "<thead>\n",
       "<tr><th>0                   </th><th>A^0_(-1, 0, 0, 0, 0)  </th><th>A^0_(0, -1, 0, 0, 0)  </th><th>A^0_(0, 0, -1, 0, 0)  </th><th>A^0_(0, 0, 0, -1, 0)  </th><th>A^@1_(2, 0, 0, 0, 0)  </th><th>A^@1_(1, 1, 0, 0, 0)  </th><th>A^@1_(1, 0, 1, 0, 0)  </th><th>A^@1_(1, 0, 0, 1, 0)  </th><th>A^@1_(0, 2, 0, 0, 0)  </th><th>A^@1_(0, 1, 1, 0, 0)  </th><th>A^@1_(0, 1, 0, 1, 0)  </th><th>A^@1_(0, 0, 2, 0, 0)  </th><th>A^@1_(0, 0, 1, 1, 0)  </th><th>A^@1_(0, 0, 0, 2, 0)  </th><th>A^@1_(0, 0, 0, 0, 1)  </th><th>A^0_(0, 0, 0, 0, -1)  </th><th>A^@1_(1, 0, 0, 0, 0)  </th><th>A^@1_(0, 1, 0, 0, 0)  </th><th>A^@1_(0, 0, 1, 0, 0)  </th><th>A^@1_(0, 0, 0, 1, 0)  </th><th style=\"text-align: right;\">  A^@1_(0, 0, 0, 0, 0)</th></tr>\n",
       "</thead>\n",
       "<tbody>\n",
       "<tr><td>A^0_(-1, 0, 0, 0, 0)</td><td>0                     </td><td>A^0_(0, 0, 0, 0, -1)  </td><td>0                     </td><td>0                     </td><td>-A^@1_(1, 0, 0, 0, 0) </td><td>-A^@1_(0, 1, 0, 0, 0) </td><td>-A^@1_(0, 0, 1, 0, 0) </td><td>-A^@1_(0, 0, 0, 1, 0) </td><td>0                     </td><td>0                     </td><td>0                     </td><td>0                     </td><td>0                     </td><td>0                     </td><td>0                     </td><td>0                     </td><td>-A^@1_(0, 0, 0, 0, 0) </td><td>0                     </td><td>0                     </td><td>0                     </td><td style=\"text-align: right;\">                     0</td></tr>\n",
       "<tr><td>A^0_(0, -1, 0, 0, 0)</td><td>-A^0_(0, 0, 0, 0, -1) </td><td>0                     </td><td>0                     </td><td>0                     </td><td>0                     </td><td>-A^@1_(1, 0, 0, 0, 0) </td><td>0                     </td><td>0                     </td><td>-A^@1_(0, 1, 0, 0, 0) </td><td>-A^@1_(0, 0, 1, 0, 0) </td><td>-A^@1_(0, 0, 0, 1, 0) </td><td>0                     </td><td>0                     </td><td>0                     </td><td>A^@1_(1, 0, 0, 0, 0)  </td><td>0                     </td><td>0                     </td><td>-A^@1_(0, 0, 0, 0, 0) </td><td>0                     </td><td>0                     </td><td style=\"text-align: right;\">                     0</td></tr>\n",
       "<tr><td>A^0_(0, 0, -1, 0, 0)</td><td>0                     </td><td>0                     </td><td>0                     </td><td>A^0_(0, 0, 0, 0, -1)  </td><td>0                     </td><td>0                     </td><td>-A^@1_(1, 0, 0, 0, 0) </td><td>0                     </td><td>0                     </td><td>-A^@1_(0, 1, 0, 0, 0) </td><td>0                     </td><td>-A^@1_(0, 0, 1, 0, 0) </td><td>-A^@1_(0, 0, 0, 1, 0) </td><td>0                     </td><td>0                     </td><td>0                     </td><td>0                     </td><td>0                     </td><td>-A^@1_(0, 0, 0, 0, 0) </td><td>0                     </td><td style=\"text-align: right;\">                     0</td></tr>\n",
       "<tr><td>A^0_(0, 0, 0, -1, 0)</td><td>0                     </td><td>0                     </td><td>-A^0_(0, 0, 0, 0, -1) </td><td>0                     </td><td>0                     </td><td>0                     </td><td>0                     </td><td>-A^@1_(1, 0, 0, 0, 0) </td><td>0                     </td><td>0                     </td><td>-A^@1_(0, 1, 0, 0, 0) </td><td>0                     </td><td>-A^@1_(0, 0, 1, 0, 0) </td><td>-A^@1_(0, 0, 0, 1, 0) </td><td>A^@1_(0, 0, 1, 0, 0)  </td><td>0                     </td><td>0                     </td><td>0                     </td><td>0                     </td><td>-A^@1_(0, 0, 0, 0, 0) </td><td style=\"text-align: right;\">                     0</td></tr>\n",
       "<tr><td>A^@1_(2, 0, 0, 0, 0)</td><td>A^@1_(1, 0, 0, 0, 0)  </td><td>0                     </td><td>0                     </td><td>0                     </td><td>0                     </td><td>0                     </td><td>0                     </td><td>0                     </td><td>0                     </td><td>0                     </td><td>0                     </td><td>0                     </td><td>0                     </td><td>0                     </td><td>0                     </td><td>0                     </td><td>0                     </td><td>0                     </td><td>0                     </td><td>0                     </td><td style=\"text-align: right;\">                     0</td></tr>\n",
       "<tr><td>A^@1_(1, 1, 0, 0, 0)</td><td>A^@1_(0, 1, 0, 0, 0)  </td><td>A^@1_(1, 0, 0, 0, 0)  </td><td>0                     </td><td>0                     </td><td>0                     </td><td>0                     </td><td>0                     </td><td>0                     </td><td>0                     </td><td>0                     </td><td>0                     </td><td>0                     </td><td>0                     </td><td>0                     </td><td>0                     </td><td>0                     </td><td>0                     </td><td>0                     </td><td>0                     </td><td>0                     </td><td style=\"text-align: right;\">                     0</td></tr>\n",
       "<tr><td>A^@1_(1, 0, 1, 0, 0)</td><td>A^@1_(0, 0, 1, 0, 0)  </td><td>0                     </td><td>A^@1_(1, 0, 0, 0, 0)  </td><td>0                     </td><td>0                     </td><td>0                     </td><td>0                     </td><td>0                     </td><td>0                     </td><td>0                     </td><td>0                     </td><td>0                     </td><td>0                     </td><td>0                     </td><td>0                     </td><td>0                     </td><td>0                     </td><td>0                     </td><td>0                     </td><td>0                     </td><td style=\"text-align: right;\">                     0</td></tr>\n",
       "<tr><td>A^@1_(1, 0, 0, 1, 0)</td><td>A^@1_(0, 0, 0, 1, 0)  </td><td>0                     </td><td>0                     </td><td>A^@1_(1, 0, 0, 0, 0)  </td><td>0                     </td><td>0                     </td><td>0                     </td><td>0                     </td><td>0                     </td><td>0                     </td><td>0                     </td><td>0                     </td><td>0                     </td><td>0                     </td><td>0                     </td><td>0                     </td><td>0                     </td><td>0                     </td><td>0                     </td><td>0                     </td><td style=\"text-align: right;\">                     0</td></tr>\n",
       "<tr><td>A^@1_(0, 2, 0, 0, 0)</td><td>0                     </td><td>A^@1_(0, 1, 0, 0, 0)  </td><td>0                     </td><td>0                     </td><td>0                     </td><td>0                     </td><td>0                     </td><td>0                     </td><td>0                     </td><td>0                     </td><td>0                     </td><td>0                     </td><td>0                     </td><td>0                     </td><td>0                     </td><td>0                     </td><td>0                     </td><td>0                     </td><td>0                     </td><td>0                     </td><td style=\"text-align: right;\">                     0</td></tr>\n",
       "<tr><td>A^@1_(0, 1, 1, 0, 0)</td><td>0                     </td><td>A^@1_(0, 0, 1, 0, 0)  </td><td>A^@1_(0, 1, 0, 0, 0)  </td><td>0                     </td><td>0                     </td><td>0                     </td><td>0                     </td><td>0                     </td><td>0                     </td><td>0                     </td><td>0                     </td><td>0                     </td><td>0                     </td><td>0                     </td><td>0                     </td><td>0                     </td><td>0                     </td><td>0                     </td><td>0                     </td><td>0                     </td><td style=\"text-align: right;\">                     0</td></tr>\n",
       "<tr><td>A^@1_(0, 1, 0, 1, 0)</td><td>0                     </td><td>A^@1_(0, 0, 0, 1, 0)  </td><td>0                     </td><td>A^@1_(0, 1, 0, 0, 0)  </td><td>0                     </td><td>0                     </td><td>0                     </td><td>0                     </td><td>0                     </td><td>0                     </td><td>0                     </td><td>0                     </td><td>0                     </td><td>0                     </td><td>0                     </td><td>0                     </td><td>0                     </td><td>0                     </td><td>0                     </td><td>0                     </td><td style=\"text-align: right;\">                     0</td></tr>\n",
       "<tr><td>A^@1_(0, 0, 2, 0, 0)</td><td>0                     </td><td>0                     </td><td>A^@1_(0, 0, 1, 0, 0)  </td><td>0                     </td><td>0                     </td><td>0                     </td><td>0                     </td><td>0                     </td><td>0                     </td><td>0                     </td><td>0                     </td><td>0                     </td><td>0                     </td><td>0                     </td><td>0                     </td><td>0                     </td><td>0                     </td><td>0                     </td><td>0                     </td><td>0                     </td><td style=\"text-align: right;\">                     0</td></tr>\n",
       "<tr><td>A^@1_(0, 0, 1, 1, 0)</td><td>0                     </td><td>0                     </td><td>A^@1_(0, 0, 0, 1, 0)  </td><td>A^@1_(0, 0, 1, 0, 0)  </td><td>0                     </td><td>0                     </td><td>0                     </td><td>0                     </td><td>0                     </td><td>0                     </td><td>0                     </td><td>0                     </td><td>0                     </td><td>0                     </td><td>0                     </td><td>0                     </td><td>0                     </td><td>0                     </td><td>0                     </td><td>0                     </td><td style=\"text-align: right;\">                     0</td></tr>\n",
       "<tr><td>A^@1_(0, 0, 0, 2, 0)</td><td>0                     </td><td>0                     </td><td>0                     </td><td>A^@1_(0, 0, 0, 1, 0)  </td><td>0                     </td><td>0                     </td><td>0                     </td><td>0                     </td><td>0                     </td><td>0                     </td><td>0                     </td><td>0                     </td><td>0                     </td><td>0                     </td><td>0                     </td><td>0                     </td><td>0                     </td><td>0                     </td><td>0                     </td><td>0                     </td><td style=\"text-align: right;\">                     0</td></tr>\n",
       "<tr><td>A^@1_(0, 0, 0, 0, 1)</td><td>0                     </td><td>-A^@1_(1, 0, 0, 0, 0) </td><td>0                     </td><td>-A^@1_(0, 0, 1, 0, 0) </td><td>0                     </td><td>0                     </td><td>0                     </td><td>0                     </td><td>0                     </td><td>0                     </td><td>0                     </td><td>0                     </td><td>0                     </td><td>0                     </td><td>0                     </td><td>A^@1_(0, 0, 0, 0, 0)  </td><td>0                     </td><td>0                     </td><td>0                     </td><td>0                     </td><td style=\"text-align: right;\">                     0</td></tr>\n",
       "<tr><td>A^0_(0, 0, 0, 0, -1)</td><td>0                     </td><td>0                     </td><td>0                     </td><td>0                     </td><td>0                     </td><td>0                     </td><td>0                     </td><td>0                     </td><td>0                     </td><td>0                     </td><td>0                     </td><td>0                     </td><td>0                     </td><td>0                     </td><td>-A^@1_(0, 0, 0, 0, 0) </td><td>0                     </td><td>0                     </td><td>0                     </td><td>0                     </td><td>0                     </td><td style=\"text-align: right;\">                     0</td></tr>\n",
       "<tr><td>A^@1_(1, 0, 0, 0, 0)</td><td>A^@1_(0, 0, 0, 0, 0)  </td><td>0                     </td><td>0                     </td><td>0                     </td><td>0                     </td><td>0                     </td><td>0                     </td><td>0                     </td><td>0                     </td><td>0                     </td><td>0                     </td><td>0                     </td><td>0                     </td><td>0                     </td><td>0                     </td><td>0                     </td><td>0                     </td><td>0                     </td><td>0                     </td><td>0                     </td><td style=\"text-align: right;\">                     0</td></tr>\n",
       "<tr><td>A^@1_(0, 1, 0, 0, 0)</td><td>0                     </td><td>A^@1_(0, 0, 0, 0, 0)  </td><td>0                     </td><td>0                     </td><td>0                     </td><td>0                     </td><td>0                     </td><td>0                     </td><td>0                     </td><td>0                     </td><td>0                     </td><td>0                     </td><td>0                     </td><td>0                     </td><td>0                     </td><td>0                     </td><td>0                     </td><td>0                     </td><td>0                     </td><td>0                     </td><td style=\"text-align: right;\">                     0</td></tr>\n",
       "<tr><td>A^@1_(0, 0, 1, 0, 0)</td><td>0                     </td><td>0                     </td><td>A^@1_(0, 0, 0, 0, 0)  </td><td>0                     </td><td>0                     </td><td>0                     </td><td>0                     </td><td>0                     </td><td>0                     </td><td>0                     </td><td>0                     </td><td>0                     </td><td>0                     </td><td>0                     </td><td>0                     </td><td>0                     </td><td>0                     </td><td>0                     </td><td>0                     </td><td>0                     </td><td style=\"text-align: right;\">                     0</td></tr>\n",
       "<tr><td>A^@1_(0, 0, 0, 1, 0)</td><td>0                     </td><td>0                     </td><td>0                     </td><td>A^@1_(0, 0, 0, 0, 0)  </td><td>0                     </td><td>0                     </td><td>0                     </td><td>0                     </td><td>0                     </td><td>0                     </td><td>0                     </td><td>0                     </td><td>0                     </td><td>0                     </td><td>0                     </td><td>0                     </td><td>0                     </td><td>0                     </td><td>0                     </td><td>0                     </td><td style=\"text-align: right;\">                     0</td></tr>\n",
       "<tr><td>A^@1_(0, 0, 0, 0, 0)</td><td>0                     </td><td>0                     </td><td>0                     </td><td>0                     </td><td>0                     </td><td>0                     </td><td>0                     </td><td>0                     </td><td>0                     </td><td>0                     </td><td>0                     </td><td>0                     </td><td>0                     </td><td>0                     </td><td>0                     </td><td>0                     </td><td>0                     </td><td>0                     </td><td>0                     </td><td>0                     </td><td style=\"text-align: right;\">                     0</td></tr>\n",
       "</tbody>\n",
       "</table>"
      ],
      "text/plain": [
       "'<table>\\n<thead>\\n<tr><th>0                   </th><th>A^0_(-1, 0, 0, 0, 0)  </th><th>A^0_(0, -1, 0, 0, 0)  </th><th>A^0_(0, 0, -1, 0, 0)  </th><th>A^0_(0, 0, 0, -1, 0)  </th><th>A^@1_(2, 0, 0, 0, 0)  </th><th>A^@1_(1, 1, 0, 0, 0)  </th><th>A^@1_(1, 0, 1, 0, 0)  </th><th>A^@1_(1, 0, 0, 1, 0)  </th><th>A^@1_(0, 2, 0, 0, 0)  </th><th>A^@1_(0, 1, 1, 0, 0)  </th><th>A^@1_(0, 1, 0, 1, 0)  </th><th>A^@1_(0, 0, 2, 0, 0)  </th><th>A^@1_(0, 0, 1, 1, 0)  </th><th>A^@1_(0, 0, 0, 2, 0)  </th><th>A^@1_(0, 0, 0, 0, 1)  </th><th>A^0_(0, 0, 0, 0, -1)  </th><th>A^@1_(1, 0, 0, 0, 0)  </th><th>A^@1_(0, 1, 0, 0, 0)  </th><th>A^@1_(0, 0, 1, 0, 0)  </th><th>A^@1_(0, 0, 0, 1, 0)  </th><th style=\"text-align: right;\">  A^@1_(0, 0, 0, 0, 0)</th></tr>\\n</thead>\\n<tbody>\\n<tr><td>A^0_(-1, 0, 0, 0, 0)</td><td>0                     </td><td>A^0_(0, 0, 0, 0, -1)  </td><td>0                     </td><td>0                     </td><td>-A^@1_(1, 0, 0, 0, 0) </td><td>-A^@1_(0, 1, 0, 0, 0) </td><td>-A^@1_(0, 0, 1, 0, 0) </td><td>-A^@1_(0, 0, 0, 1, 0) </td><td>0                     </td><td>0                     </td><td>0                     </td><td>0                     </td><td>0                     </td><td>0                     </td><td>0                     </td><td>0                     </td><td>-A^@1_(0, 0, 0, 0, 0) </td><td>0                     </td><td>0                     </td><td>0                     </td><td style=\"text-align: right;\">                     0</td></tr>\\n<tr><td>A^0_(0, -1, 0, 0, 0)</td><td>-A^0_(0, 0, 0, 0, -1) </td><td>0                     </td><td>0                     </td><td>0                     </td><td>0                     </td><td>-A^@1_(1, 0, 0, 0, 0) </td><td>0                     </td><td>0                     </td><td>-A^@1_(0, 1, 0, 0, 0) </td><td>-A^@1_(0, 0, 1, 0, 0) </td><td>-A^@1_(0, 0, 0, 1, 0) </td><td>0                     </td><td>0                     </td><td>0                     </td><td>A^@1_(1, 0, 0, 0, 0)  </td><td>0                     </td><td>0                     </td><td>-A^@1_(0, 0, 0, 0, 0) </td><td>0                     </td><td>0                     </td><td style=\"text-align: right;\">                     0</td></tr>\\n<tr><td>A^0_(0, 0, -1, 0, 0)</td><td>0                     </td><td>0                     </td><td>0                     </td><td>A^0_(0, 0, 0, 0, -1)  </td><td>0                     </td><td>0                     </td><td>-A^@1_(1, 0, 0, 0, 0) </td><td>0                     </td><td>0                     </td><td>-A^@1_(0, 1, 0, 0, 0) </td><td>0                     </td><td>-A^@1_(0, 0, 1, 0, 0) </td><td>-A^@1_(0, 0, 0, 1, 0) </td><td>0                     </td><td>0                     </td><td>0                     </td><td>0                     </td><td>0                     </td><td>-A^@1_(0, 0, 0, 0, 0) </td><td>0                     </td><td style=\"text-align: right;\">                     0</td></tr>\\n<tr><td>A^0_(0, 0, 0, -1, 0)</td><td>0                     </td><td>0                     </td><td>-A^0_(0, 0, 0, 0, -1) </td><td>0                     </td><td>0                     </td><td>0                     </td><td>0                     </td><td>-A^@1_(1, 0, 0, 0, 0) </td><td>0                     </td><td>0                     </td><td>-A^@1_(0, 1, 0, 0, 0) </td><td>0                     </td><td>-A^@1_(0, 0, 1, 0, 0) </td><td>-A^@1_(0, 0, 0, 1, 0) </td><td>A^@1_(0, 0, 1, 0, 0)  </td><td>0                     </td><td>0                     </td><td>0                     </td><td>0                     </td><td>-A^@1_(0, 0, 0, 0, 0) </td><td style=\"text-align: right;\">                     0</td></tr>\\n<tr><td>A^@1_(2, 0, 0, 0, 0)</td><td>A^@1_(1, 0, 0, 0, 0)  </td><td>0                     </td><td>0                     </td><td>0                     </td><td>0                     </td><td>0                     </td><td>0                     </td><td>0                     </td><td>0                     </td><td>0                     </td><td>0                     </td><td>0                     </td><td>0                     </td><td>0                     </td><td>0                     </td><td>0                     </td><td>0                     </td><td>0                     </td><td>0                     </td><td>0                     </td><td style=\"text-align: right;\">                     0</td></tr>\\n<tr><td>A^@1_(1, 1, 0, 0, 0)</td><td>A^@1_(0, 1, 0, 0, 0)  </td><td>A^@1_(1, 0, 0, 0, 0)  </td><td>0                     </td><td>0                     </td><td>0                     </td><td>0                     </td><td>0                     </td><td>0                     </td><td>0                     </td><td>0                     </td><td>0                     </td><td>0                     </td><td>0                     </td><td>0                     </td><td>0                     </td><td>0                     </td><td>0                     </td><td>0                     </td><td>0                     </td><td>0                     </td><td style=\"text-align: right;\">                     0</td></tr>\\n<tr><td>A^@1_(1, 0, 1, 0, 0)</td><td>A^@1_(0, 0, 1, 0, 0)  </td><td>0                     </td><td>A^@1_(1, 0, 0, 0, 0)  </td><td>0                     </td><td>0                     </td><td>0                     </td><td>0                     </td><td>0                     </td><td>0                     </td><td>0                     </td><td>0                     </td><td>0                     </td><td>0                     </td><td>0                     </td><td>0                     </td><td>0                     </td><td>0                     </td><td>0                     </td><td>0                     </td><td>0                     </td><td style=\"text-align: right;\">                     0</td></tr>\\n<tr><td>A^@1_(1, 0, 0, 1, 0)</td><td>A^@1_(0, 0, 0, 1, 0)  </td><td>0                     </td><td>0                     </td><td>A^@1_(1, 0, 0, 0, 0)  </td><td>0                     </td><td>0                     </td><td>0                     </td><td>0                     </td><td>0                     </td><td>0                     </td><td>0                     </td><td>0                     </td><td>0                     </td><td>0                     </td><td>0                     </td><td>0                     </td><td>0                     </td><td>0                     </td><td>0                     </td><td>0                     </td><td style=\"text-align: right;\">                     0</td></tr>\\n<tr><td>A^@1_(0, 2, 0, 0, 0)</td><td>0                     </td><td>A^@1_(0, 1, 0, 0, 0)  </td><td>0                     </td><td>0                     </td><td>0                     </td><td>0                     </td><td>0                     </td><td>0                     </td><td>0                     </td><td>0                     </td><td>0                     </td><td>0                     </td><td>0                     </td><td>0                     </td><td>0                     </td><td>0                     </td><td>0                     </td><td>0                     </td><td>0                     </td><td>0                     </td><td style=\"text-align: right;\">                     0</td></tr>\\n<tr><td>A^@1_(0, 1, 1, 0, 0)</td><td>0                     </td><td>A^@1_(0, 0, 1, 0, 0)  </td><td>A^@1_(0, 1, 0, 0, 0)  </td><td>0                     </td><td>0                     </td><td>0                     </td><td>0                     </td><td>0                     </td><td>0                     </td><td>0                     </td><td>0                     </td><td>0                     </td><td>0                     </td><td>0                     </td><td>0                     </td><td>0                     </td><td>0                     </td><td>0                     </td><td>0                     </td><td>0                     </td><td style=\"text-align: right;\">                     0</td></tr>\\n<tr><td>A^@1_(0, 1, 0, 1, 0)</td><td>0                     </td><td>A^@1_(0, 0, 0, 1, 0)  </td><td>0                     </td><td>A^@1_(0, 1, 0, 0, 0)  </td><td>0                     </td><td>0                     </td><td>0                     </td><td>0                     </td><td>0                     </td><td>0                     </td><td>0                     </td><td>0                     </td><td>0                     </td><td>0                     </td><td>0                     </td><td>0                     </td><td>0                     </td><td>0                     </td><td>0                     </td><td>0                     </td><td style=\"text-align: right;\">                     0</td></tr>\\n<tr><td>A^@1_(0, 0, 2, 0, 0)</td><td>0                     </td><td>0                     </td><td>A^@1_(0, 0, 1, 0, 0)  </td><td>0                     </td><td>0                     </td><td>0                     </td><td>0                     </td><td>0                     </td><td>0                     </td><td>0                     </td><td>0                     </td><td>0                     </td><td>0                     </td><td>0                     </td><td>0                     </td><td>0                     </td><td>0                     </td><td>0                     </td><td>0                     </td><td>0                     </td><td style=\"text-align: right;\">                     0</td></tr>\\n<tr><td>A^@1_(0, 0, 1, 1, 0)</td><td>0                     </td><td>0                     </td><td>A^@1_(0, 0, 0, 1, 0)  </td><td>A^@1_(0, 0, 1, 0, 0)  </td><td>0                     </td><td>0                     </td><td>0                     </td><td>0                     </td><td>0                     </td><td>0                     </td><td>0                     </td><td>0                     </td><td>0                     </td><td>0                     </td><td>0                     </td><td>0                     </td><td>0                     </td><td>0                     </td><td>0                     </td><td>0                     </td><td style=\"text-align: right;\">                     0</td></tr>\\n<tr><td>A^@1_(0, 0, 0, 2, 0)</td><td>0                     </td><td>0                     </td><td>0                     </td><td>A^@1_(0, 0, 0, 1, 0)  </td><td>0                     </td><td>0                     </td><td>0                     </td><td>0                     </td><td>0                     </td><td>0                     </td><td>0                     </td><td>0                     </td><td>0                     </td><td>0                     </td><td>0                     </td><td>0                     </td><td>0                     </td><td>0                     </td><td>0                     </td><td>0                     </td><td style=\"text-align: right;\">                     0</td></tr>\\n<tr><td>A^@1_(0, 0, 0, 0, 1)</td><td>0                     </td><td>-A^@1_(1, 0, 0, 0, 0) </td><td>0                     </td><td>-A^@1_(0, 0, 1, 0, 0) </td><td>0                     </td><td>0                     </td><td>0                     </td><td>0                     </td><td>0                     </td><td>0                     </td><td>0                     </td><td>0                     </td><td>0                     </td><td>0                     </td><td>0                     </td><td>A^@1_(0, 0, 0, 0, 0)  </td><td>0                     </td><td>0                     </td><td>0                     </td><td>0                     </td><td style=\"text-align: right;\">                     0</td></tr>\\n<tr><td>A^0_(0, 0, 0, 0, -1)</td><td>0                     </td><td>0                     </td><td>0                     </td><td>0                     </td><td>0                     </td><td>0                     </td><td>0                     </td><td>0                     </td><td>0                     </td><td>0                     </td><td>0                     </td><td>0                     </td><td>0                     </td><td>0                     </td><td>-A^@1_(0, 0, 0, 0, 0) </td><td>0                     </td><td>0                     </td><td>0                     </td><td>0                     </td><td>0                     </td><td style=\"text-align: right;\">                     0</td></tr>\\n<tr><td>A^@1_(1, 0, 0, 0, 0)</td><td>A^@1_(0, 0, 0, 0, 0)  </td><td>0                     </td><td>0                     </td><td>0                     </td><td>0                     </td><td>0                     </td><td>0                     </td><td>0                     </td><td>0                     </td><td>0                     </td><td>0                     </td><td>0                     </td><td>0                     </td><td>0                     </td><td>0                     </td><td>0                     </td><td>0                     </td><td>0                     </td><td>0                     </td><td>0                     </td><td style=\"text-align: right;\">                     0</td></tr>\\n<tr><td>A^@1_(0, 1, 0, 0, 0)</td><td>0                     </td><td>A^@1_(0, 0, 0, 0, 0)  </td><td>0                     </td><td>0                     </td><td>0                     </td><td>0                     </td><td>0                     </td><td>0                     </td><td>0                     </td><td>0                     </td><td>0                     </td><td>0                     </td><td>0                     </td><td>0                     </td><td>0                     </td><td>0                     </td><td>0                     </td><td>0                     </td><td>0                     </td><td>0                     </td><td style=\"text-align: right;\">                     0</td></tr>\\n<tr><td>A^@1_(0, 0, 1, 0, 0)</td><td>0                     </td><td>0                     </td><td>A^@1_(0, 0, 0, 0, 0)  </td><td>0                     </td><td>0                     </td><td>0                     </td><td>0                     </td><td>0                     </td><td>0                     </td><td>0                     </td><td>0                     </td><td>0                     </td><td>0                     </td><td>0                     </td><td>0                     </td><td>0                     </td><td>0                     </td><td>0                     </td><td>0                     </td><td>0                     </td><td style=\"text-align: right;\">                     0</td></tr>\\n<tr><td>A^@1_(0, 0, 0, 1, 0)</td><td>0                     </td><td>0                     </td><td>0                     </td><td>A^@1_(0, 0, 0, 0, 0)  </td><td>0                     </td><td>0                     </td><td>0                     </td><td>0                     </td><td>0                     </td><td>0                     </td><td>0                     </td><td>0                     </td><td>0                     </td><td>0                     </td><td>0                     </td><td>0                     </td><td>0                     </td><td>0                     </td><td>0                     </td><td>0                     </td><td style=\"text-align: right;\">                     0</td></tr>\\n<tr><td>A^@1_(0, 0, 0, 0, 0)</td><td>0                     </td><td>0                     </td><td>0                     </td><td>0                     </td><td>0                     </td><td>0                     </td><td>0                     </td><td>0                     </td><td>0                     </td><td>0                     </td><td>0                     </td><td>0                     </td><td>0                     </td><td>0                     </td><td>0                     </td><td>0                     </td><td>0                     </td><td>0                     </td><td>0                     </td><td>0                     </td><td style=\"text-align: right;\">                     0</td></tr>\\n</tbody>\\n</table>'"
      ]
     },
     "metadata": {},
     "output_type": "display_data"
    }
   ],
   "source": [
    "heis2_jet2_1 = JetAlgebra()\n",
    "heis2_jet2_1.name = 'Jet of order 2 and rank 1 over heis2'\n",
    "heis2_jet2_1.lie_algebra_domain = heis2\n",
    "# heis2_jet2_1.target_vector_space = R\n",
    "heis2_jet2_1.order = 2\n",
    "heis2_jet2_1.build_me()\n",
    "show_bra_tab(heis2_jet2_1)\n",
    "la = heis2_jet2_1"
   ]
  },
  {
   "cell_type": "code",
   "execution_count": 5,
   "id": "15975899",
   "metadata": {},
   "outputs": [
    {
     "data": {
      "text/plain": [
       "True"
      ]
     },
     "execution_count": 5,
     "metadata": {},
     "output_type": "execute_result"
    }
   ],
   "source": [
    "la = heis2_jet2_1\n",
    "# one = la.target_vector_space.basis_symbolic[0]\n",
    "one = la.one\n",
    "# def A(*idx):\n",
    "#     idx = tuple(idx)\n",
    "#     if sum(list(idx)) < 0:\n",
    "#         return la.basis_symbolic_dict[(idx,0)]\n",
    "#     else:\n",
    "#         return la.basis_symbolic_dict[(idx,one)]\n",
    "A = la.A\n",
    "dim = la.dimension\n",
    "la.check_jacobi(verbose = True)"
   ]
  },
  {
   "cell_type": "code",
   "execution_count": 14,
   "id": "049f8375",
   "metadata": {},
   "outputs": [],
   "source": [
    "# # A(0,0,0,0,0)\n",
    "# la(A(0,0,0,0,1),A(0,0,0,0,-1))"
   ]
  },
  {
   "cell_type": "code",
   "execution_count": 15,
   "id": "25f13508",
   "metadata": {
    "scrolled": true
   },
   "outputs": [],
   "source": [
    "# Print the rows of the latex table for the dictionary between the two ways to show the basis\n",
    "basis_s = la.basis_symbolic\n",
    "basis_o = la.basis_outer\n",
    "# dim = la.dimension\n",
    "\n",
    "print('\\\\hline')\n",
    "for j in range(dim):\n",
    "    if j < dim-1:\n",
    "        print(' ' + str(j+1),end=' &')\n",
    "    else:\n",
    "        print(' ' + str(j+1),end=' \\\\\\\\ \\n')\n",
    "\n",
    "# print('\\\\hline')\n",
    "for j in range(dim):\n",
    "    idx = la.indices[j][0]\n",
    "    if j < dim-1:\n",
    "        print(' ' + str(idx),end=' &')\n",
    "    else:\n",
    "        print(' ' + str(idx),end=' \\\\\\\\ \\n')\n",
    "\n",
    "# print('\\\\hline')\n",
    "for j in range(dim):\n",
    "    v_string = latex(basis_s[j])\n",
    "    v_string = v_string.replace('^{0}','')\n",
    "    v_string = v_string.replace('^{@1}','')\n",
    "    if j < dim-1:\n",
    "        print(' '+v_string,end=' &')\n",
    "    else:\n",
    "        print(' '+v_string,end=' \\\\\\\\ \\n')\n",
    "\n",
    "# for j in range(dim):\n",
    "#     v_string = latex(basis_o[j])\n",
    "#     v_string = v_string.replace('^{0}','')\n",
    "#     v_string = v_string.replace('^{@1}','')\n",
    "#     if j < dim-1:\n",
    "#         print(' '+v_string,end=' &')\n",
    "#     else:\n",
    "#         print(' '+v_string,end=' \\\\\\\\ \\n')       \n",
    "        \n",
    "squared = '@X^{2}'\n",
    "squared_ts = '\\\\dual{X}\\\\ts\\\\dual{X}'\n",
    "dual = '@X'\n",
    "dual_ts = '\\dual{X}'\n",
    "def clean_me(v):\n",
    "    v_string = latex(v,mul_symbol='\\\\ts')\n",
    "    v_string = v_string.replace('\\\\ts@1','')\n",
    "    v_string = v_string.replace('@1','')\n",
    "    v_string = v_string.replace( 'X1' , 'X_1' )\n",
    "    v_string = v_string.replace( 'X2' , 'X_2' )\n",
    "    v_string = v_string.replace( 'Y1' , 'Y_1' )\n",
    "    v_string = v_string.replace( 'Y2' , 'Y_2' )\n",
    "    v_string = v_string.replace( squared.replace('X','X_1') , squared_ts.replace('X','X_1') )\n",
    "    v_string = v_string.replace( squared.replace('X','X_2') , squared_ts.replace('X','X_2') )\n",
    "    v_string = v_string.replace( squared.replace('X','Y_1') , squared_ts.replace('X','Y_1') )\n",
    "    v_string = v_string.replace( squared.replace('X','Y_2') , squared_ts.replace('X','Y_2') )\n",
    "    v_string = v_string.replace( dual , dual_ts )\n",
    "    v_string = v_string.replace( dual.replace('X','Y') , dual_ts.replace('X','Y') )\n",
    "    v_string = v_string.replace('*','\\\\ts')\n",
    "    return v_string\n",
    "\n",
    "# print('\\\\hline')\n",
    "for j in range(dim):\n",
    "    v_string = clean_me(basis_o[j])\n",
    "    if j < dim-1:\n",
    "        print(' ' + v_string, end = ' &')\n",
    "    else:\n",
    "        print(' ' + 'T', end = ' \\\\\\\\ \\n')   "
   ]
  },
  {
   "cell_type": "code",
   "execution_count": 42,
   "id": "33854f66",
   "metadata": {
    "scrolled": true
   },
   "outputs": [
    {
     "name": "stdout",
     "output_type": "stream",
     "text": [
      "\\hline\n",
      " & A_{(-1, 0, 0, 0, 0)} & A_{(0, -1, 0, 0, 0)} & A_{(0, 0, -1, 0, 0)} & A_{(0, 0, 0, -1, 0)} & A_{(2, 0, 0, 0, 0)} & A_{(1, 1, 0, 0, 0)} & A_{(1, 0, 1, 0, 0)} & A_{(1, 0, 0, 1, 0)} & A_{(0, 2, 0, 0, 0)} & A_{(0, 1, 1, 0, 0)} & A_{(0, 1, 0, 1, 0)} & A_{(0, 0, 2, 0, 0)} & A_{(0, 0, 1, 1, 0)} & A_{(0, 0, 0, 2, 0)} & A_{(0, 0, 0, 0, 1)} & A_{(0, 0, 0, 0, -1)} & A_{(1, 0, 0, 0, 0)} & A_{(0, 1, 0, 0, 0)} & A_{(0, 0, 1, 0, 0)} & A_{(0, 0, 0, 1, 0)} & A_{(0, 0, 0, 0, 0)} \\\\ \n",
      "\\hline\n",
      "A_{(-1, 0, 0, 0, 0)} & 0 & A_{(0, 0, 0, 0, -1)} & 0 & 0 & - A_{(1, 0, 0, 0, 0)} & - A_{(0, 1, 0, 0, 0)} & - A_{(0, 0, 1, 0, 0)} & - A_{(0, 0, 0, 1, 0)} & 0 & 0 & 0 & 0 & 0 & 0 & 0 & 0 & - A_{(0, 0, 0, 0, 0)} & 0 & 0 & 0 & 0 \\\\ \n",
      "A_{(0, -1, 0, 0, 0)} & - A_{(0, 0, 0, 0, -1)} & 0 & 0 & 0 & 0 & - A_{(1, 0, 0, 0, 0)} & 0 & 0 & - A_{(0, 1, 0, 0, 0)} & - A_{(0, 0, 1, 0, 0)} & - A_{(0, 0, 0, 1, 0)} & 0 & 0 & 0 & A_{(1, 0, 0, 0, 0)} & 0 & 0 & - A_{(0, 0, 0, 0, 0)} & 0 & 0 & 0 \\\\ \n",
      "A_{(0, 0, -1, 0, 0)} & 0 & 0 & 0 & A_{(0, 0, 0, 0, -1)} & 0 & 0 & - A_{(1, 0, 0, 0, 0)} & 0 & 0 & - A_{(0, 1, 0, 0, 0)} & 0 & - A_{(0, 0, 1, 0, 0)} & - A_{(0, 0, 0, 1, 0)} & 0 & 0 & 0 & 0 & 0 & - A_{(0, 0, 0, 0, 0)} & 0 & 0 \\\\ \n",
      "A_{(0, 0, 0, -1, 0)} & 0 & 0 & - A_{(0, 0, 0, 0, -1)} & 0 & 0 & 0 & 0 & - A_{(1, 0, 0, 0, 0)} & 0 & 0 & - A_{(0, 1, 0, 0, 0)} & 0 & - A_{(0, 0, 1, 0, 0)} & - A_{(0, 0, 0, 1, 0)} & A_{(0, 0, 1, 0, 0)} & 0 & 0 & 0 & 0 & - A_{(0, 0, 0, 0, 0)} & 0 \\\\ \n",
      "A_{(2, 0, 0, 0, 0)} & A_{(1, 0, 0, 0, 0)} & 0 & 0 & 0 & 0 & 0 & 0 & 0 & 0 & 0 & 0 & 0 & 0 & 0 & 0 & 0 & 0 & 0 & 0 & 0 & 0 \\\\ \n",
      "A_{(1, 1, 0, 0, 0)} & A_{(0, 1, 0, 0, 0)} & A_{(1, 0, 0, 0, 0)} & 0 & 0 & 0 & 0 & 0 & 0 & 0 & 0 & 0 & 0 & 0 & 0 & 0 & 0 & 0 & 0 & 0 & 0 & 0 \\\\ \n",
      "A_{(1, 0, 1, 0, 0)} & A_{(0, 0, 1, 0, 0)} & 0 & A_{(1, 0, 0, 0, 0)} & 0 & 0 & 0 & 0 & 0 & 0 & 0 & 0 & 0 & 0 & 0 & 0 & 0 & 0 & 0 & 0 & 0 & 0 \\\\ \n",
      "A_{(1, 0, 0, 1, 0)} & A_{(0, 0, 0, 1, 0)} & 0 & 0 & A_{(1, 0, 0, 0, 0)} & 0 & 0 & 0 & 0 & 0 & 0 & 0 & 0 & 0 & 0 & 0 & 0 & 0 & 0 & 0 & 0 & 0 \\\\ \n",
      "A_{(0, 2, 0, 0, 0)} & 0 & A_{(0, 1, 0, 0, 0)} & 0 & 0 & 0 & 0 & 0 & 0 & 0 & 0 & 0 & 0 & 0 & 0 & 0 & 0 & 0 & 0 & 0 & 0 & 0 \\\\ \n",
      "A_{(0, 1, 1, 0, 0)} & 0 & A_{(0, 0, 1, 0, 0)} & A_{(0, 1, 0, 0, 0)} & 0 & 0 & 0 & 0 & 0 & 0 & 0 & 0 & 0 & 0 & 0 & 0 & 0 & 0 & 0 & 0 & 0 & 0 \\\\ \n",
      "A_{(0, 1, 0, 1, 0)} & 0 & A_{(0, 0, 0, 1, 0)} & 0 & A_{(0, 1, 0, 0, 0)} & 0 & 0 & 0 & 0 & 0 & 0 & 0 & 0 & 0 & 0 & 0 & 0 & 0 & 0 & 0 & 0 & 0 \\\\ \n",
      "A_{(0, 0, 2, 0, 0)} & 0 & 0 & A_{(0, 0, 1, 0, 0)} & 0 & 0 & 0 & 0 & 0 & 0 & 0 & 0 & 0 & 0 & 0 & 0 & 0 & 0 & 0 & 0 & 0 & 0 \\\\ \n",
      "A_{(0, 0, 1, 1, 0)} & 0 & 0 & A_{(0, 0, 0, 1, 0)} & A_{(0, 0, 1, 0, 0)} & 0 & 0 & 0 & 0 & 0 & 0 & 0 & 0 & 0 & 0 & 0 & 0 & 0 & 0 & 0 & 0 & 0 \\\\ \n",
      "A_{(0, 0, 0, 2, 0)} & 0 & 0 & 0 & A_{(0, 0, 0, 1, 0)} & 0 & 0 & 0 & 0 & 0 & 0 & 0 & 0 & 0 & 0 & 0 & 0 & 0 & 0 & 0 & 0 & 0 \\\\ \n",
      "A_{(0, 0, 0, 0, 1)} & 0 & - A_{(1, 0, 0, 0, 0)} & 0 & - A_{(0, 0, 1, 0, 0)} & 0 & 0 & 0 & 0 & 0 & 0 & 0 & 0 & 0 & 0 & 0 & A_{(0, 0, 0, 0, 0)} & 0 & 0 & 0 & 0 & 0 \\\\ \n",
      "\\hline\n",
      "A_{(0, 0, 0, 0, -1)} & 0 & 0 & 0 & 0 & 0 & 0 & 0 & 0 & 0 & 0 & 0 & 0 & 0 & 0 & - A_{(0, 0, 0, 0, 0)} & 0 & 0 & 0 & 0 & 0 & 0 \\\\ \n",
      "A_{(1, 0, 0, 0, 0)} & A_{(0, 0, 0, 0, 0)} & 0 & 0 & 0 & 0 & 0 & 0 & 0 & 0 & 0 & 0 & 0 & 0 & 0 & 0 & 0 & 0 & 0 & 0 & 0 & 0 \\\\ \n",
      "A_{(0, 1, 0, 0, 0)} & 0 & A_{(0, 0, 0, 0, 0)} & 0 & 0 & 0 & 0 & 0 & 0 & 0 & 0 & 0 & 0 & 0 & 0 & 0 & 0 & 0 & 0 & 0 & 0 & 0 \\\\ \n",
      "A_{(0, 0, 1, 0, 0)} & 0 & 0 & A_{(0, 0, 0, 0, 0)} & 0 & 0 & 0 & 0 & 0 & 0 & 0 & 0 & 0 & 0 & 0 & 0 & 0 & 0 & 0 & 0 & 0 & 0 \\\\ \n",
      "A_{(0, 0, 0, 1, 0)} & 0 & 0 & 0 & A_{(0, 0, 0, 0, 0)} & 0 & 0 & 0 & 0 & 0 & 0 & 0 & 0 & 0 & 0 & 0 & 0 & 0 & 0 & 0 & 0 & 0 \\\\ \n",
      "\\hline\n",
      "A_{(0, 0, 0, 0, 0)} & 0 & 0 & 0 & 0 & 0 & 0 & 0 & 0 & 0 & 0 & 0 & 0 & 0 & 0 & 0 & 0 & 0 & 0 & 0 & 0 & 0 \\\\ \n",
      "\\hline\n"
     ]
    }
   ],
   "source": [
    "# Print the rows of the latex table for the lie bracket relations.\n",
    "basis = la.basis_symbolic\n",
    "# dim = la.dimension\n",
    "\n",
    "# First row:\n",
    "print('\\\\hline')\n",
    "print('',end=' &')\n",
    "for j in range(dim):\n",
    "    v_string = latex(basis[j])\n",
    "    v_string = v_string.replace('^{0}','')\n",
    "    v_string = v_string.replace('^{@1}','')\n",
    "    if j < dim-1:\n",
    "        print(' '+v_string,end=' &')\n",
    "    else:\n",
    "        print(' '+v_string,end=' \\\\\\\\ \\n')\n",
    "\n",
    "print('\\\\hline')\n",
    "\n",
    "# Other rows:\n",
    "\n",
    "gr_vect = la.growth_vector\n",
    "thresholds_layers = [sum(gr_vect[:i]) for i in range(1,la.step) ]\n",
    "# print(gr_vect)\n",
    "# print(thresholds_layers)\n",
    "for i in range(dim):\n",
    "    if i in thresholds_layers:\n",
    "        print('\\\\hline')\n",
    "    v_string = latex(basis[i])\n",
    "    v_string = v_string.replace('^{0}','')\n",
    "    v_string = v_string.replace('^{@1}','')\n",
    "    print(v_string,end = ' &')\n",
    "    for j in range(dim):\n",
    "        v = la(basis[i],basis[j]) \n",
    "        v_string = latex(v)\n",
    "        v_string = v_string.replace('^{0}','')\n",
    "#         v_string = v_string.replace('^0','')\n",
    "        v_string = v_string.replace('^{@1}','')\n",
    "#         v_string = v_string.replace('\\^\\@1','')\n",
    "        if j < dim-1:\n",
    "            print(' ' + v_string, end = ' &')\n",
    "        else:\n",
    "            print(' ' + v_string, end = ' \\\\\\\\ \\n')\n",
    "print('\\\\hline')"
   ]
  },
  {
   "cell_type": "code",
   "execution_count": 51,
   "id": "56afdb4b",
   "metadata": {},
   "outputs": [
    {
     "name": "stdout",
     "output_type": "stream",
     "text": [
      "\\left[\\begin{array}{ccccccccccccccccccccc}D_{17, 17} - D_{18, 18} - D_{19, 19} + D_{20, 20} & - D_{17, 16} & - D_{18, 16} & - D_{19, 16} & 0 & 0 & 0 & 0 & 0 & 0 & 0 & 0 & 0 & 0 & 0 & 0 & 0 & 0 & 0 & 0 & 0\\\\- D_{16, 17} & - D_{17, 17} + D_{20, 20} & - D_{18, 17} & - D_{19, 17} & 0 & 0 & 0 & 0 & 0 & 0 & 0 & 0 & 0 & 0 & 0 & 0 & 0 & 0 & 0 & 0 & 0\\\\D_{19, 17} & - D_{19, 16} & - D_{18, 18} + D_{20, 20} & - D_{19, 18} & 0 & 0 & 0 & 0 & 0 & 0 & 0 & 0 & 0 & 0 & 0 & 0 & 0 & 0 & 0 & 0 & 0\\\\- D_{18, 17} & D_{18, 16} & - D_{18, 19} & - D_{19, 19} + D_{20, 20} & 0 & 0 & 0 & 0 & 0 & 0 & 0 & 0 & 0 & 0 & 0 & 0 & 0 & 0 & 0 & 0 & 0\\\\D_{4, 0} & D_{5, 0} - 2 D_{16, 15} & D_{6, 0} & D_{7, 0} & - 2 D_{17, 17} + 2 D_{18, 18} + 2 D_{19, 19} - D_{20, 20} & 2 D_{16, 17} & - 2 D_{19, 17} & 2 D_{18, 17} & 0 & 0 & 0 & 0 & 0 & 0 & - D_{16, 17} & 0 & 0 & 0 & 0 & 0 & 0\\\\D_{5, 0} & D_{8, 0} - D_{17, 15} & D_{9, 0} & D_{10, 0} & D_{17, 16} & D_{18, 18} + D_{19, 19} - D_{20, 20} & D_{19, 16} & - D_{18, 16} & D_{16, 17} & - D_{19, 17} & D_{18, 17} & 0 & 0 & 0 & 0 & 0 & 0 & 0 & 0 & 0 & 0\\\\D_{6, 0} & D_{9, 0} - D_{18, 15} & D_{11, 0} & D_{12, 0} - D_{16, 15} & D_{18, 16} & D_{18, 17} & - D_{17, 17} + 2 D_{18, 18} + D_{19, 19} - D_{20, 20} & D_{18, 19} & 0 & D_{16, 17} & 0 & - D_{19, 17} & D_{18, 17} & 0 & - D_{18, 17} & 0 & 0 & 0 & 0 & 0 & 0\\\\D_{7, 0} & D_{10, 0} - D_{19, 15} & D_{12, 0} & D_{13, 0} & D_{19, 16} & D_{19, 17} & D_{19, 18} & - D_{17, 17} + D_{18, 18} + 2 D_{19, 19} - D_{20, 20} & 0 & 0 & D_{16, 17} & 0 & - D_{19, 17} & D_{18, 17} & 0 & 0 & 0 & 0 & 0 & 0 & 0\\\\D_{8, 0} & D_{8, 1} & D_{9, 1} & D_{10, 1} & 0 & 2 D_{17, 16} & 0 & 0 & 2 D_{17, 17} - D_{20, 20} & 2 D_{19, 16} & - 2 D_{18, 16} & 0 & 0 & 0 & - D_{17, 16} & 0 & 0 & 0 & 0 & 0 & 0\\\\D_{9, 0} & D_{9, 1} & D_{11, 1} & D_{12, 1} - D_{17, 15} & 0 & D_{18, 16} & D_{17, 16} & 0 & D_{18, 17} & D_{17, 17} + D_{18, 18} - D_{20, 20} & D_{18, 19} & D_{19, 16} & - D_{18, 16} & 0 & 0 & 0 & 0 & 0 & 0 & 0 & 0\\\\D_{10, 0} & D_{10, 1} & D_{12, 1} & D_{13, 1} & 0 & D_{19, 16} & 0 & D_{17, 16} & D_{19, 17} & D_{19, 18} & D_{17, 17} + D_{19, 19} - D_{20, 20} & 0 & D_{19, 16} & - D_{18, 16} & - D_{19, 16} & 0 & 0 & 0 & 0 & 0 & 0\\\\D_{11, 0} & D_{11, 1} & D_{11, 2} & D_{12, 2} - 2 D_{18, 15} & 0 & 0 & 2 D_{18, 16} & 0 & 0 & 2 D_{18, 17} & 0 & 2 D_{18, 18} - D_{20, 20} & 2 D_{18, 19} & 0 & - D_{18, 19} & 0 & 0 & 0 & 0 & 0 & 0\\\\D_{12, 0} & D_{12, 1} & D_{12, 2} & D_{13, 2} - D_{19, 15} & 0 & 0 & D_{19, 16} & D_{18, 16} & 0 & D_{19, 17} & D_{18, 17} & D_{19, 18} & D_{18, 18} + D_{19, 19} - D_{20, 20} & D_{18, 19} & 0 & 0 & 0 & 0 & 0 & 0 & 0\\\\D_{13, 0} & D_{13, 1} & D_{13, 2} & D_{13, 3} & 0 & 0 & 0 & 2 D_{19, 16} & 0 & 0 & 2 D_{19, 17} & 0 & 2 D_{19, 18} & 2 D_{19, 19} - D_{20, 20} & - D_{19, 18} & 0 & 0 & 0 & 0 & 0 & 0\\\\D_{16, 15} & D_{17, 15} & D_{18, 15} & D_{19, 15} & 0 & 0 & 0 & 0 & 0 & 0 & 0 & 0 & 0 & 0 & D_{18, 18} + D_{19, 19} - D_{20, 20} & 0 & 0 & 0 & 0 & 0 & 0\\\\0 & 0 & 0 & 0 & 0 & 0 & 0 & 0 & 0 & 0 & 0 & 0 & 0 & 0 & 0 & - D_{18, 18} - D_{19, 19} + 2 D_{20, 20} & 0 & 0 & 0 & 0 & 0\\\\0 & 0 & 0 & 0 & 0 & 0 & 0 & 0 & 0 & 0 & 0 & 0 & 0 & 0 & 0 & D_{16, 15} & - D_{17, 17} + D_{18, 18} + D_{19, 19} & D_{16, 17} & - D_{19, 17} & D_{18, 17} & 0\\\\0 & 0 & 0 & 0 & 0 & 0 & 0 & 0 & 0 & 0 & 0 & 0 & 0 & 0 & 0 & D_{17, 15} & D_{17, 16} & D_{17, 17} & D_{19, 16} & - D_{18, 16} & 0\\\\0 & 0 & 0 & 0 & 0 & 0 & 0 & 0 & 0 & 0 & 0 & 0 & 0 & 0 & 0 & D_{18, 15} & D_{18, 16} & D_{18, 17} & D_{18, 18} & D_{18, 19} & 0\\\\0 & 0 & 0 & 0 & 0 & 0 & 0 & 0 & 0 & 0 & 0 & 0 & 0 & 0 & 0 & D_{19, 15} & D_{19, 16} & D_{19, 17} & D_{19, 18} & D_{19, 19} & 0\\\\0 & 0 & 0 & 0 & 0 & 0 & 0 & 0 & 0 & 0 & 0 & 0 & 0 & 0 & 0 & 0 & 0 & 0 & 0 & 0 & D_{20, 20}\\end{array}\\right]\n"
     ]
    }
   ],
   "source": [
    "print(latex(la.generic_derivation_graded.as_matrix))"
   ]
  },
  {
   "cell_type": "code",
   "execution_count": 46,
   "id": "3f291929",
   "metadata": {},
   "outputs": [],
   "source": [
    "# builds the group opeartion in semi-direct product coordinates (takes time!)\n",
    "la._sd_prod_build()"
   ]
  },
  {
   "cell_type": "code",
   "execution_count": 50,
   "id": "6db61245",
   "metadata": {
    "scrolled": true
   },
   "outputs": [
    {
     "name": "stdout",
     "output_type": "stream",
     "text": [
      "\\left[\\begin{matrix}{p_{0}}\\\\{p_{1}}\\\\{p_{2}}\\\\{p_{3}}\\\\{p_{4}}\\\\{p_{5}}\\\\{p_{6}}\\\\{p_{7}}\\\\{p_{8}}\\\\{p_{9}}\\\\{p_{10}}\\\\{p_{11}}\\\\{p_{12}}\\\\{p_{13}}\\\\{p_{14}}\\\\{p_{15}}\\\\{p_{16}}\\\\{p_{17}}\\\\{p_{18}}\\\\{p_{19}}\\\\{p_{20}}\\end{matrix}\\right]\n",
      "*\n",
      "\\left[\\begin{matrix}{q_{0}}\\\\{q_{1}}\\\\{q_{2}}\\\\{q_{3}}\\\\{q_{4}}\\\\{q_{5}}\\\\{q_{6}}\\\\{q_{7}}\\\\{q_{8}}\\\\{q_{9}}\\\\{q_{10}}\\\\{q_{11}}\\\\{q_{12}}\\\\{q_{13}}\\\\{q_{14}}\\\\{q_{15}}\\\\{q_{16}}\\\\{q_{17}}\\\\{q_{18}}\\\\{q_{19}}\\\\{q_{20}}\\end{matrix}\\right]\n",
      "=\n",
      "\\left[\\begin{matrix}{p_{0}} + {q_{0}}\\\\{p_{1}} + {q_{1}}\\\\{p_{2}} + {q_{2}}\\\\{p_{3}} + {q_{3}}\\\\{p_{4}} + {q_{4}}\\\\{p_{5}} + {q_{5}}\\\\{p_{6}} + {q_{6}}\\\\{p_{7}} + {q_{7}}\\\\{p_{8}} + {q_{8}}\\\\{p_{9}} + {q_{9}}\\\\{p_{10}} + {q_{10}}\\\\{p_{11}} + {q_{11}}\\\\{p_{12}} + {q_{12}}\\\\{p_{13}} + {q_{13}}\\\\{p_{14}} + {q_{14}}\\\\\\frac{{p_{0}} {q_{1}}}{2} - \\frac{{p_{1}} {q_{0}}}{2} + \\frac{{p_{2}} {q_{3}}}{2} - \\frac{{p_{3}} {q_{2}}}{2} + {p_{15}} + {q_{15}}\\\\{p_{4}} {q_{0}} + {p_{5}} {q_{1}} + {p_{6}} {q_{2}} + {p_{7}} {q_{3}} - {p_{14}} {q_{1}} + {p_{16}} + {q_{16}}\\\\{p_{5}} {q_{0}} + {p_{8}} {q_{1}} + {p_{9}} {q_{2}} + {p_{10}} {q_{3}} + {p_{17}} + {q_{17}}\\\\{p_{6}} {q_{0}} + {p_{9}} {q_{1}} + {p_{11}} {q_{2}} + {p_{12}} {q_{3}} - {p_{14}} {q_{3}} + {p_{18}} + {q_{18}}\\\\{p_{7}} {q_{0}} + {p_{10}} {q_{1}} + {p_{12}} {q_{2}} + {p_{13}} {q_{3}} + {p_{19}} + {q_{19}}\\\\\\frac{{p_{4}} {q_{0}}^{2}}{2} + {p_{5}} {q_{0}} {q_{1}} + {p_{6}} {q_{0}} {q_{2}} + {p_{7}} {q_{0}} {q_{3}} + \\frac{{p_{8}} {q_{1}}^{2}}{2} + {p_{9}} {q_{1}} {q_{2}} + {p_{10}} {q_{1}} {q_{3}} + \\frac{{p_{11}} {q_{2}}^{2}}{2} + {p_{12}} {q_{2}} {q_{3}} + \\frac{{p_{13}} {q_{3}}^{2}}{2} - \\frac{{p_{14}} {q_{0}} {q_{1}}}{2} - \\frac{{p_{14}} {q_{2}} {q_{3}}}{2} + {p_{14}} {q_{15}} + {p_{16}} {q_{0}} + {p_{17}} {q_{1}} + {p_{18}} {q_{2}} + {p_{19}} {q_{3}} + {p_{20}} + {q_{20}}\\end{matrix}\\right]\n"
     ]
    }
   ],
   "source": [
    "# prints the group opeartion in semi-direct product coordinates\n",
    "# NEEDS TO BUILD IT FIRST, see above.\n",
    "\n",
    "# dim = la.dimension\n",
    "M = Manifold(\"M\",dim)\n",
    "P = Patch(\"P\",M)\n",
    "\n",
    "basis = la.basis_symbolic\n",
    "coord = CoordSystem(\"p\",P)\n",
    "p = 0\n",
    "pj = coord.coord_functions()\n",
    "for j in range(dim):\n",
    "    p += pj[j]*basis[j]\n",
    "\n",
    "coord = CoordSystem(\"q\",P)\n",
    "q = 0\n",
    "qj = coord.coord_functions()\n",
    "for j in range(dim):\n",
    "    q += qj[j]*basis[j]\n",
    "    \n",
    "# p = la.a_vector_symbolic('p')\n",
    "# q = la.a_vector_symbolic('q')\n",
    "\n",
    "aa = la.from_symbols_to_array(la.sd_prod(p,q))\n",
    "# display(aa)\n",
    "\n",
    "aa_latex = latex(la.from_symbols_to_array(p))\n",
    "aa_latex = aa_latex.replace('\\mathbf','')\n",
    "# aa_latex = aa_latex.replace('\\\\\\\\','')\n",
    "print(aa_latex)\n",
    "\n",
    "print('*')\n",
    "\n",
    "aa_latex = latex(la.from_symbols_to_array(q))\n",
    "aa_latex = aa_latex.replace('\\mathbf','')\n",
    "# aa_latex = aa_latex.replace('\\\\\\\\','')\n",
    "print(aa_latex)\n",
    "\n",
    "print('=')\n",
    "\n",
    "aa = simplify(aa)\n",
    "aa_latex = latex(aa)\n",
    "aa_latex = aa_latex.replace('\\mathbf','')\n",
    "# aa_latex = aa_latex.replace('\\\\\\\\','')\n",
    "print(aa_latex)\n",
    "\n",
    "# qq = list(noncomm_pol_dict(q).values())\n",
    "# qq.remove(0)\n",
    "\n",
    "# li_vector_fields = []\n",
    "# for qi in qq:\n",
    "#     li_vector_fields.append( vect_subs(diff( aa, qi ), q, 0) )\n",
    "# for v in li_vector_fields:\n",
    "#     display(li_vector_fields.index(v), jet_algebra.from_array_to_symbols(v))"
   ]
  },
  {
   "cell_type": "code",
   "execution_count": 19,
   "id": "2fdfca4b",
   "metadata": {},
   "outputs": [],
   "source": [
    "# li_vector_fields = []\n",
    "\n",
    "# q = la.a_vector_symbolic('q')\n",
    "\n",
    "# qq = list(noncomm_pol_dict(q).values())\n",
    "# qq.remove(0)\n",
    "\n",
    "# aa = la.from_symbols_to_array(la.sd_prod(p,q))\n",
    "\n",
    "# for qi in qq:\n",
    "#     li_vector_fields.append( vect_subs(diff( aa, qi ), q, 0) )\n",
    "# for v in li_vector_fields:\n",
    "#     display(li_vector_fields.index(v), la.from_array_to_symbols(v))"
   ]
  },
  {
   "cell_type": "code",
   "execution_count": 20,
   "id": "0e486537",
   "metadata": {},
   "outputs": [],
   "source": [
    "# li_vector_fields_coord = []\n",
    "# basis = coord.base_vectors()\n",
    "# # jet_algebra = heis2_jet2_1\n",
    "# # dim = heis2_jet2_1.dimension\n",
    "# for v in li_vector_fields:\n",
    "#     v_coord = 0\n",
    "#     for i in range(dim):\n",
    "#         v_coord += v[i,0] * basis[i]\n",
    "#     li_vector_fields_coord.append(v_coord)\n",
    "# for v in li_vector_fields_coord:\n",
    "#     display(v)"
   ]
  },
  {
   "cell_type": "code",
   "execution_count": 21,
   "id": "0c888bad",
   "metadata": {},
   "outputs": [],
   "source": [
    "# # jet_algebra = heis2_jet2_1\n",
    "# # dim = jet_algebra.dimension\n",
    "\n",
    "# M = zeros(dim+1,dim+1)\n",
    "# for i in range(dim):\n",
    "#     M[i+1,0] = M[0,i+1] = li_vector_fields_coord[i]\n",
    "# for i in range(dim):\n",
    "#     for j in range(dim):\n",
    "# #         print(i,j)\n",
    "#         M[i+1,j+1] = simplify(LieDerivative(li_vector_fields_coord[i],li_vector_fields_coord[j]))\n",
    "# display(M)"
   ]
  },
  {
   "cell_type": "code",
   "execution_count": 22,
   "id": "d2e69667",
   "metadata": {},
   "outputs": [],
   "source": [
    "# M_list = [[M[i,j] for j in range(M.cols)] for i in range(M.rows)]\n",
    "# tabella = tabulate(M_list,headers=\"firstrow\", tablefmt=\"html\")\n",
    "# display(tabella)"
   ]
  },
  {
   "cell_type": "code",
   "execution_count": 23,
   "id": "f4c25bde",
   "metadata": {},
   "outputs": [],
   "source": [
    "# # Define a funciton that checks if a linear map is a lie algebra auto morphism of la.\n",
    "# basis = la.basis_symbolic\n",
    "# def check_is_mor(mor):\n",
    "#     itis = True\n",
    "#     for i in range(dim):\n",
    "#         for j in range(i):\n",
    "#             a = la.basis_symbolic[j]\n",
    "#             b = la.basis_symbolic[i]\n",
    "#             if simplify( la(mor(a),mor(b)) - mor(la(a,b)) ) != 0:\n",
    "#                 itis = False\n",
    "#                 print(a, ' , ', b ,' , ', la(mor(a),mor(b)) , ' , ' , mor(la(a,b)) )\n",
    "#                 print()\n",
    "#     return itis"
   ]
  },
  {
   "cell_type": "code",
   "execution_count": 24,
   "id": "a84c441b",
   "metadata": {},
   "outputs": [
    {
     "data": {
      "text/plain": [
       "True"
      ]
     },
     "execution_count": 24,
     "metadata": {},
     "output_type": "execute_result"
    }
   ],
   "source": [
    "# dim = la.dimension\n",
    "# mor = LinMap()\n",
    "# mor.domain = la\n",
    "# mor.range = la\n",
    "# mor.as_matrix = eye(dim)\n",
    "# check_is_mor(mor)"
   ]
  },
  {
   "cell_type": "code",
   "execution_count": 25,
   "id": "c3664676",
   "metadata": {},
   "outputs": [
    {
     "name": "stdout",
     "output_type": "stream",
     "text": [
      "A^0_(-1, 0, 0, 0, 0)  ,  A^0_(0, 0, 0, -1, 0)  ,  -A^@1_(0, 0, 1, 0, 0)  ,  0\n",
      "\n",
      "A^0_(-1, 0, 0, 0, 0)  ,  A^0_(0, 0, 0, 0, -1)  ,  A^@1_(0, 0, 0, 0, 0)  ,  0\n",
      "\n"
     ]
    },
    {
     "data": {
      "text/plain": [
       "False"
      ]
     },
     "execution_count": 25,
     "metadata": {},
     "output_type": "execute_result"
    }
   ],
   "source": [
    "# t = symbols('t')\n",
    "# mor.as_matrix = eye(dim)\n",
    "# mor.rules[(A(0,-1,0,0,0),)] = A(0,-1,0,0,0) + A(2,0,0,0,0)\n",
    "# mor.rules[(A(0, 0, 0, -1, 0),)] = A(0, 0, 0, -1, 0) + A(1,0,1,0,0)\n",
    "# mor.rules[(A(0, 0, 0, 0, -1),)] =  A(0, 0, 0, 0, -1) - A(1,0,0,0,0)\n",
    "# check_is_mor(mor)"
   ]
  },
  {
   "cell_type": "code",
   "execution_count": 26,
   "id": "58aa1e90",
   "metadata": {},
   "outputs": [],
   "source": [
    "# # Construct a generic automorphism\n",
    "# mor = LinMap()\n",
    "# mor.domain = la\n",
    "# mor.range = la\n",
    "# MM = Matrix(MatrixSymbol('M',dim,dim))\n",
    "# mor.as_matrix = MM"
   ]
  },
  {
   "cell_type": "code",
   "execution_count": 27,
   "id": "a88bae0c",
   "metadata": {},
   "outputs": [
    {
     "data": {
      "text/latex": [
       "$\\displaystyle \\left[\\begin{array}{ccccccccccccccccccccc}1 & 0 & 0 & 0 & M_{0, 4} & M_{0, 5} & M_{0, 6} & M_{0, 7} & M_{0, 8} & M_{0, 9} & M_{0, 10} & M_{0, 11} & M_{0, 12} & M_{0, 13} & M_{0, 14} & M_{0, 15} & M_{0, 16} & M_{0, 17} & M_{0, 18} & M_{0, 19} & M_{0, 20}\\\\0 & 1 & 0 & 0 & M_{1, 4} & M_{1, 5} & M_{1, 6} & M_{1, 7} & M_{1, 8} & M_{1, 9} & M_{1, 10} & M_{1, 11} & M_{1, 12} & M_{1, 13} & M_{1, 14} & M_{1, 15} & M_{1, 16} & M_{1, 17} & M_{1, 18} & M_{1, 19} & M_{1, 20}\\\\0 & 0 & 1 & 0 & M_{2, 4} & M_{2, 5} & M_{2, 6} & M_{2, 7} & M_{2, 8} & M_{2, 9} & M_{2, 10} & M_{2, 11} & M_{2, 12} & M_{2, 13} & M_{2, 14} & M_{2, 15} & M_{2, 16} & M_{2, 17} & M_{2, 18} & M_{2, 19} & M_{2, 20}\\\\0 & 0 & 0 & 1 & M_{3, 4} & M_{3, 5} & M_{3, 6} & M_{3, 7} & M_{3, 8} & M_{3, 9} & M_{3, 10} & M_{3, 11} & M_{3, 12} & M_{3, 13} & M_{3, 14} & M_{3, 15} & M_{3, 16} & M_{3, 17} & M_{3, 18} & M_{3, 19} & M_{3, 20}\\\\M_{4, 0} & M_{4, 1} & M_{4, 2} & M_{4, 3} & M_{4, 4} & M_{4, 5} & M_{4, 6} & M_{4, 7} & M_{4, 8} & M_{4, 9} & M_{4, 10} & M_{4, 11} & M_{4, 12} & M_{4, 13} & M_{4, 14} & M_{4, 15} & M_{4, 16} & M_{4, 17} & M_{4, 18} & M_{4, 19} & M_{4, 20}\\\\M_{5, 0} & M_{5, 1} & M_{5, 2} & M_{5, 3} & M_{5, 4} & M_{5, 5} & M_{5, 6} & M_{5, 7} & M_{5, 8} & M_{5, 9} & M_{5, 10} & M_{5, 11} & M_{5, 12} & M_{5, 13} & M_{5, 14} & M_{5, 15} & M_{5, 16} & M_{5, 17} & M_{5, 18} & M_{5, 19} & M_{5, 20}\\\\M_{6, 0} & M_{6, 1} & M_{6, 2} & M_{6, 3} & M_{6, 4} & M_{6, 5} & M_{6, 6} & M_{6, 7} & M_{6, 8} & M_{6, 9} & M_{6, 10} & M_{6, 11} & M_{6, 12} & M_{6, 13} & M_{6, 14} & M_{6, 15} & M_{6, 16} & M_{6, 17} & M_{6, 18} & M_{6, 19} & M_{6, 20}\\\\M_{7, 0} & M_{7, 1} & M_{7, 2} & M_{7, 3} & M_{7, 4} & M_{7, 5} & M_{7, 6} & M_{7, 7} & M_{7, 8} & M_{7, 9} & M_{7, 10} & M_{7, 11} & M_{7, 12} & M_{7, 13} & M_{7, 14} & M_{7, 15} & M_{7, 16} & M_{7, 17} & M_{7, 18} & M_{7, 19} & M_{7, 20}\\\\M_{8, 0} & M_{8, 1} & M_{8, 2} & M_{8, 3} & M_{8, 4} & M_{8, 5} & M_{8, 6} & M_{8, 7} & M_{8, 8} & M_{8, 9} & M_{8, 10} & M_{8, 11} & M_{8, 12} & M_{8, 13} & M_{8, 14} & M_{8, 15} & M_{8, 16} & M_{8, 17} & M_{8, 18} & M_{8, 19} & M_{8, 20}\\\\M_{9, 0} & M_{9, 1} & M_{9, 2} & M_{9, 3} & M_{9, 4} & M_{9, 5} & M_{9, 6} & M_{9, 7} & M_{9, 8} & M_{9, 9} & M_{9, 10} & M_{9, 11} & M_{9, 12} & M_{9, 13} & M_{9, 14} & M_{9, 15} & M_{9, 16} & M_{9, 17} & M_{9, 18} & M_{9, 19} & M_{9, 20}\\\\M_{10, 0} & M_{10, 1} & M_{10, 2} & M_{10, 3} & M_{10, 4} & M_{10, 5} & M_{10, 6} & M_{10, 7} & M_{10, 8} & M_{10, 9} & M_{10, 10} & M_{10, 11} & M_{10, 12} & M_{10, 13} & M_{10, 14} & M_{10, 15} & M_{10, 16} & M_{10, 17} & M_{10, 18} & M_{10, 19} & M_{10, 20}\\\\M_{11, 0} & M_{11, 1} & M_{11, 2} & M_{11, 3} & M_{11, 4} & M_{11, 5} & M_{11, 6} & M_{11, 7} & M_{11, 8} & M_{11, 9} & M_{11, 10} & M_{11, 11} & M_{11, 12} & M_{11, 13} & M_{11, 14} & M_{11, 15} & M_{11, 16} & M_{11, 17} & M_{11, 18} & M_{11, 19} & M_{11, 20}\\\\M_{12, 0} & M_{12, 1} & M_{12, 2} & M_{12, 3} & M_{12, 4} & M_{12, 5} & M_{12, 6} & M_{12, 7} & M_{12, 8} & M_{12, 9} & M_{12, 10} & M_{12, 11} & M_{12, 12} & M_{12, 13} & M_{12, 14} & M_{12, 15} & M_{12, 16} & M_{12, 17} & M_{12, 18} & M_{12, 19} & M_{12, 20}\\\\M_{13, 0} & M_{13, 1} & M_{13, 2} & M_{13, 3} & M_{13, 4} & M_{13, 5} & M_{13, 6} & M_{13, 7} & M_{13, 8} & M_{13, 9} & M_{13, 10} & M_{13, 11} & M_{13, 12} & M_{13, 13} & M_{13, 14} & M_{13, 15} & M_{13, 16} & M_{13, 17} & M_{13, 18} & M_{13, 19} & M_{13, 20}\\\\M_{14, 0} & M_{14, 1} & M_{14, 2} & M_{14, 3} & M_{14, 4} & M_{14, 5} & M_{14, 6} & M_{14, 7} & M_{14, 8} & M_{14, 9} & M_{14, 10} & M_{14, 11} & M_{14, 12} & M_{14, 13} & M_{14, 14} & M_{14, 15} & M_{14, 16} & M_{14, 17} & M_{14, 18} & M_{14, 19} & M_{14, 20}\\\\0 & 0 & 0 & 0 & 0 & 0 & M_{15, 6} & M_{15, 7} & M_{15, 8} & M_{15, 9} & M_{15, 10} & M_{15, 11} & M_{15, 12} & M_{15, 13} & M_{15, 14} & M_{15, 15} & M_{15, 16} & M_{15, 17} & M_{15, 18} & M_{15, 19} & M_{15, 20}\\\\0 & 0 & 0 & 0 & 0 & 0 & M_{16, 6} & M_{16, 7} & M_{16, 8} & M_{16, 9} & M_{16, 10} & M_{16, 11} & M_{16, 12} & M_{16, 13} & M_{16, 14} & M_{16, 15} & M_{16, 16} & M_{16, 17} & M_{16, 18} & M_{16, 19} & M_{16, 20}\\\\0 & 0 & 0 & 0 & 0 & 0 & M_{17, 6} & M_{17, 7} & M_{17, 8} & M_{17, 9} & M_{17, 10} & M_{17, 11} & M_{17, 12} & M_{17, 13} & M_{17, 14} & M_{17, 15} & M_{17, 16} & M_{17, 17} & M_{17, 18} & M_{17, 19} & M_{17, 20}\\\\0 & 0 & 0 & 0 & 0 & 0 & M_{18, 6} & M_{18, 7} & M_{18, 8} & M_{18, 9} & M_{18, 10} & M_{18, 11} & M_{18, 12} & M_{18, 13} & M_{18, 14} & M_{18, 15} & M_{18, 16} & M_{18, 17} & M_{18, 18} & M_{18, 19} & M_{18, 20}\\\\0 & 0 & 0 & 0 & 0 & 0 & M_{19, 6} & M_{19, 7} & M_{19, 8} & M_{19, 9} & M_{19, 10} & M_{19, 11} & M_{19, 12} & M_{19, 13} & M_{19, 14} & M_{19, 15} & M_{19, 16} & M_{19, 17} & M_{19, 18} & M_{19, 19} & M_{19, 20}\\\\0 & 0 & 0 & 0 & 0 & 0 & M_{20, 6} & M_{20, 7} & M_{20, 8} & M_{20, 9} & M_{20, 10} & M_{20, 11} & M_{20, 12} & M_{20, 13} & M_{20, 14} & M_{20, 15} & M_{20, 16} & M_{20, 17} & M_{20, 18} & M_{20, 19} & M_{20, 20}\\end{array}\\right]$"
      ],
      "text/plain": [
       "Matrix([\n",
       "[       1,        0,        0,        0,  M[0, 4],  M[0, 5],  M[0, 6],  M[0, 7],  M[0, 8],  M[0, 9],  M[0, 10],  M[0, 11],  M[0, 12],  M[0, 13],  M[0, 14],  M[0, 15],  M[0, 16],  M[0, 17],  M[0, 18],  M[0, 19],  M[0, 20]],\n",
       "[       0,        1,        0,        0,  M[1, 4],  M[1, 5],  M[1, 6],  M[1, 7],  M[1, 8],  M[1, 9],  M[1, 10],  M[1, 11],  M[1, 12],  M[1, 13],  M[1, 14],  M[1, 15],  M[1, 16],  M[1, 17],  M[1, 18],  M[1, 19],  M[1, 20]],\n",
       "[       0,        0,        1,        0,  M[2, 4],  M[2, 5],  M[2, 6],  M[2, 7],  M[2, 8],  M[2, 9],  M[2, 10],  M[2, 11],  M[2, 12],  M[2, 13],  M[2, 14],  M[2, 15],  M[2, 16],  M[2, 17],  M[2, 18],  M[2, 19],  M[2, 20]],\n",
       "[       0,        0,        0,        1,  M[3, 4],  M[3, 5],  M[3, 6],  M[3, 7],  M[3, 8],  M[3, 9],  M[3, 10],  M[3, 11],  M[3, 12],  M[3, 13],  M[3, 14],  M[3, 15],  M[3, 16],  M[3, 17],  M[3, 18],  M[3, 19],  M[3, 20]],\n",
       "[ M[4, 0],  M[4, 1],  M[4, 2],  M[4, 3],  M[4, 4],  M[4, 5],  M[4, 6],  M[4, 7],  M[4, 8],  M[4, 9],  M[4, 10],  M[4, 11],  M[4, 12],  M[4, 13],  M[4, 14],  M[4, 15],  M[4, 16],  M[4, 17],  M[4, 18],  M[4, 19],  M[4, 20]],\n",
       "[ M[5, 0],  M[5, 1],  M[5, 2],  M[5, 3],  M[5, 4],  M[5, 5],  M[5, 6],  M[5, 7],  M[5, 8],  M[5, 9],  M[5, 10],  M[5, 11],  M[5, 12],  M[5, 13],  M[5, 14],  M[5, 15],  M[5, 16],  M[5, 17],  M[5, 18],  M[5, 19],  M[5, 20]],\n",
       "[ M[6, 0],  M[6, 1],  M[6, 2],  M[6, 3],  M[6, 4],  M[6, 5],  M[6, 6],  M[6, 7],  M[6, 8],  M[6, 9],  M[6, 10],  M[6, 11],  M[6, 12],  M[6, 13],  M[6, 14],  M[6, 15],  M[6, 16],  M[6, 17],  M[6, 18],  M[6, 19],  M[6, 20]],\n",
       "[ M[7, 0],  M[7, 1],  M[7, 2],  M[7, 3],  M[7, 4],  M[7, 5],  M[7, 6],  M[7, 7],  M[7, 8],  M[7, 9],  M[7, 10],  M[7, 11],  M[7, 12],  M[7, 13],  M[7, 14],  M[7, 15],  M[7, 16],  M[7, 17],  M[7, 18],  M[7, 19],  M[7, 20]],\n",
       "[ M[8, 0],  M[8, 1],  M[8, 2],  M[8, 3],  M[8, 4],  M[8, 5],  M[8, 6],  M[8, 7],  M[8, 8],  M[8, 9],  M[8, 10],  M[8, 11],  M[8, 12],  M[8, 13],  M[8, 14],  M[8, 15],  M[8, 16],  M[8, 17],  M[8, 18],  M[8, 19],  M[8, 20]],\n",
       "[ M[9, 0],  M[9, 1],  M[9, 2],  M[9, 3],  M[9, 4],  M[9, 5],  M[9, 6],  M[9, 7],  M[9, 8],  M[9, 9],  M[9, 10],  M[9, 11],  M[9, 12],  M[9, 13],  M[9, 14],  M[9, 15],  M[9, 16],  M[9, 17],  M[9, 18],  M[9, 19],  M[9, 20]],\n",
       "[M[10, 0], M[10, 1], M[10, 2], M[10, 3], M[10, 4], M[10, 5], M[10, 6], M[10, 7], M[10, 8], M[10, 9], M[10, 10], M[10, 11], M[10, 12], M[10, 13], M[10, 14], M[10, 15], M[10, 16], M[10, 17], M[10, 18], M[10, 19], M[10, 20]],\n",
       "[M[11, 0], M[11, 1], M[11, 2], M[11, 3], M[11, 4], M[11, 5], M[11, 6], M[11, 7], M[11, 8], M[11, 9], M[11, 10], M[11, 11], M[11, 12], M[11, 13], M[11, 14], M[11, 15], M[11, 16], M[11, 17], M[11, 18], M[11, 19], M[11, 20]],\n",
       "[M[12, 0], M[12, 1], M[12, 2], M[12, 3], M[12, 4], M[12, 5], M[12, 6], M[12, 7], M[12, 8], M[12, 9], M[12, 10], M[12, 11], M[12, 12], M[12, 13], M[12, 14], M[12, 15], M[12, 16], M[12, 17], M[12, 18], M[12, 19], M[12, 20]],\n",
       "[M[13, 0], M[13, 1], M[13, 2], M[13, 3], M[13, 4], M[13, 5], M[13, 6], M[13, 7], M[13, 8], M[13, 9], M[13, 10], M[13, 11], M[13, 12], M[13, 13], M[13, 14], M[13, 15], M[13, 16], M[13, 17], M[13, 18], M[13, 19], M[13, 20]],\n",
       "[M[14, 0], M[14, 1], M[14, 2], M[14, 3], M[14, 4], M[14, 5], M[14, 6], M[14, 7], M[14, 8], M[14, 9], M[14, 10], M[14, 11], M[14, 12], M[14, 13], M[14, 14], M[14, 15], M[14, 16], M[14, 17], M[14, 18], M[14, 19], M[14, 20]],\n",
       "[       0,        0,        0,        0,        0,        0, M[15, 6], M[15, 7], M[15, 8], M[15, 9], M[15, 10], M[15, 11], M[15, 12], M[15, 13], M[15, 14], M[15, 15], M[15, 16], M[15, 17], M[15, 18], M[15, 19], M[15, 20]],\n",
       "[       0,        0,        0,        0,        0,        0, M[16, 6], M[16, 7], M[16, 8], M[16, 9], M[16, 10], M[16, 11], M[16, 12], M[16, 13], M[16, 14], M[16, 15], M[16, 16], M[16, 17], M[16, 18], M[16, 19], M[16, 20]],\n",
       "[       0,        0,        0,        0,        0,        0, M[17, 6], M[17, 7], M[17, 8], M[17, 9], M[17, 10], M[17, 11], M[17, 12], M[17, 13], M[17, 14], M[17, 15], M[17, 16], M[17, 17], M[17, 18], M[17, 19], M[17, 20]],\n",
       "[       0,        0,        0,        0,        0,        0, M[18, 6], M[18, 7], M[18, 8], M[18, 9], M[18, 10], M[18, 11], M[18, 12], M[18, 13], M[18, 14], M[18, 15], M[18, 16], M[18, 17], M[18, 18], M[18, 19], M[18, 20]],\n",
       "[       0,        0,        0,        0,        0,        0, M[19, 6], M[19, 7], M[19, 8], M[19, 9], M[19, 10], M[19, 11], M[19, 12], M[19, 13], M[19, 14], M[19, 15], M[19, 16], M[19, 17], M[19, 18], M[19, 19], M[19, 20]],\n",
       "[       0,        0,        0,        0,        0,        0, M[20, 6], M[20, 7], M[20, 8], M[20, 9], M[20, 10], M[20, 11], M[20, 12], M[20, 13], M[20, 14], M[20, 15], M[20, 16], M[20, 17], M[20, 18], M[20, 19], M[20, 20]]])"
      ]
     },
     "execution_count": 27,
     "metadata": {},
     "output_type": "execute_result"
    }
   ],
   "source": [
    "# mor.as_matrix = MM\n",
    "# mor.as_matrix[:4,:4] = eye(4)\n",
    "# mor.as_matrix[15:,:6] = zeros(6)\n",
    "# mor.as_matrix"
   ]
  }
 ],
 "metadata": {
  "kernelspec": {
   "display_name": "Python 3 (ipykernel)",
   "language": "python",
   "name": "python3"
  },
  "language_info": {
   "codemirror_mode": {
    "name": "ipython",
    "version": 3
   },
   "file_extension": ".py",
   "mimetype": "text/x-python",
   "name": "python",
   "nbconvert_exporter": "python",
   "pygments_lexer": "ipython3",
   "version": "3.10.8"
  }
 },
 "nbformat": 4,
 "nbformat_minor": 5
}
