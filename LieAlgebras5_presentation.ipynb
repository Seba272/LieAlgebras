{
 "cells": [
  {
   "cell_type": "code",
   "execution_count": 1,
   "id": "48fdc67f",
   "metadata": {},
   "outputs": [],
   "source": [
    "from sympy import *\n",
    "from LieAlgebras5 import *"
   ]
  },
  {
   "cell_type": "markdown",
   "id": "90b622b1",
   "metadata": {},
   "source": [
    "## VECTOR SPACES"
   ]
  },
  {
   "cell_type": "code",
   "execution_count": 2,
   "id": "4afd7bf7",
   "metadata": {},
   "outputs": [
    {
     "data": {
      "text/plain": [
       "[b1, b2]"
      ]
     },
     "execution_count": 2,
     "metadata": {},
     "output_type": "execute_result"
    }
   ],
   "source": [
    "V = VectorSpace()\n",
    "V.basis_symbolic = ['b1', 'b2']\n",
    "V.basis_symbolic"
   ]
  },
  {
   "cell_type": "code",
   "execution_count": 3,
   "id": "ae401511",
   "metadata": {},
   "outputs": [
    {
     "data": {
      "text/latex": [
       "$\\displaystyle 3 a_{1} b_{1} + a_{2} b_{2}$"
      ],
      "text/plain": [
       "3*a1*b1 + a2*b2"
      ]
     },
     "metadata": {},
     "output_type": "display_data"
    },
    {
     "data": {
      "text/latex": [
       "$\\displaystyle \\left[\\begin{matrix}3 a_{1}\\\\a_{2}\\end{matrix}\\right]$"
      ],
      "text/plain": [
       "[[3*a1], [a2]]"
      ]
     },
     "metadata": {},
     "output_type": "display_data"
    },
    {
     "name": "stdout",
     "output_type": "stream",
     "text": [
      "[[3*a1], [a2]]\n"
     ]
    }
   ],
   "source": [
    "[b1, b2] = V.basis_symbolic\n",
    "a1, a2 = symbols('a1 a2')\n",
    "v_symbolic = 3*a1*b1 + a2*b2\n",
    "display(v_symbolic)\n",
    "v_array = V.from_symbols_to_array(v_symbolic)\n",
    "display(v_array)\n",
    "print(v_array)"
   ]
  },
  {
   "cell_type": "code",
   "execution_count": 4,
   "id": "54abfa2f",
   "metadata": {},
   "outputs": [
    {
     "data": {
      "text/latex": [
       "$\\displaystyle a_{2}$"
      ],
      "text/plain": [
       "a2"
      ]
     },
     "execution_count": 4,
     "metadata": {},
     "output_type": "execute_result"
    }
   ],
   "source": [
    "v_array[1,0]"
   ]
  },
  {
   "cell_type": "code",
   "execution_count": 5,
   "id": "92d5eccb",
   "metadata": {},
   "outputs": [
    {
     "data": {
      "text/plain": [
       "True"
      ]
     },
     "execution_count": 5,
     "metadata": {},
     "output_type": "execute_result"
    }
   ],
   "source": [
    "V.from_array_to_symbols(v_array) == v_symbolic"
   ]
  },
  {
   "cell_type": "code",
   "execution_count": 6,
   "id": "acf05fdc",
   "metadata": {},
   "outputs": [
    {
     "data": {
      "text/latex": [
       "$\\displaystyle b_{1} + 2 b_{2}$"
      ],
      "text/plain": [
       "b1 + 2*b2"
      ]
     },
     "execution_count": 6,
     "metadata": {},
     "output_type": "execute_result"
    }
   ],
   "source": [
    "V.from_array_to_symbols([1,2])"
   ]
  },
  {
   "cell_type": "code",
   "execution_count": 7,
   "id": "2ff3a97f",
   "metadata": {},
   "outputs": [
    {
     "data": {
      "text/latex": [
       "$\\displaystyle a b_{1} + b b_{2}$"
      ],
      "text/plain": [
       "a*b1 + b*b2"
      ]
     },
     "execution_count": 7,
     "metadata": {},
     "output_type": "execute_result"
    }
   ],
   "source": [
    "V.from_array_to_symbols(['a','b'])"
   ]
  },
  {
   "cell_type": "code",
   "execution_count": 8,
   "id": "d3a7c104",
   "metadata": {},
   "outputs": [
    {
     "data": {
      "text/latex": [
       "$\\displaystyle x_{0} b_{1} + x_{1} b_{2}$"
      ],
      "text/plain": [
       "x_0*b1 + x_1*b2"
      ]
     },
     "execution_count": 8,
     "metadata": {},
     "output_type": "execute_result"
    }
   ],
   "source": [
    "V.a_vector_symbolic('x') \n",
    "# notice that the internal and standard indexing start with 0, \n",
    "# while in this notebook we were starting from 1"
   ]
  },
  {
   "cell_type": "code",
   "execution_count": 9,
   "id": "a8676351",
   "metadata": {},
   "outputs": [
    {
     "data": {
      "text/latex": [
       "$\\displaystyle \\left[\\begin{matrix}1\\\\0\\end{matrix}\\right]$"
      ],
      "text/plain": [
       "[[1], [0]]"
      ]
     },
     "metadata": {},
     "output_type": "display_data"
    },
    {
     "data": {
      "text/latex": [
       "$\\displaystyle \\left[\\begin{matrix}0\\\\1\\end{matrix}\\right]$"
      ],
      "text/plain": [
       "[[0], [1]]"
      ]
     },
     "metadata": {},
     "output_type": "display_data"
    }
   ],
   "source": [
    "for b in V.basis_coord:\n",
    "    display(b)\n",
    "   "
   ]
  },
  {
   "cell_type": "markdown",
   "id": "0d2e499b",
   "metadata": {},
   "source": [
    "### Basis of vector spaces\n",
    "\n",
    "A vector space has three bases, which are three representations of the same basis:\n",
    "1. A symbolic basis `V.basis_symbolic`\n",
    "2. An array basis `V.basis_coord`\n",
    "3. An outer basis `V.basis_outer`\n",
    "\n",
    "The first two are more or less automatic and one can go from one to another using the methods\n",
    "`V.from_array_to_symbols` and `V.from_symbols_to_array`,\n",
    "for both elements of the basis or their linear combinations.\n",
    "\n",
    "The outer basis is instead not set a-priori: in fact, it raises an exeption if called without being set.\n",
    "Similarly, the methods from or to the outer basis are defined but they don't do anything.\n",
    "The ratio is the following: the outer basis can be made of objects chosen by the user. \n",
    "For instance, they could be monomials, and `V` being a vector space of polynomials.\n",
    "Or, they could be matrices and `V` being a vector space of matrices."
   ]
  },
  {
   "cell_type": "code",
   "execution_count": 10,
   "id": "99f3de50",
   "metadata": {},
   "outputs": [],
   "source": [
    "# Example of use of an outer basis\n",
    "# (for another example, see the dual space)\n",
    "m1 = Matrix([[1,0],[0,1]])\n",
    "m2 = Matrix([[0,-1],[1,0]])\n",
    "V.basis_outer = [m1,m2]\n",
    "V.from_array_to_outer = lambda v : v[0,0] * V.basis_outer[0] + v[1,0] * V.basis_outer[1]\n",
    "V.from_outer_to_array = lambda m : m[0,0] * V.basis_coord[0] + m[1,0] * V.basis_coord[1]\n",
    "V.from_symbols_to_outer = lambda v : V.from_array_to_outer(V.from_symbols_to_array(v)) \n",
    "V.from_outer_to_symbols = lambda m : V.from_array_to_symbols(V.from_outer_to_array(v))"
   ]
  },
  {
   "cell_type": "code",
   "execution_count": 11,
   "id": "913d4a0a",
   "metadata": {},
   "outputs": [
    {
     "data": {
      "text/latex": [
       "$\\displaystyle \\left[\\begin{matrix}2 & -3\\\\3 & 2\\end{matrix}\\right]$"
      ],
      "text/plain": [
       "Matrix([\n",
       "[2, -3],\n",
       "[3,  2]])"
      ]
     },
     "execution_count": 11,
     "metadata": {},
     "output_type": "execute_result"
    }
   ],
   "source": [
    "V.from_symbols_to_outer(2*b1 + 3* b2)"
   ]
  },
  {
   "cell_type": "markdown",
   "id": "546d9bf4",
   "metadata": {},
   "source": [
    "### Gradings of vector spaces\n",
    "\n",
    "A grading is given by a organization of the basis into layers.\n",
    "Each layer has a positive integer as weight.\n",
    "Only integer weights 1, 2, ... are implemented.\n",
    "A grading defines dilations `V.dil`"
   ]
  },
  {
   "cell_type": "code",
   "execution_count": 12,
   "id": "ae280757",
   "metadata": {},
   "outputs": [
    {
     "data": {
      "text/plain": [
       "[1, 1]"
      ]
     },
     "execution_count": 12,
     "metadata": {},
     "output_type": "execute_result"
    }
   ],
   "source": [
    "V.growth_vector = [1,1]\n",
    "V.growth_vector"
   ]
  },
  {
   "cell_type": "code",
   "execution_count": 13,
   "id": "91ae57db",
   "metadata": {},
   "outputs": [
    {
     "data": {
      "text/plain": [
       "[[b1], [b2]]"
      ]
     },
     "execution_count": 13,
     "metadata": {},
     "output_type": "execute_result"
    }
   ],
   "source": [
    "V.graded_basis_symbolic"
   ]
  },
  {
   "cell_type": "code",
   "execution_count": 14,
   "id": "e76cdc54",
   "metadata": {},
   "outputs": [
    {
     "data": {
      "text/plain": [
       "[b1, b2]"
      ]
     },
     "execution_count": 14,
     "metadata": {},
     "output_type": "execute_result"
    }
   ],
   "source": [
    "# Notice that, since we had already set a symbolic basis, we still have the same:\n",
    "V.basis_symbolic"
   ]
  },
  {
   "cell_type": "code",
   "execution_count": 15,
   "id": "bf120064",
   "metadata": {},
   "outputs": [
    {
     "data": {
      "text/plain": [
       "[b1, b2]"
      ]
     },
     "execution_count": 15,
     "metadata": {},
     "output_type": "execute_result"
    }
   ],
   "source": [
    "# We can, and it is better to do it, uniform the two symbolic basis:\n",
    "# Notice that we don't have a method to transform expressions in the graded basis\n",
    "# if we it is not uniformed to the symbolic basis.\n",
    "V.basis_symbolic = flatten(V.graded_basis_symbolic)\n",
    "V.basis_symbolic"
   ]
  },
  {
   "cell_type": "code",
   "execution_count": 16,
   "id": "996c29ad",
   "metadata": {},
   "outputs": [
    {
     "data": {
      "text/plain": [
       "[1, 2]"
      ]
     },
     "metadata": {},
     "output_type": "display_data"
    },
    {
     "data": {
      "text/latex": [
       "$\\displaystyle \\left[\\begin{matrix}3 a_{1}\\\\a_{2}\\end{matrix}\\right]$"
      ],
      "text/plain": [
       "[[3*a1], [a2]]"
      ]
     },
     "metadata": {},
     "output_type": "display_data"
    },
    {
     "data": {
      "text/latex": [
       "$\\displaystyle \\left[\\begin{matrix}6 a_{1}\\\\4 a_{2}\\end{matrix}\\right]$"
      ],
      "text/plain": [
       "Matrix([\n",
       "[6*a1],\n",
       "[4*a2]])"
      ]
     },
     "metadata": {},
     "output_type": "display_data"
    }
   ],
   "source": [
    "display(V.weights)\n",
    "display(v_array)\n",
    "display(V.dil(2,v_array))"
   ]
  },
  {
   "cell_type": "markdown",
   "id": "2130dc8d",
   "metadata": {},
   "source": [
    "### Dual space\n",
    "\n",
    "There is an outomatic construction of dual space\n",
    "The point about the dual space is that it is in duality with the original space via the method\n",
    "`V.pairing_dualVSvect_symbolic`.\n",
    "As the name suggests, it takes in two inputs `(b,a)` that are both symbolic vectors, the first one `b` is a symbolic element of the dual and the second one `a` is a symbolic element of the vector space."
   ]
  },
  {
   "cell_type": "code",
   "execution_count": 17,
   "id": "59a60807",
   "metadata": {},
   "outputs": [
    {
     "data": {
      "text/plain": [
       "[@b1, @b2]"
      ]
     },
     "execution_count": 17,
     "metadata": {},
     "output_type": "execute_result"
    }
   ],
   "source": [
    "# This is the automatic symbolic dual basis:\n",
    "V.dual_basis_symbolic"
   ]
  },
  {
   "cell_type": "code",
   "execution_count": 18,
   "id": "6265165e",
   "metadata": {},
   "outputs": [
    {
     "data": {
      "text/plain": [
       "[(b1)^*, (b2)^*]"
      ]
     },
     "execution_count": 18,
     "metadata": {},
     "output_type": "execute_result"
    }
   ],
   "source": [
    "# If you really want to have different symbols, you can use the inned method that builds it:\n",
    "V._dual_basis_symbolic_build(pre_symbol_for_dual='(',post_symbol_for_dual=')^*')\n",
    "V.dual_basis_symbolic"
   ]
  },
  {
   "cell_type": "code",
   "execution_count": 19,
   "id": "b5c081db",
   "metadata": {},
   "outputs": [
    {
     "data": {
      "text/plain": [
       "[(b1)^*, (b2)^*]"
      ]
     },
     "metadata": {},
     "output_type": "display_data"
    }
   ],
   "source": [
    "V_dual = V.dual_space\n",
    "display( V_dual.basis_symbolic )"
   ]
  },
  {
   "cell_type": "code",
   "execution_count": 20,
   "id": "014a5e79",
   "metadata": {},
   "outputs": [
    {
     "data": {
      "text/plain": [
       "[[[1], [0]], [[0], [1]]]"
      ]
     },
     "metadata": {},
     "output_type": "display_data"
    },
    {
     "data": {
      "text/plain": [
       "[[[1, 0]], [[0, 1]]]"
      ]
     },
     "metadata": {},
     "output_type": "display_data"
    }
   ],
   "source": [
    "# notice that vector in the dual space are still vertical arrays:\n",
    "display( V_dual.basis_coord )\n",
    "# A way to get around this is to define an outer basis of horizontal arrays:\n",
    "dim = V_dual.dimension\n",
    "V_dual.basis_outer = [ Array(v, (1,dim)) for v in eye(dim).rowspace()]\n",
    "display(V_dual.basis_outer)"
   ]
  },
  {
   "cell_type": "code",
   "execution_count": 21,
   "id": "be85fe15",
   "metadata": {},
   "outputs": [],
   "source": [
    "# At this point, we can define the methods to transform things from one to the other:\n",
    "V_dual.from_array_to_outer = lambda v: v.reshape(1,V_dual.dimension)\n",
    "V_dual.from_outer_to_array = lambda v: v.reshape(V_dual.dimension,1)\n",
    "V_dual.from_symbols_to_outer = lambda v: V_dual.from_array_to_outer( V_dual.from_symbols_to_array(v) )\n",
    "V_dual.from_outer_to_symbols = lambda v: V_dual.from_array_to_symbols( V_dual.from_outer_to_array(v) )"
   ]
  },
  {
   "cell_type": "code",
   "execution_count": 22,
   "id": "c92d9812",
   "metadata": {
    "scrolled": true
   },
   "outputs": [
    {
     "name": "stdout",
     "output_type": "stream",
     "text": [
      "(b1)^* b1 1\n",
      "(b2)^* b1 0\n",
      "\n",
      "(b1)^* b2 0\n",
      "(b2)^* b2 1\n",
      "\n"
     ]
    }
   ],
   "source": [
    "# We have a method for _ordered_ duality of symbolic expressions\n",
    "for a in V.basis_symbolic :\n",
    "    for b in V.dual_basis_symbolic:\n",
    "        print(b,a,V.pairing_dualVSvect_symbolic(b,a) )\n",
    "    print()"
   ]
  },
  {
   "cell_type": "markdown",
   "id": "28d8ac68",
   "metadata": {},
   "source": [
    "## LINEAR MAPS\n",
    "\n",
    "A linear map is a multilinear map with only one domain."
   ]
  },
  {
   "cell_type": "code",
   "execution_count": 23,
   "id": "1548ccd5",
   "metadata": {},
   "outputs": [
    {
     "data": {
      "text/plain": [
       "0"
      ]
     },
     "execution_count": 23,
     "metadata": {},
     "output_type": "execute_result"
    }
   ],
   "source": [
    "L = MultLinMap()\n",
    "L.domains = V,V\n",
    "L.range = V\n",
    "L.rules = {}\n",
    "L(b1,b1)"
   ]
  },
  {
   "cell_type": "code",
   "execution_count": 24,
   "id": "657fbfbf",
   "metadata": {},
   "outputs": [
    {
     "name": "stdout",
     "output_type": "stream",
     "text": [
      "L(b1,b2) =  0\n",
      "L(b1,b2) =  b1\n"
     ]
    },
    {
     "data": {
      "text/latex": [
       "$\\displaystyle - 3 a^{2} b_{1}$"
      ],
      "text/plain": [
       "-3*a**2*b1"
      ]
     },
     "execution_count": 24,
     "metadata": {},
     "output_type": "execute_result"
    }
   ],
   "source": [
    "L = MultLinMap()\n",
    "# A multilinear map `L` has a list of domains `L.domains` and a range `L.range`, all vector spaces:\n",
    "L.domains = V,V\n",
    "L.range = V\n",
    "# The map can be described by rules on tuples of symbolic elements of the basis. \n",
    "# The missing pairs are assumed to be zero.\n",
    "# A multilinear map is callable. The call is just an application of the method L.apply()\n",
    "[b1, b2] = V.basis_symbolic\n",
    "L.rules = {}\n",
    "print('L(b1,b2) = ',L(b1,b2))\n",
    "\n",
    "L.rules = {(b1,b2): b1, (b2,b1): -b1}\n",
    "print('L(b1,b2) = ',L(b1,b2))\n",
    "\n",
    "# L.apply(a*3*b2 , a*b1 + b2)\n",
    "a = symbols('a')\n",
    "L(a*3*b2 , a*b1 + b2)"
   ]
  },
  {
   "cell_type": "code",
   "execution_count": 25,
   "id": "c218bbdc",
   "metadata": {
    "scrolled": true
   },
   "outputs": [
    {
     "data": {
      "text/latex": [
       "$\\displaystyle \\left[\\begin{matrix}1\\\\0\\end{matrix}\\right]$"
      ],
      "text/plain": [
       "[[1], [0]]"
      ]
     },
     "execution_count": 25,
     "metadata": {},
     "output_type": "execute_result"
    }
   ],
   "source": [
    "# A linear map can read both symbolic and array vectors\n",
    "L( Array([1,0],(2,1)) , Array([0,1],(2,1)) )"
   ]
  },
  {
   "cell_type": "code",
   "execution_count": 26,
   "id": "72b54052",
   "metadata": {},
   "outputs": [
    {
     "data": {
      "text/latex": [
       "$\\displaystyle 3 a b_{2} - b_{1}$"
      ],
      "text/plain": [
       "3*a*b2 - b1"
      ]
     },
     "execution_count": 26,
     "metadata": {},
     "output_type": "execute_result"
    }
   ],
   "source": [
    "# A linear map is a multilinear map with only one domain.\n",
    "L = LinMap()\n",
    "# this snipped works also with \n",
    "# L = MultLinMap()\n",
    "L.domains = V\n",
    "L.range = V\n",
    "[b1, b2] = V.basis_symbolic\n",
    "a = symbols('a')\n",
    "# if L = LinMap(), then any of the following two lines works fine.\n",
    "# however, if L = MultLinMap(), then only the second one works \n",
    "L.rules = {b1:b2, b2: -b1}\n",
    "# L.rules = {(b1,):b2, (b2,): -b1}\n",
    "L(3*a*b1 + b2)"
   ]
  },
  {
   "cell_type": "code",
   "execution_count": 27,
   "id": "b4557051",
   "metadata": {
    "scrolled": true
   },
   "outputs": [
    {
     "data": {
      "text/latex": [
       "$\\displaystyle \\left[\\begin{matrix}0\\\\1\\end{matrix}\\right]$"
      ],
      "text/plain": [
       "[[0], [1]]"
      ]
     },
     "execution_count": 27,
     "metadata": {},
     "output_type": "execute_result"
    }
   ],
   "source": [
    "L( Array([1,0],(2,1)) )"
   ]
  },
  {
   "cell_type": "markdown",
   "id": "35aeb7e5",
   "metadata": {},
   "source": [
    "## LIE ALGEBRAS\n",
    "\n",
    "A Lie algebra is a vector space endowed with a bilinear map, the Lie brackets.\n",
    "The class `LieAlgebra` is an extension of `VectorSpace`."
   ]
  },
  {
   "cell_type": "markdown",
   "id": "1d2d3fbe",
   "metadata": {},
   "source": [
    "### The Heisenberg algebra"
   ]
  },
  {
   "cell_type": "code",
   "execution_count": 28,
   "id": "558b1adf",
   "metadata": {},
   "outputs": [],
   "source": [
    "heis = LieAlgebra()\n",
    "heis.name = 'Heisenberg'\n",
    "# Notice that `heis` is first of all an instance of the class `VectorSpace`.\n",
    "# As such, we can use the same objects we had for `V` above.\n",
    "heis.basis_symbolic = ['X','Y','Z']\n",
    "[X,Y,Z] = heis.basis_symbolic\n",
    "heis.brackets.rules = {(X,Y):Z}"
   ]
  },
  {
   "cell_type": "code",
   "execution_count": 29,
   "id": "be725063",
   "metadata": {},
   "outputs": [
    {
     "name": "stdout",
     "output_type": "stream",
     "text": [
      "heis(X,Y) =  Z\n",
      "heis(e1,e2) =  [[0], [0], [1]]\n",
      "<class 'LieAlgebras5.MultLinMap'>\n",
      "heis.brackets.is_antisymmetric =  True\n",
      "heis.brackets.rules =  {(X, Y): Z, (Y, X): -Z}\n",
      "heis(X,Y) =  Z\n",
      "heis(Y,X) =  -Z\n"
     ]
    }
   ],
   "source": [
    "# the class heis is callable:\n",
    "print('heis(X,Y) = ',heis(X,Y))\n",
    "\n",
    "[e1,e2,e3] = heis.basis_coord\n",
    "print('heis(e1,e2) = ',heis(e1,e2))\n",
    "\n",
    "# it calls the method heis.brackets,\n",
    "# which is actually an instance of MultLinMap\n",
    "print(type(heis.brackets))\n",
    "# Notice that the rules are made automatically antisymmetric:\n",
    "print('heis.brackets.is_antisymmetric = ', heis.brackets.is_antisymmetric)\n",
    "print('heis.brackets.rules = ', heis.brackets.rules) \n",
    "print('heis(X,Y) = ', heis(X,Y))\n",
    "print('heis(Y,X) = ', heis(Y,X))"
   ]
  },
  {
   "cell_type": "code",
   "execution_count": 30,
   "id": "02e09b7b",
   "metadata": {},
   "outputs": [
    {
     "data": {
      "text/plain": [
       "True"
      ]
     },
     "execution_count": 30,
     "metadata": {},
     "output_type": "execute_result"
    }
   ],
   "source": [
    "# It is good to check the Jacobi identity when defying a Lie algebra:\n",
    "heis.check_jacobi()"
   ]
  },
  {
   "cell_type": "code",
   "execution_count": 31,
   "id": "a2cf3515",
   "metadata": {},
   "outputs": [
    {
     "data": {
      "text/latex": [
       "$\\displaystyle \\left[\\begin{matrix}\\left[\\left[\\begin{matrix}\\left[\\left[\\begin{matrix}0 & 0 & 0\\end{matrix}\\right]\\right] & \\left[\\left[\\begin{matrix}0 & 0 & 0\\end{matrix}\\right]\\right] & \\left[\\left[\\begin{matrix}0 & 0 & 0\\end{matrix}\\right]\\right]\\end{matrix}\\right]\\right]\\\\\\left[\\left[\\begin{matrix}\\left[\\left[\\begin{matrix}0 & 0 & 0\\end{matrix}\\right]\\right] & \\left[\\left[\\begin{matrix}0 & 0 & 0\\end{matrix}\\right]\\right] & \\left[\\left[\\begin{matrix}0 & 0 & 0\\end{matrix}\\right]\\right]\\end{matrix}\\right]\\right]\\\\\\left[\\left[\\begin{matrix}\\left[\\left[\\begin{matrix}0 & 1 & 0\\end{matrix}\\right]\\right] & \\left[\\left[\\begin{matrix}-1 & 0 & 0\\end{matrix}\\right]\\right] & \\left[\\left[\\begin{matrix}0 & 0 & 0\\end{matrix}\\right]\\right]\\end{matrix}\\right]\\right]\\end{matrix}\\right]$"
      ],
      "text/plain": [
       "[[[[[[0, 0, 0]], [[0, 0, 0]], [[0, 0, 0]]]]], [[[[[0, 0, 0]], [[0, 0, 0]], [[0, 0, 0]]]]], [[[[[0, 1, 0]], [[-1, 0, 0]], [[0, 0, 0]]]]]]"
      ]
     },
     "metadata": {},
     "output_type": "display_data"
    },
    {
     "data": {
      "text/latex": [
       "$\\displaystyle \\left[\\begin{matrix}\\left[\\begin{matrix}0 & 0 & 0\\\\0 & 0 & 0\\\\0 & 0 & 0\\end{matrix}\\right] & \\left[\\begin{matrix}0 & 0 & 0\\\\0 & 0 & 0\\\\0 & 0 & 0\\end{matrix}\\right] & \\left[\\begin{matrix}0 & 1 & 0\\\\-1 & 0 & 0\\\\0 & 0 & 0\\end{matrix}\\right]\\end{matrix}\\right]$"
      ],
      "text/plain": [
       "[[[0, 0, 0], [0, 0, 0], [0, 0, 0]], [[0, 0, 0], [0, 0, 0], [0, 0, 0]], [[0, 1, 0], [-1, 0, 0], [0, 0, 0]]]"
      ]
     },
     "metadata": {},
     "output_type": "display_data"
    },
    {
     "name": "stdout",
     "output_type": "stream",
     "text": [
      "Help on property:\n",
      "\n",
      "    Returns the structure constants of the Lie algebra,\n",
      "    \n",
      "    that is a tensor Gamma of shape (dim,dim,dim) so that\n",
      "    self(b_i,b_j) = sum_k Gamma[^k,_i,_j] b_k\n",
      "\n"
     ]
    }
   ],
   "source": [
    "# Brackets have a description as tensor:\n",
    "display(heis.brackets.as_tensor)\n",
    "# structure constants are derived from this tensor, which is much larger than necessary\n",
    "display(heis.structure_constants)\n",
    "help(heis.__class__.structure_constants)"
   ]
  },
  {
   "cell_type": "code",
   "execution_count": 32,
   "id": "0dcfc1d0",
   "metadata": {},
   "outputs": [
    {
     "name": "stdout",
     "output_type": "stream",
     "text": [
      "heis.is_stratified =  True\n",
      "heis.is_graded =  True\n",
      "heis.is_nilpotent =  True\n",
      "heis.step =  2\n"
     ]
    }
   ],
   "source": [
    "# Lie algebras can have a grading or a stratification.\n",
    "# They both correspond to a grading of the underlying vector space.\n",
    "# `heis` is stratified, and so we declare it as such:\n",
    "heis.declare_stratified(isit = True, growth_vector = [2,1], step = 2)\n",
    "# This declaration will set other properties of `heis`, such as the nilpotency step, and simplify several algorithms, for instance for the bch formula.\n",
    "# Some methods are available only if the lie algebra is graded or stratified.\n",
    "# One can also separately declare nilpotency or grading.\n",
    "print('heis.is_stratified = ',heis.is_stratified)\n",
    "print('heis.is_graded = ',heis.is_graded)\n",
    "print('heis.is_nilpotent = ',heis.is_nilpotent)\n",
    "print('heis.step = ',heis.step)"
   ]
  },
  {
   "cell_type": "code",
   "execution_count": 33,
   "id": "50be6fdc",
   "metadata": {},
   "outputs": [
    {
     "data": {
      "text/plain": [
       "[[X, Y], [Z]]"
      ]
     },
     "metadata": {},
     "output_type": "display_data"
    },
    {
     "data": {
      "text/plain": [
       "[[b^0_0, b^0_1], [b^1_0]]"
      ]
     },
     "metadata": {},
     "output_type": "display_data"
    },
    {
     "data": {
      "text/plain": [
       "[X, Y, Z]"
      ]
     },
     "metadata": {},
     "output_type": "display_data"
    }
   ],
   "source": [
    "# Notice that at this point the automatic graded basis is recovered from the symbolic one:\n",
    "display(heis.graded_basis_symbolic)\n",
    "# If we want a graded basis with the correct indices, we can do this:\n",
    "heis._graded_basis_symbolic_build(force_build = True)\n",
    "display(heis.graded_basis_symbolic)\n",
    "# If heis.basis_symbolic was not defined already, it would be overwritten by now.\n",
    "# However, since we forced the method, heis.basis_symbolic has not been overwritten.\n",
    "display(heis.basis_symbolic)\n",
    "# HOWEVER, THIS CELL SEEM TO BREAK THE CONSTRUCTION OF THE JET SPACE"
   ]
  },
  {
   "cell_type": "code",
   "execution_count": 34,
   "id": "a79ea296",
   "metadata": {},
   "outputs": [],
   "source": [
    "# THIS CELL IS TO FIX THE DAMAGE OF THE PREVIOUS ONE.\n",
    "heis = LieAlgebra()\n",
    "heis.name = 'Heisenberg'\n",
    "heis.basis_symbolic = ['X','Y','Z']\n",
    "[X,Y,Z] = heis.basis_symbolic\n",
    "heis.brackets.rules = {(X,Y):Z}\n",
    "heis.declare_stratified(isit = True, growth_vector = [2,1], step = 2)"
   ]
  },
  {
   "cell_type": "code",
   "execution_count": 35,
   "id": "4c2756de",
   "metadata": {},
   "outputs": [
    {
     "data": {
      "text/latex": [
       "$\\displaystyle X + 2 Y + \\frac{3 Z}{2}$"
      ],
      "text/plain": [
       "X + 2*Y + 3*Z/2"
      ]
     },
     "metadata": {},
     "output_type": "display_data"
    },
    {
     "data": {
      "text/latex": [
       "$\\displaystyle \\left[\\begin{matrix}1\\\\2\\\\\\frac{3}{2}\\end{matrix}\\right]$"
      ],
      "text/plain": [
       "[[1], [2], [3/2]]"
      ]
     },
     "metadata": {},
     "output_type": "display_data"
    }
   ],
   "source": [
    "# We have an implementation of the BCH formula, which works pretty well when the group is nilpotent.\n",
    "display(heis.bch(X+Y,Y+Z))\n",
    "display(heis.bch(e1+e2,e2+e3))"
   ]
  },
  {
   "cell_type": "code",
   "execution_count": 36,
   "id": "6c64f844",
   "metadata": {},
   "outputs": [
    {
     "name": "stdout",
     "output_type": "stream",
     "text": [
      "\n",
      "        Builds self._a_basis_of_brackets_graded , self._a_basis_of_brackets , and self._a_basis_of_brackets_dict\n",
      "\n",
      "        that is, \n",
      "        a basis in coordinates for *self*\n",
      "        out of the set of all brackets of the first layer,\n",
      "        both organized in layers and flattened,\n",
      "        and a dictionary that tells you for each element of the basis which are the two vectors it is a bracket of.\n",
      "\n",
      "        Works only for stratified Lie algebras.\n",
      "        \n"
     ]
    },
    {
     "data": {
      "text/plain": [
       "[[[1], [0], [0]], [[0], [1], [0]], [[0], [0], [1]]]"
      ]
     },
     "metadata": {},
     "output_type": "display_data"
    },
    {
     "data": {
      "text/plain": [
       "[[[[1], [0], [0]], [[0], [1], [0]]], [[[0], [0], [1]]]]"
      ]
     },
     "metadata": {},
     "output_type": "display_data"
    },
    {
     "data": {
      "text/plain": [
       "{[[0], [0], [1]]: [[[1], [0], [0]], [[0], [1], [0]]]}"
      ]
     },
     "metadata": {},
     "output_type": "display_data"
    }
   ],
   "source": [
    "# there is a method that produces some technical data that are useful on Lie algebras:\n",
    "print(heis._a_basis_of_brackets_build.__doc__ )\n",
    "# this produces the following three objects (not very readable indeed)\n",
    "display(heis.a_basis_of_brackets)\n",
    "display(heis.a_basis_of_brackets_graded)\n",
    "display(heis.a_basis_of_brackets_dict)"
   ]
  },
  {
   "cell_type": "code",
   "execution_count": 37,
   "id": "639a9cad",
   "metadata": {},
   "outputs": [
    {
     "name": "stdout",
     "output_type": "stream",
     "text": [
      "\n",
      "Like self.a_basis_of_brackets_dict(), but using symbolic basis.\n",
      "        \n"
     ]
    },
    {
     "data": {
      "text/plain": [
       "{Z: X*Y - Y*X}"
      ]
     },
     "metadata": {},
     "output_type": "display_data"
    },
    {
     "name": "stdout",
     "output_type": "stream",
     "text": [
      "\n",
      "Returns a dictionary {z: x*y-y*x}\n",
      "\n",
      "so that z is the bracket x and y, and both x and y are in the first layer only.\n",
      "So, it is like self.a_basis_symbolic_of_brackets_dict(),\n",
      "but where only elements of the first layer appear\n",
      "        \n"
     ]
    },
    {
     "data": {
      "text/plain": [
       "{Z: X*Y - Y*X}"
      ]
     },
     "metadata": {},
     "output_type": "display_data"
    },
    {
     "data": {
      "text/latex": [
       "$\\displaystyle X Y - Y X$"
      ],
      "text/plain": [
       "X*Y - Y*X"
      ]
     },
     "metadata": {},
     "output_type": "display_data"
    }
   ],
   "source": [
    "# We also have similar methods that boild everything down to the first layer:\n",
    "print(heis.__class__.a_basis_symbolic_of_brackets_dict.__doc__)\n",
    "display(heis.a_basis_symbolic_of_brackets_dict)\n",
    "print(heis.__class__.a_basis_symbolic_of_brackets_dict_V1.__doc__)\n",
    "display(heis.a_basis_symbolic_of_brackets_dict_V1)\n",
    "display(heis.boil_to_V1(Z))"
   ]
  },
  {
   "cell_type": "markdown",
   "id": "b7353552",
   "metadata": {},
   "source": [
    "### SUBALGEBRAS"
   ]
  },
  {
   "cell_type": "code",
   "execution_count": 38,
   "id": "2152eea3",
   "metadata": {},
   "outputs": [
    {
     "name": "stdout",
     "output_type": "stream",
     "text": [
      "{(X1, Y1): Z, (X2, Y2): Z, (Y1, X1): -Z, (Y2, X2): -Z}\n"
     ]
    }
   ],
   "source": [
    "# This defines the second heisenberg group\n",
    "heis2 = LieAlgebra()\n",
    "heis2.name = 'Heisenberg 2'\n",
    "heis2.basis_symbolic = ['X1','Y1','X2','Y2','Z']\n",
    "[X1,Y1,X2,Y2,Z] = heis2.basis_symbolic\n",
    "heis2.brackets.rules = {(X1,Y1):Z, (X2,Y2):Z}\n",
    "print(heis2.brackets.rules)\n",
    "heis2.declare_stratified(isit = True, growth_vector = [4,1], step = 2)"
   ]
  },
  {
   "cell_type": "code",
   "execution_count": 39,
   "id": "8d74f814",
   "metadata": {},
   "outputs": [
    {
     "name": "stdout",
     "output_type": "stream",
     "text": [
      "A =  [a_0, a_1, a_2]\n",
      "W(A[0],A[1]) =  a_2\n"
     ]
    }
   ],
   "source": [
    "# A subalgebra is a new algebra defined using the ambient algebra:\n",
    "W = heis2.lie_subalgebra([X1,Y1,Z],'a')\n",
    "A = W.basis_symbolic\n",
    "print('A = ',A)\n",
    "print('W(A[0],A[1]) = ',W(A[0],A[1]))"
   ]
  },
  {
   "cell_type": "markdown",
   "id": "0522ff07",
   "metadata": {},
   "source": [
    "### MORPHISMS, EMBEDDINGS, ISOMORPHISMS"
   ]
  },
  {
   "cell_type": "code",
   "execution_count": 40,
   "id": "3aee03b9",
   "metadata": {},
   "outputs": [],
   "source": [
    "# This snipped makes this part self-contained.\n",
    "heis = LieAlgebra()\n",
    "heis.dimension = 3\n",
    "[X,Y,Z] = heis.basis_symbolic\n",
    "heis.brackets.rules = {(X,Y):Z}\n",
    "\n",
    "heis2 = LieAlgebra()\n",
    "heis2.dimension = 5\n",
    "[X1,Y1,X2,Y2,Z] = heis2.basis_symbolic\n",
    "heis2.brackets.rules = {(X1,Y1):Z, (X2,Y2):Z}\n",
    "\n",
    "W1 = heis2.lie_subalgebra([X1,Y1,Z],'a')\n",
    "\n",
    "W2 = heis2.lie_subalgebra([X1,X2,Z],'aa')"
   ]
  },
  {
   "cell_type": "code",
   "execution_count": 41,
   "id": "5a8eda17",
   "metadata": {},
   "outputs": [
    {
     "data": {
      "text/latex": [
       "$\\displaystyle \\left[\\begin{matrix}L_{0 0} & L_{0 1} & L_{0 2}\\\\L_{1 0} & L_{1 1} & L_{1 2}\\\\L_{2 0} & L_{2 1} & L_{2 2}\\end{matrix}\\right]$"
      ],
      "text/plain": [
       "Matrix([\n",
       "[L_0_0, L_0_1, L_0_2],\n",
       "[L_1_0, L_1_1, L_1_2],\n",
       "[L_2_0, L_2_1, L_2_2]])"
      ]
     },
     "metadata": {},
     "output_type": "display_data"
    },
    {
     "data": {
      "text/plain": [
       "[{L_0_2: 0, L_1_2: 0, L_2_2: L_0_0*L_1_1 - L_0_1*L_1_0}]"
      ]
     },
     "metadata": {},
     "output_type": "display_data"
    },
    {
     "data": {
      "text/latex": [
       "$\\displaystyle \\left[\\begin{matrix}L_{0 0} & L_{0 1} & 0\\\\L_{1 0} & L_{1 1} & 0\\\\L_{2 0} & L_{2 1} & L_{0 0} L_{1 1} - L_{0 1} L_{1 0}\\end{matrix}\\right]$"
      ],
      "text/plain": [
       "Matrix([\n",
       "[L_0_0, L_0_1,                         0],\n",
       "[L_1_0, L_1_1,                         0],\n",
       "[L_2_0, L_2_1, L_0_0*L_1_1 - L_0_1*L_1_0]])"
      ]
     },
     "metadata": {},
     "output_type": "display_data"
    }
   ],
   "source": [
    "# Given two Lie algebras, `heis` and `W1` in this case, \n",
    "# we can compute all lie-algebras morphism from the first to the second:\n",
    "L, sol = heis.morphisms_to(W1)\n",
    "# `L` is a generic linear map, \n",
    "# `sol` is the collection of rules on the coefficients of `L` to make `L` into a Lie algebra morphism.\n",
    "display(L.as_matrix)\n",
    "display(sol)\n",
    "# We can get a formula for lie algebra morphisms in this way:\n",
    "L.as_matrix = L.as_matrix.subs(sol[0])\n",
    "display(L.as_matrix)\n",
    "# This method is not very smart and it does not work very well beyond these simple examples."
   ]
  },
  {
   "cell_type": "code",
   "execution_count": 42,
   "id": "2c0ff1d6",
   "metadata": {
    "scrolled": true
   },
   "outputs": [
    {
     "data": {
      "text/latex": [
       "$\\displaystyle \\left[\\begin{matrix}M_{0 0} & M_{0 1} & 0\\\\M_{1 0} & M_{1 1} & 0\\\\M_{2 0} & M_{2 1} & 0\\end{matrix}\\right]$"
      ],
      "text/plain": [
       "Matrix([\n",
       "[M_0_0, M_0_1, 0],\n",
       "[M_1_0, M_1_1, 0],\n",
       "[M_2_0, M_2_1, 0]])"
      ]
     },
     "metadata": {},
     "output_type": "display_data"
    }
   ],
   "source": [
    "M, sol = heis.morphisms_to(W2,smbl='M')\n",
    "M.as_matrix = M.as_matrix.subs(sol[0])\n",
    "display(M.as_matrix)"
   ]
  },
  {
   "cell_type": "code",
   "execution_count": 43,
   "id": "a199defb",
   "metadata": {},
   "outputs": [
    {
     "data": {
      "text/latex": [
       "$\\displaystyle \\left[\\begin{matrix}K_{0 0} & K_{0 1} & 0\\\\K_{1 0} & K_{1 1} & 0\\\\K_{2 0} & K_{2 1} & 0\\\\K_{3 0} & K_{3 1} & 0\\\\K_{4 0} & K_{4 1} & K_{0 0} K_{1 1} - K_{0 1} K_{1 0} + K_{2 0} K_{3 1} - K_{2 1} K_{3 0}\\end{matrix}\\right]$"
      ],
      "text/plain": [
       "Matrix([\n",
       "[K_0_0, K_0_1,                                                     0],\n",
       "[K_1_0, K_1_1,                                                     0],\n",
       "[K_2_0, K_2_1,                                                     0],\n",
       "[K_3_0, K_3_1,                                                     0],\n",
       "[K_4_0, K_4_1, K_0_0*K_1_1 - K_0_1*K_1_0 + K_2_0*K_3_1 - K_2_1*K_3_0]])"
      ]
     },
     "metadata": {},
     "output_type": "display_data"
    }
   ],
   "source": [
    "K, sol = heis.morphisms_to(heis2,smbl='K')\n",
    "K.as_matrix = K.as_matrix.subs(sol[0])\n",
    "display(K.as_matrix)"
   ]
  },
  {
   "cell_type": "markdown",
   "id": "2178e06d",
   "metadata": {},
   "source": [
    "### JET ALGEBRAS\n",
    "$\n",
    "\\newcommand{\\R}{\\mathbb{R}}\n",
    "\\newcommand{\\Jet}{\\mathtt{Jet}}\n",
    "\\newcommand{\\g}{\\mathfrak{g}}\n",
    "$\n",
    "\n",
    "This part follows the paper\n",
    "https://arxiv.org/abs/2201.04534\n",
    "\n",
    "Given a stratified Lie algerba $\\g$, \n",
    "we define jet spaces $\\Jet^m(\\g;\\R)$\n",
    "of order $m$ with values in $\\R$.\n",
    "\n",
    "The jet space $\\Jet^m(\\g;\\R)$ is itself a Lie algebra."
   ]
  },
  {
   "cell_type": "code",
   "execution_count": 44,
   "id": "19be56d2",
   "metadata": {},
   "outputs": [],
   "source": [
    "# This snipped makes this part self-contained.\n",
    "heis = LieAlgebra()\n",
    "heis.dimension = 3\n",
    "[X,Y,Z] = heis.basis_symbolic\n",
    "heis.brackets.rules = {(X,Y):Z}\n",
    "heis.declare_stratified(isit = True, growth_vector = [2,1], step = 2)"
   ]
  },
  {
   "cell_type": "code",
   "execution_count": 45,
   "id": "f7f3373e",
   "metadata": {},
   "outputs": [
    {
     "name": "stdout",
     "output_type": "stream",
     "text": [
      "Step 1 of 7: Construct set of indices:\n",
      "[((-1, 0, 0), 0), ((0, -1, 0), 0), ((2, 0, 0), @1), ((1, 1, 0), @1), ((0, 2, 0), @1), ((0, 0, 1), @1), ((0, 0, -1), 0), ((1, 0, 0), @1), ((0, 1, 0), @1), ((0, 0, 0), @1)]\n",
      "\n",
      "Step 2 of 7: Construct HD basis:\n",
      "{((0, 0, 0), @1): @1, ((1, 0, 0), @1): @b_0*@1, ((0, 1, 0), @1): @b_1*@1, ((2, 0, 0), @1): @b_0**2*@1, ((1, 1, 0), @1): @b_0*@b_1*@1 + @b_1*@b_0*@1, ((0, 2, 0), @1): @b_1**2*@1, ((0, 0, 1), @1): -@b_0*@b_1*@1}\n",
      "\n",
      "Step 3 of 7: and outer basis:\n",
      "[b_0, b_1, @b_0**2*@1, @b_0*@b_1*@1 + @b_1*@b_0*@1, @b_1**2*@1, -@b_0*@b_1*@1, b_2, @b_0*@1, @b_1*@1, @1]\n",
      "\n",
      "Step 4 of 7: Construct sybolic basis:\n",
      "[A^0_(-1, 0, 0), A^0_(0, -1, 0), A^@1_(2, 0, 0), A^@1_(1, 1, 0), A^@1_(0, 2, 0), A^@1_(0, 0, 1), A^0_(0, 0, -1), A^@1_(1, 0, 0), A^@1_(0, 1, 0), A^@1_(0, 0, 0)]\n",
      "\n",
      "Step 5 of 7: Construct growth vector\n",
      "[6, 3, 1]\n",
      "\n",
      "Step 6 of 7: Construct functions from outer basis to the others.\n",
      "Building transformation operations: this can take a lot of time. You may want to change the source code.\n",
      "\n",
      "Step 7 of 7: Construct Lie bracket operation\n",
      "\n",
      "Done\n"
     ]
    }
   ],
   "source": [
    "heisJet = JetAlgebra()\n",
    "heisJet.name = 'Heisenberg Jet'\n",
    "heisJet.lie_algebra_domain = heis\n",
    "heisJet.order = 2\n",
    "heisJet.build_me()"
   ]
  },
  {
   "cell_type": "code",
   "execution_count": 46,
   "id": "e83430b8",
   "metadata": {},
   "outputs": [
    {
     "data": {
      "text/latex": [
       "$\\displaystyle \\left[\\begin{array}{ccccccccccc}0 & A^{0}_{(-1, 0, 0)} & A^{0}_{(0, -1, 0)} & A^{@1}_{(2, 0, 0)} & A^{@1}_{(1, 1, 0)} & A^{@1}_{(0, 2, 0)} & A^{@1}_{(0, 0, 1)} & A^{0}_{(0, 0, -1)} & A^{@1}_{(1, 0, 0)} & A^{@1}_{(0, 1, 0)} & A^{@1}_{(0, 0, 0)}\\\\A^{0}_{(-1, 0, 0)} & 0 & A^{0}_{(0, 0, -1)} & - A^{@1}_{(1, 0, 0)} & - A^{@1}_{(0, 1, 0)} & 0 & 0 & 0 & - A^{@1}_{(0, 0, 0)} & 0 & 0\\\\A^{0}_{(0, -1, 0)} & - A^{0}_{(0, 0, -1)} & 0 & 0 & - A^{@1}_{(1, 0, 0)} & - A^{@1}_{(0, 1, 0)} & A^{@1}_{(1, 0, 0)} & 0 & 0 & - A^{@1}_{(0, 0, 0)} & 0\\\\A^{@1}_{(2, 0, 0)} & A^{@1}_{(1, 0, 0)} & 0 & 0 & 0 & 0 & 0 & 0 & 0 & 0 & 0\\\\A^{@1}_{(1, 1, 0)} & A^{@1}_{(0, 1, 0)} & A^{@1}_{(1, 0, 0)} & 0 & 0 & 0 & 0 & 0 & 0 & 0 & 0\\\\A^{@1}_{(0, 2, 0)} & 0 & A^{@1}_{(0, 1, 0)} & 0 & 0 & 0 & 0 & 0 & 0 & 0 & 0\\\\A^{@1}_{(0, 0, 1)} & 0 & - A^{@1}_{(1, 0, 0)} & 0 & 0 & 0 & 0 & A^{@1}_{(0, 0, 0)} & 0 & 0 & 0\\\\A^{0}_{(0, 0, -1)} & 0 & 0 & 0 & 0 & 0 & - A^{@1}_{(0, 0, 0)} & 0 & 0 & 0 & 0\\\\A^{@1}_{(1, 0, 0)} & A^{@1}_{(0, 0, 0)} & 0 & 0 & 0 & 0 & 0 & 0 & 0 & 0 & 0\\\\A^{@1}_{(0, 1, 0)} & 0 & A^{@1}_{(0, 0, 0)} & 0 & 0 & 0 & 0 & 0 & 0 & 0 & 0\\\\A^{@1}_{(0, 0, 0)} & 0 & 0 & 0 & 0 & 0 & 0 & 0 & 0 & 0 & 0\\end{array}\\right]$"
      ],
      "text/plain": [
       "Matrix([\n",
       "[             0,  A^0_(-1, 0, 0),  A^0_(0, -1, 0),  A^@1_(2, 0, 0),  A^@1_(1, 1, 0),  A^@1_(0, 2, 0),  A^@1_(0, 0, 1), A^0_(0, 0, -1),  A^@1_(1, 0, 0),  A^@1_(0, 1, 0), A^@1_(0, 0, 0)],\n",
       "[A^0_(-1, 0, 0),               0,  A^0_(0, 0, -1), -A^@1_(1, 0, 0), -A^@1_(0, 1, 0),               0,               0,              0, -A^@1_(0, 0, 0),               0,              0],\n",
       "[A^0_(0, -1, 0), -A^0_(0, 0, -1),               0,               0, -A^@1_(1, 0, 0), -A^@1_(0, 1, 0),  A^@1_(1, 0, 0),              0,               0, -A^@1_(0, 0, 0),              0],\n",
       "[A^@1_(2, 0, 0),  A^@1_(1, 0, 0),               0,               0,               0,               0,               0,              0,               0,               0,              0],\n",
       "[A^@1_(1, 1, 0),  A^@1_(0, 1, 0),  A^@1_(1, 0, 0),               0,               0,               0,               0,              0,               0,               0,              0],\n",
       "[A^@1_(0, 2, 0),               0,  A^@1_(0, 1, 0),               0,               0,               0,               0,              0,               0,               0,              0],\n",
       "[A^@1_(0, 0, 1),               0, -A^@1_(1, 0, 0),               0,               0,               0,               0, A^@1_(0, 0, 0),               0,               0,              0],\n",
       "[A^0_(0, 0, -1),               0,               0,               0,               0,               0, -A^@1_(0, 0, 0),              0,               0,               0,              0],\n",
       "[A^@1_(1, 0, 0),  A^@1_(0, 0, 0),               0,               0,               0,               0,               0,              0,               0,               0,              0],\n",
       "[A^@1_(0, 1, 0),               0,  A^@1_(0, 0, 0),               0,               0,               0,               0,              0,               0,               0,              0],\n",
       "[A^@1_(0, 0, 0),               0,               0,               0,               0,               0,               0,              0,               0,               0,              0]])"
      ]
     },
     "metadata": {},
     "output_type": "display_data"
    }
   ],
   "source": [
    "# This snipped shows the description of the lie brackets in the jet space\n",
    "# In the output, both the first column and the first row show the standard basis of the jet space\n",
    "# Inside the matrix are the lie brackets of the corresponding elements in the basis.\n",
    "basis = []\n",
    "basis = heisJet.basis_symbolic\n",
    "dim = heisJet.dimension\n",
    "M = zeros(dim+1,dim+1)\n",
    "for i in range(dim):\n",
    "    M[i+1,0] = M[0,i+1] = basis[i]\n",
    "for i in range(dim):\n",
    "    for j in range(dim):\n",
    "#         print(i,j)\n",
    "        M[i+1,j+1] = heisJet(basis[i],basis[j])\n",
    "display(M)"
   ]
  },
  {
   "cell_type": "code",
   "execution_count": 47,
   "id": "85edc85c",
   "metadata": {},
   "outputs": [
    {
     "data": {
      "text/html": [
       "<table>\n",
       "<tbody>\n",
       "<tr><td>0             </td><td>A^0_(-1, 0, 0) </td><td>A^0_(0, -1, 0) </td><td>A^@1_(2, 0, 0) </td><td>A^@1_(1, 1, 0) </td><td>A^@1_(0, 2, 0) </td><td>A^@1_(0, 0, 1) </td><td>A^0_(0, 0, -1)</td><td>A^@1_(1, 0, 0) </td><td>A^@1_(0, 1, 0) </td><td>A^@1_(0, 0, 0)</td></tr>\n",
       "<tr><td>A^0_(-1, 0, 0)</td><td>0              </td><td>A^0_(0, 0, -1) </td><td>-A^@1_(1, 0, 0)</td><td>-A^@1_(0, 1, 0)</td><td>0              </td><td>0              </td><td>0             </td><td>-A^@1_(0, 0, 0)</td><td>0              </td><td>0             </td></tr>\n",
       "<tr><td>A^0_(0, -1, 0)</td><td>-A^0_(0, 0, -1)</td><td>0              </td><td>0              </td><td>-A^@1_(1, 0, 0)</td><td>-A^@1_(0, 1, 0)</td><td>A^@1_(1, 0, 0) </td><td>0             </td><td>0              </td><td>-A^@1_(0, 0, 0)</td><td>0             </td></tr>\n",
       "<tr><td>A^@1_(2, 0, 0)</td><td>A^@1_(1, 0, 0) </td><td>0              </td><td>0              </td><td>0              </td><td>0              </td><td>0              </td><td>0             </td><td>0              </td><td>0              </td><td>0             </td></tr>\n",
       "<tr><td>A^@1_(1, 1, 0)</td><td>A^@1_(0, 1, 0) </td><td>A^@1_(1, 0, 0) </td><td>0              </td><td>0              </td><td>0              </td><td>0              </td><td>0             </td><td>0              </td><td>0              </td><td>0             </td></tr>\n",
       "<tr><td>A^@1_(0, 2, 0)</td><td>0              </td><td>A^@1_(0, 1, 0) </td><td>0              </td><td>0              </td><td>0              </td><td>0              </td><td>0             </td><td>0              </td><td>0              </td><td>0             </td></tr>\n",
       "<tr><td>A^@1_(0, 0, 1)</td><td>0              </td><td>-A^@1_(1, 0, 0)</td><td>0              </td><td>0              </td><td>0              </td><td>0              </td><td>A^@1_(0, 0, 0)</td><td>0              </td><td>0              </td><td>0             </td></tr>\n",
       "<tr><td>A^0_(0, 0, -1)</td><td>0              </td><td>0              </td><td>0              </td><td>0              </td><td>0              </td><td>-A^@1_(0, 0, 0)</td><td>0             </td><td>0              </td><td>0              </td><td>0             </td></tr>\n",
       "<tr><td>A^@1_(1, 0, 0)</td><td>A^@1_(0, 0, 0) </td><td>0              </td><td>0              </td><td>0              </td><td>0              </td><td>0              </td><td>0             </td><td>0              </td><td>0              </td><td>0             </td></tr>\n",
       "<tr><td>A^@1_(0, 1, 0)</td><td>0              </td><td>A^@1_(0, 0, 0) </td><td>0              </td><td>0              </td><td>0              </td><td>0              </td><td>0             </td><td>0              </td><td>0              </td><td>0             </td></tr>\n",
       "<tr><td>A^@1_(0, 0, 0)</td><td>0              </td><td>0              </td><td>0              </td><td>0              </td><td>0              </td><td>0              </td><td>0             </td><td>0              </td><td>0              </td><td>0             </td></tr>\n",
       "</tbody>\n",
       "</table>"
      ],
      "text/plain": [
       "'<table>\\n<tbody>\\n<tr><td>0             </td><td>A^0_(-1, 0, 0) </td><td>A^0_(0, -1, 0) </td><td>A^@1_(2, 0, 0) </td><td>A^@1_(1, 1, 0) </td><td>A^@1_(0, 2, 0) </td><td>A^@1_(0, 0, 1) </td><td>A^0_(0, 0, -1)</td><td>A^@1_(1, 0, 0) </td><td>A^@1_(0, 1, 0) </td><td>A^@1_(0, 0, 0)</td></tr>\\n<tr><td>A^0_(-1, 0, 0)</td><td>0              </td><td>A^0_(0, 0, -1) </td><td>-A^@1_(1, 0, 0)</td><td>-A^@1_(0, 1, 0)</td><td>0              </td><td>0              </td><td>0             </td><td>-A^@1_(0, 0, 0)</td><td>0              </td><td>0             </td></tr>\\n<tr><td>A^0_(0, -1, 0)</td><td>-A^0_(0, 0, -1)</td><td>0              </td><td>0              </td><td>-A^@1_(1, 0, 0)</td><td>-A^@1_(0, 1, 0)</td><td>A^@1_(1, 0, 0) </td><td>0             </td><td>0              </td><td>-A^@1_(0, 0, 0)</td><td>0             </td></tr>\\n<tr><td>A^@1_(2, 0, 0)</td><td>A^@1_(1, 0, 0) </td><td>0              </td><td>0              </td><td>0              </td><td>0              </td><td>0              </td><td>0             </td><td>0              </td><td>0              </td><td>0             </td></tr>\\n<tr><td>A^@1_(1, 1, 0)</td><td>A^@1_(0, 1, 0) </td><td>A^@1_(1, 0, 0) </td><td>0              </td><td>0              </td><td>0              </td><td>0              </td><td>0             </td><td>0              </td><td>0              </td><td>0             </td></tr>\\n<tr><td>A^@1_(0, 2, 0)</td><td>0              </td><td>A^@1_(0, 1, 0) </td><td>0              </td><td>0              </td><td>0              </td><td>0              </td><td>0             </td><td>0              </td><td>0              </td><td>0             </td></tr>\\n<tr><td>A^@1_(0, 0, 1)</td><td>0              </td><td>-A^@1_(1, 0, 0)</td><td>0              </td><td>0              </td><td>0              </td><td>0              </td><td>A^@1_(0, 0, 0)</td><td>0              </td><td>0              </td><td>0             </td></tr>\\n<tr><td>A^0_(0, 0, -1)</td><td>0              </td><td>0              </td><td>0              </td><td>0              </td><td>0              </td><td>-A^@1_(0, 0, 0)</td><td>0             </td><td>0              </td><td>0              </td><td>0             </td></tr>\\n<tr><td>A^@1_(1, 0, 0)</td><td>A^@1_(0, 0, 0) </td><td>0              </td><td>0              </td><td>0              </td><td>0              </td><td>0              </td><td>0             </td><td>0              </td><td>0              </td><td>0             </td></tr>\\n<tr><td>A^@1_(0, 1, 0)</td><td>0              </td><td>A^@1_(0, 0, 0) </td><td>0              </td><td>0              </td><td>0              </td><td>0              </td><td>0             </td><td>0              </td><td>0              </td><td>0             </td></tr>\\n<tr><td>A^@1_(0, 0, 0)</td><td>0              </td><td>0              </td><td>0              </td><td>0              </td><td>0              </td><td>0              </td><td>0             </td><td>0              </td><td>0              </td><td>0             </td></tr>\\n</tbody>\\n</table>'"
      ]
     },
     "metadata": {},
     "output_type": "display_data"
    }
   ],
   "source": [
    "# same as above, but with a table.\n",
    "from tabulate import tabulate\n",
    "M_list = [[M[i,j] for j in range(M.cols)] for i in range(M.rows)]\n",
    "#tabella = tabulate(M_list,headers=\"firstrow\", tablefmt=\"html\")\n",
    "tabella = tabulate(M_list, tablefmt=\"html\")\n",
    "display(tabella)"
   ]
  },
  {
   "cell_type": "markdown",
   "id": "7e88c423",
   "metadata": {},
   "source": [
    "### How to show Lie algebras and other examples.\n",
    "When the Lie algebra becomes complicated, we can show it in the following manners."
   ]
  },
  {
   "cell_type": "code",
   "execution_count": 48,
   "id": "0613a1d0",
   "metadata": {},
   "outputs": [],
   "source": [
    "def show_bra(la):\n",
    "    basis = la.basis_symbolic\n",
    "    dim = la.dimension\n",
    "    M = zeros(dim+1,dim+1)\n",
    "    for i in range(dim):\n",
    "        M[i+1,0] = M[0,i+1] = basis[i]\n",
    "    for i in range(dim):\n",
    "        for j in range(dim):\n",
    "    #         print(i,j)\n",
    "            M[i+1,j+1] = la(basis[i],basis[j])\n",
    "    display(M)\n",
    "from tabulate import tabulate\n",
    "def show_bra_tab(la):\n",
    "    basis = la.basis_symbolic\n",
    "    dim = la.dimension\n",
    "    M = zeros(dim+1,dim+1)\n",
    "    for i in range(dim):\n",
    "        M[i+1,0] = M[0,i+1] = basis[i]\n",
    "    for i in range(dim):\n",
    "        for j in range(dim):\n",
    "    #         print(i,j)\n",
    "            M[i+1,j+1] = la(basis[i],basis[j])\n",
    "\n",
    "    M_list = [[M[i,j] for j in range(M.cols)] for i in range(M.rows)]\n",
    "    tabella = tabulate(M_list,headers=\"firstrow\", tablefmt=\"html\")\n",
    "    display(tabella)"
   ]
  },
  {
   "cell_type": "code",
   "execution_count": 49,
   "id": "70c85c5f",
   "metadata": {},
   "outputs": [],
   "source": [
    "latex_source_beginning = '\\\\documentclass[8pt]{amsart}\\n'\n",
    "latex_source_beginning += '\\\\usepackage[a4paper, landscape, margin=1cm]{geometry}\\n'\n",
    "latex_source_beginning += '\\\\usepackage{graphicx}\\n'\n",
    "latex_source_beginning += '\\\\usepackage{array}\\n'\n",
    "latex_source_beginning += '\\n'\n",
    "latex_source_beginning += '\\\\newcommand{\\\\dual}[1]{#1^*}\\n'\n",
    "latex_source_beginning += '\\\\newcommand{\\\\ts}{\\\\otimes}\\n'\n",
    "latex_source_beginning += '\\n'\n",
    "latex_source_beginning += '\\\\begin{document}\\n'\n",
    "latex_source_beginning += '\\\\scalebox{0.1}{\\n'\n",
    "latex_source_beginning += '\\n'\n",
    "\n",
    "latex_source_ending = '\\n'\n",
    "latex_source_ending += '}\\n'\n",
    "latex_source_ending += '\\\\end{document}'\n",
    "#print(latex_source_beginning + latex_source_ending)\n",
    "# print a latex document to show the bracket relations\n",
    "def show_bra_tex(la):\n",
    "    dim = la.dimension\n",
    "    basis = la.basis_symbolic\n",
    "    # dim = la.dimension\n",
    "\n",
    "    print(latex_source_beginning)\n",
    "    print('\\\\newcolumntype{m}{>{$}c<{$}}')\n",
    "\n",
    "    gv = la.growth_vector\n",
    "    ms = '| '\n",
    "    for d in gv:\n",
    "        ms += d*'m' + ' | '\n",
    "    ms\n",
    "    print('\\\\begin{tabular}{@{} |m ',ms,' @{}}')\n",
    "\n",
    "    # First row:\n",
    "    print('\\\\hline')\n",
    "    print('',end=' &')\n",
    "    for j in range(dim):\n",
    "        v_string = latex(basis[j])\n",
    "        v_string = v_string.replace('^{0}','')\n",
    "        v_string = v_string.replace('^{@1}','')\n",
    "        if j < dim-1:\n",
    "            print(' '+v_string,end=' &')\n",
    "        else:\n",
    "            print(' '+v_string,end=' \\\\\\\\ \\n')\n",
    "\n",
    "    print('\\\\hline')\n",
    "\n",
    "    # Other rows:\n",
    "\n",
    "    gr_vect = la.growth_vector\n",
    "    thresholds_layers = [sum(gr_vect[:i]) for i in range(1,la.step) ]\n",
    "    # print(gr_vect)\n",
    "    # print(thresholds_layers)\n",
    "    for i in range(dim):\n",
    "        if i in thresholds_layers:\n",
    "            print('\\\\hline')\n",
    "        v_string = latex(basis[i])\n",
    "        v_string = v_string.replace('^{0}','')\n",
    "        v_string = v_string.replace('^{@1}','')\n",
    "        print(v_string,end = ' &')\n",
    "        for j in range(dim):\n",
    "            v = la(basis[i],basis[j]) \n",
    "            v_string = latex(v)\n",
    "            v_string = v_string.replace('^{0}','')\n",
    "    #         v_string = v_string.replace('^0','')\n",
    "            v_string = v_string.replace('^{@1}','')\n",
    "    #         v_string = v_string.replace('\\^\\@1','')\n",
    "            if j < dim-1:\n",
    "                print(' ' + v_string, end = ' &')\n",
    "            else:\n",
    "                print(' ' + v_string, end = ' \\\\\\\\ \\n')\n",
    "    print('\\\\hline')\n",
    "\n",
    "    print('\\\\end{tabular}')\n",
    "\n",
    "    print(latex_source_ending)"
   ]
  },
  {
   "cell_type": "code",
   "execution_count": 50,
   "id": "97dc44a6",
   "metadata": {},
   "outputs": [
    {
     "data": {
      "text/html": [
       "<table>\n",
       "<thead>\n",
       "<tr><th>0  </th><th>X1  </th><th>Y1  </th><th>X2  </th><th>Y2  </th><th style=\"text-align: right;\">  Z</th></tr>\n",
       "</thead>\n",
       "<tbody>\n",
       "<tr><td>X1 </td><td>0   </td><td>Z   </td><td>0   </td><td>0   </td><td style=\"text-align: right;\">  0</td></tr>\n",
       "<tr><td>Y1 </td><td>-Z  </td><td>0   </td><td>0   </td><td>0   </td><td style=\"text-align: right;\">  0</td></tr>\n",
       "<tr><td>X2 </td><td>0   </td><td>0   </td><td>0   </td><td>Z   </td><td style=\"text-align: right;\">  0</td></tr>\n",
       "<tr><td>Y2 </td><td>0   </td><td>0   </td><td>-Z  </td><td>0   </td><td style=\"text-align: right;\">  0</td></tr>\n",
       "<tr><td>Z  </td><td>0   </td><td>0   </td><td>0   </td><td>0   </td><td style=\"text-align: right;\">  0</td></tr>\n",
       "</tbody>\n",
       "</table>"
      ],
      "text/plain": [
       "'<table>\\n<thead>\\n<tr><th>0  </th><th>X1  </th><th>Y1  </th><th>X2  </th><th>Y2  </th><th style=\"text-align: right;\">  Z</th></tr>\\n</thead>\\n<tbody>\\n<tr><td>X1 </td><td>0   </td><td>Z   </td><td>0   </td><td>0   </td><td style=\"text-align: right;\">  0</td></tr>\\n<tr><td>Y1 </td><td>-Z  </td><td>0   </td><td>0   </td><td>0   </td><td style=\"text-align: right;\">  0</td></tr>\\n<tr><td>X2 </td><td>0   </td><td>0   </td><td>0   </td><td>Z   </td><td style=\"text-align: right;\">  0</td></tr>\\n<tr><td>Y2 </td><td>0   </td><td>0   </td><td>-Z  </td><td>0   </td><td style=\"text-align: right;\">  0</td></tr>\\n<tr><td>Z  </td><td>0   </td><td>0   </td><td>0   </td><td>0   </td><td style=\"text-align: right;\">  0</td></tr>\\n</tbody>\\n</table>'"
      ]
     },
     "metadata": {},
     "output_type": "display_data"
    }
   ],
   "source": [
    "# Second heisenberg group:\n",
    "heis2 = LieAlgebra()\n",
    "heis2.name = 'Heisenberg 2'\n",
    "heis2.basis_symbolic = ['X1','Y1','X2','Y2','Z']\n",
    "[X1,Y1,X2,Y2,Z] = heis2.basis_symbolic\n",
    "heis2.brackets.rules = {(X1,Y1):Z, (X2,Y2):Z}\n",
    "heis2.declare_stratified(growth_vector = [4,1])\n",
    "show_bra_tab(heis2)"
   ]
  },
  {
   "cell_type": "code",
   "execution_count": 51,
   "id": "1269d3a4",
   "metadata": {},
   "outputs": [
    {
     "name": "stdout",
     "output_type": "stream",
     "text": [
      "\\documentclass[8pt]{amsart}\n",
      "\\usepackage[a4paper, landscape, margin=1cm]{geometry}\n",
      "\\usepackage{graphicx}\n",
      "\\usepackage{array}\n",
      "\n",
      "\\newcommand{\\dual}[1]{#1^*}\n",
      "\\newcommand{\\ts}{\\otimes}\n",
      "\n",
      "\\begin{document}\n",
      "\\scalebox{0.1}{\n",
      "\n",
      "\n",
      "\\newcolumntype{m}{>{$}c<{$}}\n",
      "\\begin{tabular}{@{} |m  | mmmm | m |   @{}}\n",
      "\\hline\n",
      " & X_{1} & Y_{1} & X_{2} & Y_{2} & Z \\\\ \n",
      "\\hline\n",
      "X_{1} & 0 & Z & 0 & 0 & 0 \\\\ \n",
      "Y_{1} & - Z & 0 & 0 & 0 & 0 \\\\ \n",
      "X_{2} & 0 & 0 & 0 & Z & 0 \\\\ \n",
      "Y_{2} & 0 & 0 & - Z & 0 & 0 \\\\ \n",
      "\\hline\n",
      "Z & 0 & 0 & 0 & 0 & 0 \\\\ \n",
      "\\hline\n",
      "\\end{tabular}\n",
      "\n",
      "}\n",
      "\\end{document}\n"
     ]
    }
   ],
   "source": [
    "show_bra_tex(heis2)"
   ]
  },
  {
   "cell_type": "code",
   "execution_count": 52,
   "id": "3d2b1ea9",
   "metadata": {},
   "outputs": [
    {
     "name": "stdout",
     "output_type": "stream",
     "text": [
      "Step 1 of 7: Construct set of indices:\n",
      "[((-1, 0, 0, 0, 0), 0), ((0, -1, 0, 0, 0), 0), ((0, 0, -1, 0, 0), 0), ((0, 0, 0, -1, 0), 0), ((2, 0, 0, 0, 0), @1), ((1, 1, 0, 0, 0), @1), ((1, 0, 1, 0, 0), @1), ((1, 0, 0, 1, 0), @1), ((0, 2, 0, 0, 0), @1), ((0, 1, 1, 0, 0), @1), ((0, 1, 0, 1, 0), @1), ((0, 0, 2, 0, 0), @1), ((0, 0, 1, 1, 0), @1), ((0, 0, 0, 2, 0), @1), ((0, 0, 0, 0, 1), @1), ((0, 0, 0, 0, -1), 0), ((1, 0, 0, 0, 0), @1), ((0, 1, 0, 0, 0), @1), ((0, 0, 1, 0, 0), @1), ((0, 0, 0, 1, 0), @1), ((0, 0, 0, 0, 0), @1)]\n",
      "\n",
      "Step 2 of 7: Construct HD basis:\n",
      "{((0, 0, 0, 0, 0), @1): @1, ((1, 0, 0, 0, 0), @1): @X1*@1, ((0, 1, 0, 0, 0), @1): @Y1*@1, ((0, 0, 1, 0, 0), @1): @X2*@1, ((0, 0, 0, 1, 0), @1): @Y2*@1, ((2, 0, 0, 0, 0), @1): @X1**2*@1, ((1, 1, 0, 0, 0), @1): @X1*@Y1*@1 + @Y1*@X1*@1, ((1, 0, 1, 0, 0), @1): @X1*@X2*@1 + @X2*@X1*@1, ((1, 0, 0, 1, 0), @1): @X1*@Y2*@1 + @Y2*@X1*@1, ((0, 2, 0, 0, 0), @1): @Y1**2*@1, ((0, 1, 1, 0, 0), @1): @X2*@Y1*@1 + @Y1*@X2*@1, ((0, 1, 0, 1, 0), @1): @Y1*@Y2*@1 + @Y2*@Y1*@1, ((0, 0, 2, 0, 0), @1): @X2**2*@1, ((0, 0, 1, 1, 0), @1): @X2*@Y2*@1 + @Y2*@X2*@1, ((0, 0, 0, 2, 0), @1): @Y2**2*@1, ((0, 0, 0, 0, 1), @1): -@X1*@Y1*@1 - @X2*@Y2*@1}\n",
      "\n",
      "Step 3 of 7: and outer basis:\n",
      "[X1, Y1, X2, Y2, @X1**2*@1, @X1*@Y1*@1 + @Y1*@X1*@1, @X1*@X2*@1 + @X2*@X1*@1, @X1*@Y2*@1 + @Y2*@X1*@1, @Y1**2*@1, @X2*@Y1*@1 + @Y1*@X2*@1, @Y1*@Y2*@1 + @Y2*@Y1*@1, @X2**2*@1, @X2*@Y2*@1 + @Y2*@X2*@1, @Y2**2*@1, -@X1*@Y1*@1 - @X2*@Y2*@1, Z, @X1*@1, @Y1*@1, @X2*@1, @Y2*@1, @1]\n",
      "\n",
      "Step 4 of 7: Construct sybolic basis:\n",
      "[A^0_(-1, 0, 0, 0, 0), A^0_(0, -1, 0, 0, 0), A^0_(0, 0, -1, 0, 0), A^0_(0, 0, 0, -1, 0), A^@1_(2, 0, 0, 0, 0), A^@1_(1, 1, 0, 0, 0), A^@1_(1, 0, 1, 0, 0), A^@1_(1, 0, 0, 1, 0), A^@1_(0, 2, 0, 0, 0), A^@1_(0, 1, 1, 0, 0), A^@1_(0, 1, 0, 1, 0), A^@1_(0, 0, 2, 0, 0), A^@1_(0, 0, 1, 1, 0), A^@1_(0, 0, 0, 2, 0), A^@1_(0, 0, 0, 0, 1), A^0_(0, 0, 0, 0, -1), A^@1_(1, 0, 0, 0, 0), A^@1_(0, 1, 0, 0, 0), A^@1_(0, 0, 1, 0, 0), A^@1_(0, 0, 0, 1, 0), A^@1_(0, 0, 0, 0, 0)]\n",
      "\n",
      "Step 5 of 7: Construct growth vector\n",
      "[15, 5, 1]\n",
      "\n",
      "Step 6 of 7: Construct functions from outer basis to the others.\n",
      "Building transformation operations: this can take a lot of time. You may want to change the source code.\n",
      "\n",
      "Step 7 of 7: Construct Lie bracket operation\n",
      "\n",
      "Done\n"
     ]
    }
   ],
   "source": [
    "# Jet space of order 2 over the second Heisenberg algebra:\n",
    "# NB! This snipped takes some time to be evaluated.\n",
    "heis2_jet2_1 = JetAlgebra()\n",
    "heis2_jet2_1.name = 'Jet of order 2 and rank 1 over heis2'\n",
    "heis2_jet2_1.lie_algebra_domain = heis2\n",
    "# heis2_jet2_1.target_vector_space = R\n",
    "heis2_jet2_1.order = 2\n",
    "heis2_jet2_1.build_me()"
   ]
  },
  {
   "cell_type": "code",
   "execution_count": 53,
   "id": "87b28b47",
   "metadata": {},
   "outputs": [
    {
     "data": {
      "text/html": [
       "<table>\n",
       "<thead>\n",
       "<tr><th>0                   </th><th>A^0_(-1, 0, 0, 0, 0)  </th><th>A^0_(0, -1, 0, 0, 0)  </th><th>A^0_(0, 0, -1, 0, 0)  </th><th>A^0_(0, 0, 0, -1, 0)  </th><th>A^@1_(2, 0, 0, 0, 0)  </th><th>A^@1_(1, 1, 0, 0, 0)  </th><th>A^@1_(1, 0, 1, 0, 0)  </th><th>A^@1_(1, 0, 0, 1, 0)  </th><th>A^@1_(0, 2, 0, 0, 0)  </th><th>A^@1_(0, 1, 1, 0, 0)  </th><th>A^@1_(0, 1, 0, 1, 0)  </th><th>A^@1_(0, 0, 2, 0, 0)  </th><th>A^@1_(0, 0, 1, 1, 0)  </th><th>A^@1_(0, 0, 0, 2, 0)  </th><th>A^@1_(0, 0, 0, 0, 1)  </th><th>A^0_(0, 0, 0, 0, -1)  </th><th>A^@1_(1, 0, 0, 0, 0)  </th><th>A^@1_(0, 1, 0, 0, 0)  </th><th>A^@1_(0, 0, 1, 0, 0)  </th><th>A^@1_(0, 0, 0, 1, 0)  </th><th style=\"text-align: right;\">  A^@1_(0, 0, 0, 0, 0)</th></tr>\n",
       "</thead>\n",
       "<tbody>\n",
       "<tr><td>A^0_(-1, 0, 0, 0, 0)</td><td>0                     </td><td>A^0_(0, 0, 0, 0, -1)  </td><td>0                     </td><td>0                     </td><td>-A^@1_(1, 0, 0, 0, 0) </td><td>-A^@1_(0, 1, 0, 0, 0) </td><td>-A^@1_(0, 0, 1, 0, 0) </td><td>-A^@1_(0, 0, 0, 1, 0) </td><td>0                     </td><td>0                     </td><td>0                     </td><td>0                     </td><td>0                     </td><td>0                     </td><td>0                     </td><td>0                     </td><td>-A^@1_(0, 0, 0, 0, 0) </td><td>0                     </td><td>0                     </td><td>0                     </td><td style=\"text-align: right;\">                     0</td></tr>\n",
       "<tr><td>A^0_(0, -1, 0, 0, 0)</td><td>-A^0_(0, 0, 0, 0, -1) </td><td>0                     </td><td>0                     </td><td>0                     </td><td>0                     </td><td>-A^@1_(1, 0, 0, 0, 0) </td><td>0                     </td><td>0                     </td><td>-A^@1_(0, 1, 0, 0, 0) </td><td>-A^@1_(0, 0, 1, 0, 0) </td><td>-A^@1_(0, 0, 0, 1, 0) </td><td>0                     </td><td>0                     </td><td>0                     </td><td>A^@1_(1, 0, 0, 0, 0)  </td><td>0                     </td><td>0                     </td><td>-A^@1_(0, 0, 0, 0, 0) </td><td>0                     </td><td>0                     </td><td style=\"text-align: right;\">                     0</td></tr>\n",
       "<tr><td>A^0_(0, 0, -1, 0, 0)</td><td>0                     </td><td>0                     </td><td>0                     </td><td>A^0_(0, 0, 0, 0, -1)  </td><td>0                     </td><td>0                     </td><td>-A^@1_(1, 0, 0, 0, 0) </td><td>0                     </td><td>0                     </td><td>-A^@1_(0, 1, 0, 0, 0) </td><td>0                     </td><td>-A^@1_(0, 0, 1, 0, 0) </td><td>-A^@1_(0, 0, 0, 1, 0) </td><td>0                     </td><td>0                     </td><td>0                     </td><td>0                     </td><td>0                     </td><td>-A^@1_(0, 0, 0, 0, 0) </td><td>0                     </td><td style=\"text-align: right;\">                     0</td></tr>\n",
       "<tr><td>A^0_(0, 0, 0, -1, 0)</td><td>0                     </td><td>0                     </td><td>-A^0_(0, 0, 0, 0, -1) </td><td>0                     </td><td>0                     </td><td>0                     </td><td>0                     </td><td>-A^@1_(1, 0, 0, 0, 0) </td><td>0                     </td><td>0                     </td><td>-A^@1_(0, 1, 0, 0, 0) </td><td>0                     </td><td>-A^@1_(0, 0, 1, 0, 0) </td><td>-A^@1_(0, 0, 0, 1, 0) </td><td>A^@1_(0, 0, 1, 0, 0)  </td><td>0                     </td><td>0                     </td><td>0                     </td><td>0                     </td><td>-A^@1_(0, 0, 0, 0, 0) </td><td style=\"text-align: right;\">                     0</td></tr>\n",
       "<tr><td>A^@1_(2, 0, 0, 0, 0)</td><td>A^@1_(1, 0, 0, 0, 0)  </td><td>0                     </td><td>0                     </td><td>0                     </td><td>0                     </td><td>0                     </td><td>0                     </td><td>0                     </td><td>0                     </td><td>0                     </td><td>0                     </td><td>0                     </td><td>0                     </td><td>0                     </td><td>0                     </td><td>0                     </td><td>0                     </td><td>0                     </td><td>0                     </td><td>0                     </td><td style=\"text-align: right;\">                     0</td></tr>\n",
       "<tr><td>A^@1_(1, 1, 0, 0, 0)</td><td>A^@1_(0, 1, 0, 0, 0)  </td><td>A^@1_(1, 0, 0, 0, 0)  </td><td>0                     </td><td>0                     </td><td>0                     </td><td>0                     </td><td>0                     </td><td>0                     </td><td>0                     </td><td>0                     </td><td>0                     </td><td>0                     </td><td>0                     </td><td>0                     </td><td>0                     </td><td>0                     </td><td>0                     </td><td>0                     </td><td>0                     </td><td>0                     </td><td style=\"text-align: right;\">                     0</td></tr>\n",
       "<tr><td>A^@1_(1, 0, 1, 0, 0)</td><td>A^@1_(0, 0, 1, 0, 0)  </td><td>0                     </td><td>A^@1_(1, 0, 0, 0, 0)  </td><td>0                     </td><td>0                     </td><td>0                     </td><td>0                     </td><td>0                     </td><td>0                     </td><td>0                     </td><td>0                     </td><td>0                     </td><td>0                     </td><td>0                     </td><td>0                     </td><td>0                     </td><td>0                     </td><td>0                     </td><td>0                     </td><td>0                     </td><td style=\"text-align: right;\">                     0</td></tr>\n",
       "<tr><td>A^@1_(1, 0, 0, 1, 0)</td><td>A^@1_(0, 0, 0, 1, 0)  </td><td>0                     </td><td>0                     </td><td>A^@1_(1, 0, 0, 0, 0)  </td><td>0                     </td><td>0                     </td><td>0                     </td><td>0                     </td><td>0                     </td><td>0                     </td><td>0                     </td><td>0                     </td><td>0                     </td><td>0                     </td><td>0                     </td><td>0                     </td><td>0                     </td><td>0                     </td><td>0                     </td><td>0                     </td><td style=\"text-align: right;\">                     0</td></tr>\n",
       "<tr><td>A^@1_(0, 2, 0, 0, 0)</td><td>0                     </td><td>A^@1_(0, 1, 0, 0, 0)  </td><td>0                     </td><td>0                     </td><td>0                     </td><td>0                     </td><td>0                     </td><td>0                     </td><td>0                     </td><td>0                     </td><td>0                     </td><td>0                     </td><td>0                     </td><td>0                     </td><td>0                     </td><td>0                     </td><td>0                     </td><td>0                     </td><td>0                     </td><td>0                     </td><td style=\"text-align: right;\">                     0</td></tr>\n",
       "<tr><td>A^@1_(0, 1, 1, 0, 0)</td><td>0                     </td><td>A^@1_(0, 0, 1, 0, 0)  </td><td>A^@1_(0, 1, 0, 0, 0)  </td><td>0                     </td><td>0                     </td><td>0                     </td><td>0                     </td><td>0                     </td><td>0                     </td><td>0                     </td><td>0                     </td><td>0                     </td><td>0                     </td><td>0                     </td><td>0                     </td><td>0                     </td><td>0                     </td><td>0                     </td><td>0                     </td><td>0                     </td><td style=\"text-align: right;\">                     0</td></tr>\n",
       "<tr><td>A^@1_(0, 1, 0, 1, 0)</td><td>0                     </td><td>A^@1_(0, 0, 0, 1, 0)  </td><td>0                     </td><td>A^@1_(0, 1, 0, 0, 0)  </td><td>0                     </td><td>0                     </td><td>0                     </td><td>0                     </td><td>0                     </td><td>0                     </td><td>0                     </td><td>0                     </td><td>0                     </td><td>0                     </td><td>0                     </td><td>0                     </td><td>0                     </td><td>0                     </td><td>0                     </td><td>0                     </td><td style=\"text-align: right;\">                     0</td></tr>\n",
       "<tr><td>A^@1_(0, 0, 2, 0, 0)</td><td>0                     </td><td>0                     </td><td>A^@1_(0, 0, 1, 0, 0)  </td><td>0                     </td><td>0                     </td><td>0                     </td><td>0                     </td><td>0                     </td><td>0                     </td><td>0                     </td><td>0                     </td><td>0                     </td><td>0                     </td><td>0                     </td><td>0                     </td><td>0                     </td><td>0                     </td><td>0                     </td><td>0                     </td><td>0                     </td><td style=\"text-align: right;\">                     0</td></tr>\n",
       "<tr><td>A^@1_(0, 0, 1, 1, 0)</td><td>0                     </td><td>0                     </td><td>A^@1_(0, 0, 0, 1, 0)  </td><td>A^@1_(0, 0, 1, 0, 0)  </td><td>0                     </td><td>0                     </td><td>0                     </td><td>0                     </td><td>0                     </td><td>0                     </td><td>0                     </td><td>0                     </td><td>0                     </td><td>0                     </td><td>0                     </td><td>0                     </td><td>0                     </td><td>0                     </td><td>0                     </td><td>0                     </td><td style=\"text-align: right;\">                     0</td></tr>\n",
       "<tr><td>A^@1_(0, 0, 0, 2, 0)</td><td>0                     </td><td>0                     </td><td>0                     </td><td>A^@1_(0, 0, 0, 1, 0)  </td><td>0                     </td><td>0                     </td><td>0                     </td><td>0                     </td><td>0                     </td><td>0                     </td><td>0                     </td><td>0                     </td><td>0                     </td><td>0                     </td><td>0                     </td><td>0                     </td><td>0                     </td><td>0                     </td><td>0                     </td><td>0                     </td><td style=\"text-align: right;\">                     0</td></tr>\n",
       "<tr><td>A^@1_(0, 0, 0, 0, 1)</td><td>0                     </td><td>-A^@1_(1, 0, 0, 0, 0) </td><td>0                     </td><td>-A^@1_(0, 0, 1, 0, 0) </td><td>0                     </td><td>0                     </td><td>0                     </td><td>0                     </td><td>0                     </td><td>0                     </td><td>0                     </td><td>0                     </td><td>0                     </td><td>0                     </td><td>0                     </td><td>A^@1_(0, 0, 0, 0, 0)  </td><td>0                     </td><td>0                     </td><td>0                     </td><td>0                     </td><td style=\"text-align: right;\">                     0</td></tr>\n",
       "<tr><td>A^0_(0, 0, 0, 0, -1)</td><td>0                     </td><td>0                     </td><td>0                     </td><td>0                     </td><td>0                     </td><td>0                     </td><td>0                     </td><td>0                     </td><td>0                     </td><td>0                     </td><td>0                     </td><td>0                     </td><td>0                     </td><td>0                     </td><td>-A^@1_(0, 0, 0, 0, 0) </td><td>0                     </td><td>0                     </td><td>0                     </td><td>0                     </td><td>0                     </td><td style=\"text-align: right;\">                     0</td></tr>\n",
       "<tr><td>A^@1_(1, 0, 0, 0, 0)</td><td>A^@1_(0, 0, 0, 0, 0)  </td><td>0                     </td><td>0                     </td><td>0                     </td><td>0                     </td><td>0                     </td><td>0                     </td><td>0                     </td><td>0                     </td><td>0                     </td><td>0                     </td><td>0                     </td><td>0                     </td><td>0                     </td><td>0                     </td><td>0                     </td><td>0                     </td><td>0                     </td><td>0                     </td><td>0                     </td><td style=\"text-align: right;\">                     0</td></tr>\n",
       "<tr><td>A^@1_(0, 1, 0, 0, 0)</td><td>0                     </td><td>A^@1_(0, 0, 0, 0, 0)  </td><td>0                     </td><td>0                     </td><td>0                     </td><td>0                     </td><td>0                     </td><td>0                     </td><td>0                     </td><td>0                     </td><td>0                     </td><td>0                     </td><td>0                     </td><td>0                     </td><td>0                     </td><td>0                     </td><td>0                     </td><td>0                     </td><td>0                     </td><td>0                     </td><td style=\"text-align: right;\">                     0</td></tr>\n",
       "<tr><td>A^@1_(0, 0, 1, 0, 0)</td><td>0                     </td><td>0                     </td><td>A^@1_(0, 0, 0, 0, 0)  </td><td>0                     </td><td>0                     </td><td>0                     </td><td>0                     </td><td>0                     </td><td>0                     </td><td>0                     </td><td>0                     </td><td>0                     </td><td>0                     </td><td>0                     </td><td>0                     </td><td>0                     </td><td>0                     </td><td>0                     </td><td>0                     </td><td>0                     </td><td style=\"text-align: right;\">                     0</td></tr>\n",
       "<tr><td>A^@1_(0, 0, 0, 1, 0)</td><td>0                     </td><td>0                     </td><td>0                     </td><td>A^@1_(0, 0, 0, 0, 0)  </td><td>0                     </td><td>0                     </td><td>0                     </td><td>0                     </td><td>0                     </td><td>0                     </td><td>0                     </td><td>0                     </td><td>0                     </td><td>0                     </td><td>0                     </td><td>0                     </td><td>0                     </td><td>0                     </td><td>0                     </td><td>0                     </td><td style=\"text-align: right;\">                     0</td></tr>\n",
       "<tr><td>A^@1_(0, 0, 0, 0, 0)</td><td>0                     </td><td>0                     </td><td>0                     </td><td>0                     </td><td>0                     </td><td>0                     </td><td>0                     </td><td>0                     </td><td>0                     </td><td>0                     </td><td>0                     </td><td>0                     </td><td>0                     </td><td>0                     </td><td>0                     </td><td>0                     </td><td>0                     </td><td>0                     </td><td>0                     </td><td>0                     </td><td style=\"text-align: right;\">                     0</td></tr>\n",
       "</tbody>\n",
       "</table>"
      ],
      "text/plain": [
       "'<table>\\n<thead>\\n<tr><th>0                   </th><th>A^0_(-1, 0, 0, 0, 0)  </th><th>A^0_(0, -1, 0, 0, 0)  </th><th>A^0_(0, 0, -1, 0, 0)  </th><th>A^0_(0, 0, 0, -1, 0)  </th><th>A^@1_(2, 0, 0, 0, 0)  </th><th>A^@1_(1, 1, 0, 0, 0)  </th><th>A^@1_(1, 0, 1, 0, 0)  </th><th>A^@1_(1, 0, 0, 1, 0)  </th><th>A^@1_(0, 2, 0, 0, 0)  </th><th>A^@1_(0, 1, 1, 0, 0)  </th><th>A^@1_(0, 1, 0, 1, 0)  </th><th>A^@1_(0, 0, 2, 0, 0)  </th><th>A^@1_(0, 0, 1, 1, 0)  </th><th>A^@1_(0, 0, 0, 2, 0)  </th><th>A^@1_(0, 0, 0, 0, 1)  </th><th>A^0_(0, 0, 0, 0, -1)  </th><th>A^@1_(1, 0, 0, 0, 0)  </th><th>A^@1_(0, 1, 0, 0, 0)  </th><th>A^@1_(0, 0, 1, 0, 0)  </th><th>A^@1_(0, 0, 0, 1, 0)  </th><th style=\"text-align: right;\">  A^@1_(0, 0, 0, 0, 0)</th></tr>\\n</thead>\\n<tbody>\\n<tr><td>A^0_(-1, 0, 0, 0, 0)</td><td>0                     </td><td>A^0_(0, 0, 0, 0, -1)  </td><td>0                     </td><td>0                     </td><td>-A^@1_(1, 0, 0, 0, 0) </td><td>-A^@1_(0, 1, 0, 0, 0) </td><td>-A^@1_(0, 0, 1, 0, 0) </td><td>-A^@1_(0, 0, 0, 1, 0) </td><td>0                     </td><td>0                     </td><td>0                     </td><td>0                     </td><td>0                     </td><td>0                     </td><td>0                     </td><td>0                     </td><td>-A^@1_(0, 0, 0, 0, 0) </td><td>0                     </td><td>0                     </td><td>0                     </td><td style=\"text-align: right;\">                     0</td></tr>\\n<tr><td>A^0_(0, -1, 0, 0, 0)</td><td>-A^0_(0, 0, 0, 0, -1) </td><td>0                     </td><td>0                     </td><td>0                     </td><td>0                     </td><td>-A^@1_(1, 0, 0, 0, 0) </td><td>0                     </td><td>0                     </td><td>-A^@1_(0, 1, 0, 0, 0) </td><td>-A^@1_(0, 0, 1, 0, 0) </td><td>-A^@1_(0, 0, 0, 1, 0) </td><td>0                     </td><td>0                     </td><td>0                     </td><td>A^@1_(1, 0, 0, 0, 0)  </td><td>0                     </td><td>0                     </td><td>-A^@1_(0, 0, 0, 0, 0) </td><td>0                     </td><td>0                     </td><td style=\"text-align: right;\">                     0</td></tr>\\n<tr><td>A^0_(0, 0, -1, 0, 0)</td><td>0                     </td><td>0                     </td><td>0                     </td><td>A^0_(0, 0, 0, 0, -1)  </td><td>0                     </td><td>0                     </td><td>-A^@1_(1, 0, 0, 0, 0) </td><td>0                     </td><td>0                     </td><td>-A^@1_(0, 1, 0, 0, 0) </td><td>0                     </td><td>-A^@1_(0, 0, 1, 0, 0) </td><td>-A^@1_(0, 0, 0, 1, 0) </td><td>0                     </td><td>0                     </td><td>0                     </td><td>0                     </td><td>0                     </td><td>-A^@1_(0, 0, 0, 0, 0) </td><td>0                     </td><td style=\"text-align: right;\">                     0</td></tr>\\n<tr><td>A^0_(0, 0, 0, -1, 0)</td><td>0                     </td><td>0                     </td><td>-A^0_(0, 0, 0, 0, -1) </td><td>0                     </td><td>0                     </td><td>0                     </td><td>0                     </td><td>-A^@1_(1, 0, 0, 0, 0) </td><td>0                     </td><td>0                     </td><td>-A^@1_(0, 1, 0, 0, 0) </td><td>0                     </td><td>-A^@1_(0, 0, 1, 0, 0) </td><td>-A^@1_(0, 0, 0, 1, 0) </td><td>A^@1_(0, 0, 1, 0, 0)  </td><td>0                     </td><td>0                     </td><td>0                     </td><td>0                     </td><td>-A^@1_(0, 0, 0, 0, 0) </td><td style=\"text-align: right;\">                     0</td></tr>\\n<tr><td>A^@1_(2, 0, 0, 0, 0)</td><td>A^@1_(1, 0, 0, 0, 0)  </td><td>0                     </td><td>0                     </td><td>0                     </td><td>0                     </td><td>0                     </td><td>0                     </td><td>0                     </td><td>0                     </td><td>0                     </td><td>0                     </td><td>0                     </td><td>0                     </td><td>0                     </td><td>0                     </td><td>0                     </td><td>0                     </td><td>0                     </td><td>0                     </td><td>0                     </td><td style=\"text-align: right;\">                     0</td></tr>\\n<tr><td>A^@1_(1, 1, 0, 0, 0)</td><td>A^@1_(0, 1, 0, 0, 0)  </td><td>A^@1_(1, 0, 0, 0, 0)  </td><td>0                     </td><td>0                     </td><td>0                     </td><td>0                     </td><td>0                     </td><td>0                     </td><td>0                     </td><td>0                     </td><td>0                     </td><td>0                     </td><td>0                     </td><td>0                     </td><td>0                     </td><td>0                     </td><td>0                     </td><td>0                     </td><td>0                     </td><td>0                     </td><td style=\"text-align: right;\">                     0</td></tr>\\n<tr><td>A^@1_(1, 0, 1, 0, 0)</td><td>A^@1_(0, 0, 1, 0, 0)  </td><td>0                     </td><td>A^@1_(1, 0, 0, 0, 0)  </td><td>0                     </td><td>0                     </td><td>0                     </td><td>0                     </td><td>0                     </td><td>0                     </td><td>0                     </td><td>0                     </td><td>0                     </td><td>0                     </td><td>0                     </td><td>0                     </td><td>0                     </td><td>0                     </td><td>0                     </td><td>0                     </td><td>0                     </td><td style=\"text-align: right;\">                     0</td></tr>\\n<tr><td>A^@1_(1, 0, 0, 1, 0)</td><td>A^@1_(0, 0, 0, 1, 0)  </td><td>0                     </td><td>0                     </td><td>A^@1_(1, 0, 0, 0, 0)  </td><td>0                     </td><td>0                     </td><td>0                     </td><td>0                     </td><td>0                     </td><td>0                     </td><td>0                     </td><td>0                     </td><td>0                     </td><td>0                     </td><td>0                     </td><td>0                     </td><td>0                     </td><td>0                     </td><td>0                     </td><td>0                     </td><td style=\"text-align: right;\">                     0</td></tr>\\n<tr><td>A^@1_(0, 2, 0, 0, 0)</td><td>0                     </td><td>A^@1_(0, 1, 0, 0, 0)  </td><td>0                     </td><td>0                     </td><td>0                     </td><td>0                     </td><td>0                     </td><td>0                     </td><td>0                     </td><td>0                     </td><td>0                     </td><td>0                     </td><td>0                     </td><td>0                     </td><td>0                     </td><td>0                     </td><td>0                     </td><td>0                     </td><td>0                     </td><td>0                     </td><td style=\"text-align: right;\">                     0</td></tr>\\n<tr><td>A^@1_(0, 1, 1, 0, 0)</td><td>0                     </td><td>A^@1_(0, 0, 1, 0, 0)  </td><td>A^@1_(0, 1, 0, 0, 0)  </td><td>0                     </td><td>0                     </td><td>0                     </td><td>0                     </td><td>0                     </td><td>0                     </td><td>0                     </td><td>0                     </td><td>0                     </td><td>0                     </td><td>0                     </td><td>0                     </td><td>0                     </td><td>0                     </td><td>0                     </td><td>0                     </td><td>0                     </td><td style=\"text-align: right;\">                     0</td></tr>\\n<tr><td>A^@1_(0, 1, 0, 1, 0)</td><td>0                     </td><td>A^@1_(0, 0, 0, 1, 0)  </td><td>0                     </td><td>A^@1_(0, 1, 0, 0, 0)  </td><td>0                     </td><td>0                     </td><td>0                     </td><td>0                     </td><td>0                     </td><td>0                     </td><td>0                     </td><td>0                     </td><td>0                     </td><td>0                     </td><td>0                     </td><td>0                     </td><td>0                     </td><td>0                     </td><td>0                     </td><td>0                     </td><td style=\"text-align: right;\">                     0</td></tr>\\n<tr><td>A^@1_(0, 0, 2, 0, 0)</td><td>0                     </td><td>0                     </td><td>A^@1_(0, 0, 1, 0, 0)  </td><td>0                     </td><td>0                     </td><td>0                     </td><td>0                     </td><td>0                     </td><td>0                     </td><td>0                     </td><td>0                     </td><td>0                     </td><td>0                     </td><td>0                     </td><td>0                     </td><td>0                     </td><td>0                     </td><td>0                     </td><td>0                     </td><td>0                     </td><td style=\"text-align: right;\">                     0</td></tr>\\n<tr><td>A^@1_(0, 0, 1, 1, 0)</td><td>0                     </td><td>0                     </td><td>A^@1_(0, 0, 0, 1, 0)  </td><td>A^@1_(0, 0, 1, 0, 0)  </td><td>0                     </td><td>0                     </td><td>0                     </td><td>0                     </td><td>0                     </td><td>0                     </td><td>0                     </td><td>0                     </td><td>0                     </td><td>0                     </td><td>0                     </td><td>0                     </td><td>0                     </td><td>0                     </td><td>0                     </td><td>0                     </td><td style=\"text-align: right;\">                     0</td></tr>\\n<tr><td>A^@1_(0, 0, 0, 2, 0)</td><td>0                     </td><td>0                     </td><td>0                     </td><td>A^@1_(0, 0, 0, 1, 0)  </td><td>0                     </td><td>0                     </td><td>0                     </td><td>0                     </td><td>0                     </td><td>0                     </td><td>0                     </td><td>0                     </td><td>0                     </td><td>0                     </td><td>0                     </td><td>0                     </td><td>0                     </td><td>0                     </td><td>0                     </td><td>0                     </td><td style=\"text-align: right;\">                     0</td></tr>\\n<tr><td>A^@1_(0, 0, 0, 0, 1)</td><td>0                     </td><td>-A^@1_(1, 0, 0, 0, 0) </td><td>0                     </td><td>-A^@1_(0, 0, 1, 0, 0) </td><td>0                     </td><td>0                     </td><td>0                     </td><td>0                     </td><td>0                     </td><td>0                     </td><td>0                     </td><td>0                     </td><td>0                     </td><td>0                     </td><td>0                     </td><td>A^@1_(0, 0, 0, 0, 0)  </td><td>0                     </td><td>0                     </td><td>0                     </td><td>0                     </td><td style=\"text-align: right;\">                     0</td></tr>\\n<tr><td>A^0_(0, 0, 0, 0, -1)</td><td>0                     </td><td>0                     </td><td>0                     </td><td>0                     </td><td>0                     </td><td>0                     </td><td>0                     </td><td>0                     </td><td>0                     </td><td>0                     </td><td>0                     </td><td>0                     </td><td>0                     </td><td>0                     </td><td>-A^@1_(0, 0, 0, 0, 0) </td><td>0                     </td><td>0                     </td><td>0                     </td><td>0                     </td><td>0                     </td><td style=\"text-align: right;\">                     0</td></tr>\\n<tr><td>A^@1_(1, 0, 0, 0, 0)</td><td>A^@1_(0, 0, 0, 0, 0)  </td><td>0                     </td><td>0                     </td><td>0                     </td><td>0                     </td><td>0                     </td><td>0                     </td><td>0                     </td><td>0                     </td><td>0                     </td><td>0                     </td><td>0                     </td><td>0                     </td><td>0                     </td><td>0                     </td><td>0                     </td><td>0                     </td><td>0                     </td><td>0                     </td><td>0                     </td><td style=\"text-align: right;\">                     0</td></tr>\\n<tr><td>A^@1_(0, 1, 0, 0, 0)</td><td>0                     </td><td>A^@1_(0, 0, 0, 0, 0)  </td><td>0                     </td><td>0                     </td><td>0                     </td><td>0                     </td><td>0                     </td><td>0                     </td><td>0                     </td><td>0                     </td><td>0                     </td><td>0                     </td><td>0                     </td><td>0                     </td><td>0                     </td><td>0                     </td><td>0                     </td><td>0                     </td><td>0                     </td><td>0                     </td><td style=\"text-align: right;\">                     0</td></tr>\\n<tr><td>A^@1_(0, 0, 1, 0, 0)</td><td>0                     </td><td>0                     </td><td>A^@1_(0, 0, 0, 0, 0)  </td><td>0                     </td><td>0                     </td><td>0                     </td><td>0                     </td><td>0                     </td><td>0                     </td><td>0                     </td><td>0                     </td><td>0                     </td><td>0                     </td><td>0                     </td><td>0                     </td><td>0                     </td><td>0                     </td><td>0                     </td><td>0                     </td><td>0                     </td><td style=\"text-align: right;\">                     0</td></tr>\\n<tr><td>A^@1_(0, 0, 0, 1, 0)</td><td>0                     </td><td>0                     </td><td>0                     </td><td>A^@1_(0, 0, 0, 0, 0)  </td><td>0                     </td><td>0                     </td><td>0                     </td><td>0                     </td><td>0                     </td><td>0                     </td><td>0                     </td><td>0                     </td><td>0                     </td><td>0                     </td><td>0                     </td><td>0                     </td><td>0                     </td><td>0                     </td><td>0                     </td><td>0                     </td><td style=\"text-align: right;\">                     0</td></tr>\\n<tr><td>A^@1_(0, 0, 0, 0, 0)</td><td>0                     </td><td>0                     </td><td>0                     </td><td>0                     </td><td>0                     </td><td>0                     </td><td>0                     </td><td>0                     </td><td>0                     </td><td>0                     </td><td>0                     </td><td>0                     </td><td>0                     </td><td>0                     </td><td>0                     </td><td>0                     </td><td>0                     </td><td>0                     </td><td>0                     </td><td>0                     </td><td style=\"text-align: right;\">                     0</td></tr>\\n</tbody>\\n</table>'"
      ]
     },
     "metadata": {},
     "output_type": "display_data"
    }
   ],
   "source": [
    "show_bra_tab(heis2_jet2_1)"
   ]
  },
  {
   "cell_type": "code",
   "execution_count": 54,
   "id": "a4bb5d70",
   "metadata": {},
   "outputs": [
    {
     "name": "stdout",
     "output_type": "stream",
     "text": [
      "\\documentclass[8pt]{amsart}\n",
      "\\usepackage[a4paper, landscape, margin=1cm]{geometry}\n",
      "\\usepackage{graphicx}\n",
      "\\usepackage{array}\n",
      "\n",
      "\\newcommand{\\dual}[1]{#1^*}\n",
      "\\newcommand{\\ts}{\\otimes}\n",
      "\n",
      "\\begin{document}\n",
      "\\scalebox{0.1}{\n",
      "\n",
      "\n",
      "\\newcolumntype{m}{>{$}c<{$}}\n",
      "\\begin{tabular}{@{} |m  | mmmmmmmmmmmmmmm | mmmmm | m |   @{}}\n",
      "\\hline\n",
      " & A_{(-1, 0, 0, 0, 0)} & A_{(0, -1, 0, 0, 0)} & A_{(0, 0, -1, 0, 0)} & A_{(0, 0, 0, -1, 0)} & A_{(2, 0, 0, 0, 0)} & A_{(1, 1, 0, 0, 0)} & A_{(1, 0, 1, 0, 0)} & A_{(1, 0, 0, 1, 0)} & A_{(0, 2, 0, 0, 0)} & A_{(0, 1, 1, 0, 0)} & A_{(0, 1, 0, 1, 0)} & A_{(0, 0, 2, 0, 0)} & A_{(0, 0, 1, 1, 0)} & A_{(0, 0, 0, 2, 0)} & A_{(0, 0, 0, 0, 1)} & A_{(0, 0, 0, 0, -1)} & A_{(1, 0, 0, 0, 0)} & A_{(0, 1, 0, 0, 0)} & A_{(0, 0, 1, 0, 0)} & A_{(0, 0, 0, 1, 0)} & A_{(0, 0, 0, 0, 0)} \\\\ \n",
      "\\hline\n",
      "A_{(-1, 0, 0, 0, 0)} & 0 & A_{(0, 0, 0, 0, -1)} & 0 & 0 & - A_{(1, 0, 0, 0, 0)} & - A_{(0, 1, 0, 0, 0)} & - A_{(0, 0, 1, 0, 0)} & - A_{(0, 0, 0, 1, 0)} & 0 & 0 & 0 & 0 & 0 & 0 & 0 & 0 & - A_{(0, 0, 0, 0, 0)} & 0 & 0 & 0 & 0 \\\\ \n",
      "A_{(0, -1, 0, 0, 0)} & - A_{(0, 0, 0, 0, -1)} & 0 & 0 & 0 & 0 & - A_{(1, 0, 0, 0, 0)} & 0 & 0 & - A_{(0, 1, 0, 0, 0)} & - A_{(0, 0, 1, 0, 0)} & - A_{(0, 0, 0, 1, 0)} & 0 & 0 & 0 & A_{(1, 0, 0, 0, 0)} & 0 & 0 & - A_{(0, 0, 0, 0, 0)} & 0 & 0 & 0 \\\\ \n",
      "A_{(0, 0, -1, 0, 0)} & 0 & 0 & 0 & A_{(0, 0, 0, 0, -1)} & 0 & 0 & - A_{(1, 0, 0, 0, 0)} & 0 & 0 & - A_{(0, 1, 0, 0, 0)} & 0 & - A_{(0, 0, 1, 0, 0)} & - A_{(0, 0, 0, 1, 0)} & 0 & 0 & 0 & 0 & 0 & - A_{(0, 0, 0, 0, 0)} & 0 & 0 \\\\ \n",
      "A_{(0, 0, 0, -1, 0)} & 0 & 0 & - A_{(0, 0, 0, 0, -1)} & 0 & 0 & 0 & 0 & - A_{(1, 0, 0, 0, 0)} & 0 & 0 & - A_{(0, 1, 0, 0, 0)} & 0 & - A_{(0, 0, 1, 0, 0)} & - A_{(0, 0, 0, 1, 0)} & A_{(0, 0, 1, 0, 0)} & 0 & 0 & 0 & 0 & - A_{(0, 0, 0, 0, 0)} & 0 \\\\ \n",
      "A_{(2, 0, 0, 0, 0)} & A_{(1, 0, 0, 0, 0)} & 0 & 0 & 0 & 0 & 0 & 0 & 0 & 0 & 0 & 0 & 0 & 0 & 0 & 0 & 0 & 0 & 0 & 0 & 0 & 0 \\\\ \n",
      "A_{(1, 1, 0, 0, 0)} & A_{(0, 1, 0, 0, 0)} & A_{(1, 0, 0, 0, 0)} & 0 & 0 & 0 & 0 & 0 & 0 & 0 & 0 & 0 & 0 & 0 & 0 & 0 & 0 & 0 & 0 & 0 & 0 & 0 \\\\ \n",
      "A_{(1, 0, 1, 0, 0)} & A_{(0, 0, 1, 0, 0)} & 0 & A_{(1, 0, 0, 0, 0)} & 0 & 0 & 0 & 0 & 0 & 0 & 0 & 0 & 0 & 0 & 0 & 0 & 0 & 0 & 0 & 0 & 0 & 0 \\\\ \n",
      "A_{(1, 0, 0, 1, 0)} & A_{(0, 0, 0, 1, 0)} & 0 & 0 & A_{(1, 0, 0, 0, 0)} & 0 & 0 & 0 & 0 & 0 & 0 & 0 & 0 & 0 & 0 & 0 & 0 & 0 & 0 & 0 & 0 & 0 \\\\ \n",
      "A_{(0, 2, 0, 0, 0)} & 0 & A_{(0, 1, 0, 0, 0)} & 0 & 0 & 0 & 0 & 0 & 0 & 0 & 0 & 0 & 0 & 0 & 0 & 0 & 0 & 0 & 0 & 0 & 0 & 0 \\\\ \n",
      "A_{(0, 1, 1, 0, 0)} & 0 & A_{(0, 0, 1, 0, 0)} & A_{(0, 1, 0, 0, 0)} & 0 & 0 & 0 & 0 & 0 & 0 & 0 & 0 & 0 & 0 & 0 & 0 & 0 & 0 & 0 & 0 & 0 & 0 \\\\ \n",
      "A_{(0, 1, 0, 1, 0)} & 0 & A_{(0, 0, 0, 1, 0)} & 0 & A_{(0, 1, 0, 0, 0)} & 0 & 0 & 0 & 0 & 0 & 0 & 0 & 0 & 0 & 0 & 0 & 0 & 0 & 0 & 0 & 0 & 0 \\\\ \n",
      "A_{(0, 0, 2, 0, 0)} & 0 & 0 & A_{(0, 0, 1, 0, 0)} & 0 & 0 & 0 & 0 & 0 & 0 & 0 & 0 & 0 & 0 & 0 & 0 & 0 & 0 & 0 & 0 & 0 & 0 \\\\ \n",
      "A_{(0, 0, 1, 1, 0)} & 0 & 0 & A_{(0, 0, 0, 1, 0)} & A_{(0, 0, 1, 0, 0)} & 0 & 0 & 0 & 0 & 0 & 0 & 0 & 0 & 0 & 0 & 0 & 0 & 0 & 0 & 0 & 0 & 0 \\\\ \n",
      "A_{(0, 0, 0, 2, 0)} & 0 & 0 & 0 & A_{(0, 0, 0, 1, 0)} & 0 & 0 & 0 & 0 & 0 & 0 & 0 & 0 & 0 & 0 & 0 & 0 & 0 & 0 & 0 & 0 & 0 \\\\ \n",
      "A_{(0, 0, 0, 0, 1)} & 0 & - A_{(1, 0, 0, 0, 0)} & 0 & - A_{(0, 0, 1, 0, 0)} & 0 & 0 & 0 & 0 & 0 & 0 & 0 & 0 & 0 & 0 & 0 & A_{(0, 0, 0, 0, 0)} & 0 & 0 & 0 & 0 & 0 \\\\ \n",
      "\\hline\n",
      "A_{(0, 0, 0, 0, -1)} & 0 & 0 & 0 & 0 & 0 & 0 & 0 & 0 & 0 & 0 & 0 & 0 & 0 & 0 & - A_{(0, 0, 0, 0, 0)} & 0 & 0 & 0 & 0 & 0 & 0 \\\\ \n",
      "A_{(1, 0, 0, 0, 0)} & A_{(0, 0, 0, 0, 0)} & 0 & 0 & 0 & 0 & 0 & 0 & 0 & 0 & 0 & 0 & 0 & 0 & 0 & 0 & 0 & 0 & 0 & 0 & 0 & 0 \\\\ \n",
      "A_{(0, 1, 0, 0, 0)} & 0 & A_{(0, 0, 0, 0, 0)} & 0 & 0 & 0 & 0 & 0 & 0 & 0 & 0 & 0 & 0 & 0 & 0 & 0 & 0 & 0 & 0 & 0 & 0 & 0 \\\\ \n",
      "A_{(0, 0, 1, 0, 0)} & 0 & 0 & A_{(0, 0, 0, 0, 0)} & 0 & 0 & 0 & 0 & 0 & 0 & 0 & 0 & 0 & 0 & 0 & 0 & 0 & 0 & 0 & 0 & 0 & 0 \\\\ \n",
      "A_{(0, 0, 0, 1, 0)} & 0 & 0 & 0 & A_{(0, 0, 0, 0, 0)} & 0 & 0 & 0 & 0 & 0 & 0 & 0 & 0 & 0 & 0 & 0 & 0 & 0 & 0 & 0 & 0 & 0 \\\\ \n",
      "\\hline\n",
      "A_{(0, 0, 0, 0, 0)} & 0 & 0 & 0 & 0 & 0 & 0 & 0 & 0 & 0 & 0 & 0 & 0 & 0 & 0 & 0 & 0 & 0 & 0 & 0 & 0 & 0 \\\\ \n",
      "\\hline\n",
      "\\end{tabular}\n",
      "\n",
      "}\n",
      "\\end{document}\n"
     ]
    }
   ],
   "source": [
    "show_bra_tex(heis2_jet2_1)"
   ]
  },
  {
   "cell_type": "code",
   "execution_count": 55,
   "id": "75397e54",
   "metadata": {},
   "outputs": [
    {
     "name": "stdout",
     "output_type": "stream",
     "text": [
      "\\documentclass[8pt]{amsart}\n",
      "\\usepackage[a4paper, landscape, margin=1cm]{geometry}\n",
      "\\usepackage{graphicx}\n",
      "\\usepackage{array}\n",
      "\n",
      "\\newcommand{\\dual}[1]{#1^*}\n",
      "\\newcommand{\\ts}{\\otimes}\n",
      "\n",
      "\\begin{document}\n",
      "\\scalebox{0.1}{\n",
      "\n",
      "\n",
      "\\newcolumntype{m}{>{$}c<{$}}\n",
      "\\begin{tabular}{@{}  | mmmmmmmmmmmmmmm | mmmmm | m |   @{}}\n",
      "\\hline\n",
      " 1 & 2 & 3 & 4 & 5 & 6 & 7 & 8 & 9 & 10 & 11 & 12 & 13 & 14 & 15 & 16 & 17 & 18 & 19 & 20 & 21 \\\\ \n",
      " (-1, 0, 0, 0, 0) & (0, -1, 0, 0, 0) & (0, 0, -1, 0, 0) & (0, 0, 0, -1, 0) & (2, 0, 0, 0, 0) & (1, 1, 0, 0, 0) & (1, 0, 1, 0, 0) & (1, 0, 0, 1, 0) & (0, 2, 0, 0, 0) & (0, 1, 1, 0, 0) & (0, 1, 0, 1, 0) & (0, 0, 2, 0, 0) & (0, 0, 1, 1, 0) & (0, 0, 0, 2, 0) & (0, 0, 0, 0, 1) & (0, 0, 0, 0, -1) & (1, 0, 0, 0, 0) & (0, 1, 0, 0, 0) & (0, 0, 1, 0, 0) & (0, 0, 0, 1, 0) & (0, 0, 0, 0, 0) \\\\ \n",
      " A_{(-1, 0, 0, 0, 0)} & A_{(0, -1, 0, 0, 0)} & A_{(0, 0, -1, 0, 0)} & A_{(0, 0, 0, -1, 0)} & A_{(2, 0, 0, 0, 0)} & A_{(1, 1, 0, 0, 0)} & A_{(1, 0, 1, 0, 0)} & A_{(1, 0, 0, 1, 0)} & A_{(0, 2, 0, 0, 0)} & A_{(0, 1, 1, 0, 0)} & A_{(0, 1, 0, 1, 0)} & A_{(0, 0, 2, 0, 0)} & A_{(0, 0, 1, 1, 0)} & A_{(0, 0, 0, 2, 0)} & A_{(0, 0, 0, 0, 1)} & A_{(0, 0, 0, 0, -1)} & A_{(1, 0, 0, 0, 0)} & A_{(0, 1, 0, 0, 0)} & A_{(0, 0, 1, 0, 0)} & A_{(0, 0, 0, 1, 0)} & A_{(0, 0, 0, 0, 0)} \\\\ \n",
      " X_{1} & Y_{1} & X_{2} & Y_{2} & \\dual{X_1}\\ts\\dual{X_1} & \\dual{X}_1\\ts\\dual{Y}_1 + \\dual{Y}_1\\ts\\dual{X}_1 & \\dual{X}_1\\ts\\dual{X}_2 + \\dual{X}_2\\ts\\dual{X}_1 & \\dual{X}_1\\ts\\dual{Y}_2 + \\dual{Y}_2\\ts\\dual{X}_1 & \\dual{Y_1}\\ts\\dual{Y_1} & \\dual{X}_2\\ts\\dual{Y}_1 + \\dual{Y}_1\\ts\\dual{X}_2 & \\dual{Y}_1\\ts\\dual{Y}_2 + \\dual{Y}_2\\ts\\dual{Y}_1 & \\dual{X_2}\\ts\\dual{X_2} & \\dual{X}_2\\ts\\dual{Y}_2 + \\dual{Y}_2\\ts\\dual{X}_2 & \\dual{Y_2}\\ts\\dual{Y_2} & - \\dual{X}_1\\ts\\dual{Y}_1 - \\dual{X}_2\\ts\\dual{Y}_2 & Z & \\dual{X}_1 & \\dual{Y}_1 & \\dual{X}_2 & \\dual{Y}_2 & T \\\\ \n",
      "\\hline\n",
      "\\end{tabular}\n",
      "\n",
      "}\n",
      "\\end{document}\n"
     ]
    }
   ],
   "source": [
    "# Print the rows of the latex table for the dictionary between the two ways to show the basis\n",
    "la = heis2_jet2_1\n",
    "dim = la.dimension\n",
    "basis_s = la.basis_symbolic\n",
    "basis_o = la.basis_outer\n",
    "# dim = la.dimension\n",
    "print(latex_source_beginning)\n",
    "print('\\\\newcolumntype{m}{>{$}c<{$}}')\n",
    "\n",
    "gv = la.growth_vector\n",
    "ms = '| '\n",
    "for d in gv:\n",
    "    ms += d*'m' + ' | '\n",
    "ms\n",
    "\n",
    "print('\\\\begin{tabular}{@{} ',ms,' @{}}')\n",
    "print('\\\\hline')\n",
    "for j in range(dim):\n",
    "    if j < dim-1:\n",
    "        print(' ' + str(j+1),end=' &')\n",
    "    else:\n",
    "        print(' ' + str(j+1),end=' \\\\\\\\ \\n')\n",
    "\n",
    "# print('\\\\hline')\n",
    "for j in range(dim):\n",
    "    idx = la.indices[j][0]\n",
    "    if j < dim-1:\n",
    "        print(' ' + str(idx),end=' &')\n",
    "    else:\n",
    "        print(' ' + str(idx),end=' \\\\\\\\ \\n')\n",
    "\n",
    "# print('\\\\hline')\n",
    "for j in range(dim):\n",
    "    v_string = latex(basis_s[j])\n",
    "    v_string = v_string.replace('^{0}','')\n",
    "    v_string = v_string.replace('^{@1}','')\n",
    "    if j < dim-1:\n",
    "        print(' '+v_string,end=' &')\n",
    "    else:\n",
    "        print(' '+v_string,end=' \\\\\\\\ \\n')\n",
    "\n",
    "# for j in range(dim):\n",
    "#     v_string = latex(basis_o[j])\n",
    "#     v_string = v_string.replace('^{0}','')\n",
    "#     v_string = v_string.replace('^{@1}','')\n",
    "#     if j < dim-1:\n",
    "#         print(' '+v_string,end=' &')\n",
    "#     else:\n",
    "#         print(' '+v_string,end=' \\\\\\\\ \\n')       \n",
    "        \n",
    "squared = '@X^{2}'\n",
    "squared_ts = '\\\\dual{X}\\\\ts\\\\dual{X}'\n",
    "dual = '@X'\n",
    "dual_ts = '\\dual{X}'\n",
    "def clean_me(v):\n",
    "    v_string = latex(v,mul_symbol='\\\\ts')\n",
    "    v_string = v_string.replace('\\\\ts@1','')\n",
    "    v_string = v_string.replace('@1','')\n",
    "    v_string = v_string.replace( 'X1' , 'X_1' )\n",
    "    v_string = v_string.replace( 'X2' , 'X_2' )\n",
    "    v_string = v_string.replace( 'Y1' , 'Y_1' )\n",
    "    v_string = v_string.replace( 'Y2' , 'Y_2' )\n",
    "    v_string = v_string.replace( squared.replace('X','X_1') , squared_ts.replace('X','X_1') )\n",
    "    v_string = v_string.replace( squared.replace('X','X_2') , squared_ts.replace('X','X_2') )\n",
    "    v_string = v_string.replace( squared.replace('X','Y_1') , squared_ts.replace('X','Y_1') )\n",
    "    v_string = v_string.replace( squared.replace('X','Y_2') , squared_ts.replace('X','Y_2') )\n",
    "    v_string = v_string.replace( dual , dual_ts )\n",
    "    v_string = v_string.replace( dual.replace('X','Y') , dual_ts.replace('X','Y') )\n",
    "    v_string = v_string.replace('*','\\\\ts')\n",
    "    return v_string\n",
    "\n",
    "# print('\\\\hline')\n",
    "for j in range(dim):\n",
    "    v_string = clean_me(basis_o[j])\n",
    "    if j < dim-1:\n",
    "        print(' ' + v_string, end = ' &')\n",
    "    else:\n",
    "        print(' ' + 'T', end = ' \\\\\\\\ \\n')   \n",
    "print('\\\\hline')\n",
    "print('\\\\end{tabular}')\n",
    "\n",
    "print(latex_source_ending)"
   ]
  },
  {
   "cell_type": "code",
   "execution_count": null,
   "id": "91938c0c",
   "metadata": {},
   "outputs": [],
   "source": []
  }
 ],
 "metadata": {
  "kernelspec": {
   "display_name": "Python 3 (ipykernel)",
   "language": "python",
   "name": "python3"
  },
  "language_info": {
   "codemirror_mode": {
    "name": "ipython",
    "version": 3
   },
   "file_extension": ".py",
   "mimetype": "text/x-python",
   "name": "python",
   "nbconvert_exporter": "python",
   "pygments_lexer": "ipython3",
   "version": "3.11.4"
  }
 },
 "nbformat": 4,
 "nbformat_minor": 5
}
